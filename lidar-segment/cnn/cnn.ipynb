{
 "cells": [
  {
   "cell_type": "markdown",
   "metadata": {},
   "source": [
    "# A model for small images"
   ]
  },
  {
   "cell_type": "code",
   "execution_count": 41,
   "metadata": {},
   "outputs": [],
   "source": [
    "import torch\n",
    "import torch.nn.functional as F\n",
    "import torchvision.datasets as datasets\n",
    "import torchvision.transforms as transforms\n",
    "from torch import optim\n",
    "from torch import nn\n",
    "from torch.utils.data import DataLoader\n",
    "from tqdm import tqdm\n",
    "import matplotlib.pyplot as plt\n",
    "from torch.utils.data import Dataset, DataLoader\n",
    "import pandas as pd\n",
    "import numpy as np\n",
    "import os\n",
    "import io\n",
    "from skimage import io\n",
    "from pathlib import Path\n",
    "from PIL import Image"
   ]
  },
  {
   "cell_type": "code",
   "execution_count": 42,
   "metadata": {},
   "outputs": [],
   "source": [
    "def draw_training_cost(training_cost, validation_cost=None):\n",
    "    plt.plot(training_cost, label=\"training cost\")\n",
    "    if validation_cost:\n",
    "        plt.plot(validation_cost, label=\"validation cost\")\n",
    "    plt.xlabel(\"Training iterations\")\n",
    "    plt.ylabel(\"Log of cost\")\n",
    "    plt.yscale(\"log\")\n",
    "    plt.legend()\n",
    "    plt.show()"
   ]
  },
  {
   "cell_type": "code",
   "execution_count": 43,
   "metadata": {},
   "outputs": [],
   "source": [
    "class CNN(nn.Module):\n",
    "    def __init__(self, in_channels=3, num_classes=2):\n",
    "        \"\"\"\n",
    "        Parameters:\n",
    "            in_channels: int\n",
    "                The number of channels in the input image\n",
    "        \"\"\"\n",
    "        super(CNN, self).__init__()\n",
    "\n",
    "        # First convolutional layer: 1 input channel, 8 output channels, 3x3 kernel, stride 1, padding 1\n",
    "        self.conv1 = nn.Conv2d(in_channels=in_channels, out_channels=8, kernel_size=3, stride=1, padding=1)\n",
    "        # Max pooling layer: 2x2 window, stride 2\n",
    "        self.pool = nn.MaxPool2d(kernel_size=2, stride=2)\n",
    "        # Second convolutional layer: 8 input channels, 16 output channels, 3x3 kernel, stride 1, padding 1\n",
    "        self.conv2 = nn.Conv2d(in_channels=8, out_channels=16, kernel_size=3, stride=1, padding=1)\n",
    "        # Fully connected layer: 16*7*7 input features (after two 2x2 poolings), 10 output features (num_classes)\n",
    "        self.fc1 = nn.Linear(16 * 16 * 16, num_classes)\n",
    "\n",
    "    def forward(self, x):\n",
    "        x = F.relu(self.conv1(x))  # Apply first convolution and ReLU activation\n",
    "        x = self.pool(x)           # Apply max pooling\n",
    "        x = F.relu(self.conv2(x))  # Apply second convolution and ReLU activation\n",
    "        x = self.pool(x)           # Apply max pooling\n",
    "        x = x.reshape(x.shape[0], -1)  # Flatten the tensor\n",
    "        x = self.fc1(x)            # Apply fully connected layer\n",
    "        # Taille de sortie : (len_dataloader, 2)\n",
    "        return x"
   ]
  },
  {
   "cell_type": "code",
   "execution_count": 44,
   "metadata": {},
   "outputs": [],
   "source": [
    "class ImageDataset(Dataset):\n",
    "    def __init__(self, csv_file, root_dir, transform=None):\n",
    "        self.csv = pd.read_csv(csv_file)\n",
    "        self.root_dir = root_dir\n",
    "        self.transform = transform\n",
    "        self.label_map = {\"building\": 0, \"leaves\": 1}  # Mapping texte → nombre\n",
    "\n",
    "    def __len__(self):\n",
    "        return len(self.csv)\n",
    "\n",
    "    def __getitem__(self, idx):\n",
    "        img_name = os.path.join(self.root_dir, self.csv.iloc[idx, 0])\n",
    "        label = self.label_map[self.csv.iloc[idx, 1]]\n",
    "\n",
    "        image = Image.open(img_name).convert(\"RGB\")  # Ouvre l'image en RGB\n",
    "\n",
    "        if self.transform:\n",
    "            image = self.transform(image)\n",
    "\n",
    "        return image, torch.tensor(label, dtype=torch.int64)\n"
   ]
  },
  {
   "cell_type": "code",
   "execution_count": 45,
   "metadata": {},
   "outputs": [
    {
     "name": "stdout",
     "output_type": "stream",
     "text": [
      "21\n",
      "torch.Size([])\n",
      "torch.Size([])\n",
      "torch.Size([])\n",
      "torch.Size([3, 64, 64])\n",
      "torch.Size([3, 64, 64])\n",
      "torch.Size([3, 64, 64])\n"
     ]
    }
   ],
   "source": [
    "transform = transforms.Compose([\n",
    "    transforms.Resize((64, 64)),  # Toutes les images seront en 64x64\n",
    "    transforms.ToTensor(),  # Convertit en [0,1]\n",
    "    transforms.Normalize(mean=[0.5, 0.5, 0.5], std=[0.5, 0.5, 0.5])  # Normalisation [-1,1]\n",
    "])\n",
    "\n",
    "population_all = ImageDataset(csv_file=\"data.csv\", root_dir=\"./\", transform=transform)\n",
    "print(len(population_all))\n",
    "# Output of population_all[0] is a tuple (image, label)\n",
    "# Size of the output should be torch.Size([3, 64, 64]) and torch.Size([])\n",
    "# Where 3 is the number of channels in the image\n",
    "print(population_all[0][1].shape)\n",
    "print(population_all[4][1].shape)\n",
    "print(population_all[9][1].shape)\n",
    "print(population_all[0][0].shape)\n",
    "print(population_all[4][0].shape)\n",
    "print(population_all[9][0].shape)"
   ]
  },
  {
   "cell_type": "code",
   "execution_count": 46,
   "metadata": {},
   "outputs": [
    {
     "name": "stdout",
     "output_type": "stream",
     "text": [
      "Size of the whole set: 21\n",
      "Size of the training set: 14\n",
      "Size of the validation set: 2\n",
      "Size of the test set: 5\n"
     ]
    }
   ],
   "source": [
    "\n",
    "size_all = len(population_all)\n",
    "size_train = int(0.7 * size_all)\n",
    "size_valid = int(0.1 * size_all)\n",
    "size_test = size_all - (size_train + size_valid)\n",
    "\n",
    "\n",
    "(population_train, population_valid, population_test) = torch.utils.data.random_split(population_all, [size_train, size_valid, size_test])\n",
    "\n",
    "print(\"Size of the whole set:\", len(population_all))\n",
    "print(\"Size of the training set:\", len(population_train))\n",
    "print(\"Size of the validation set:\", len(population_valid))\n",
    "print(\"Size of the test set:\", len(population_test))"
   ]
  },
  {
   "cell_type": "code",
   "execution_count": 47,
   "metadata": {},
   "outputs": [],
   "source": [
    "cnn = CNN(3)\n",
    "\n",
    "learning_rate=0.1\n",
    "linear_optimizer = torch.optim.SGD(cnn.parameters(), lr=learning_rate)\n",
    "crossentropyloss_loss = torch.nn.CrossEntropyLoss()"
   ]
  },
  {
   "cell_type": "code",
   "execution_count": 48,
   "metadata": {},
   "outputs": [],
   "source": [
    "def train(model, dataset, optimizer, criterion, epochs, batch_size):\n",
    "    dataloader = DataLoader(dataset, batch_size=batch_size, shuffle=True)\n",
    "    \n",
    "    loss_history = list()\n",
    "\n",
    "    for i in range(epochs):\n",
    "        for (x, y) in dataloader:\n",
    "            #print(\"x : \",x)\n",
    "            #print(\"y : \",y)\n",
    "            # Forward\n",
    "            optimizer.zero_grad()\n",
    "            y_pred = model(x)\n",
    "            loss = criterion(y_pred, y)\n",
    "\n",
    "            # Log\n",
    "            loss_history.append(loss.detach())\n",
    "\n",
    "            #Backward\n",
    "            loss.backward()\n",
    "            optimizer.step()\n",
    "\n",
    "        print(\"%.2f\" % (((i+1)/epochs)*100) + '%' + \" of epochs done.\" , end=\"\\r\")\n",
    "    return loss_history\n"
   ]
  },
  {
   "cell_type": "code",
   "execution_count": 49,
   "metadata": {},
   "outputs": [],
   "source": [
    "%%script true # skip this cell when run all, it only show the first training cost without validation\n",
    "\n",
    "train_log = train(cnn, population_train, linear_optimizer, crossentropyloss_loss, epochs=1000, batch_size=128)\n",
    "\n",
    "# Plot\n",
    "draw_training_cost(train_log)"
   ]
  },
  {
   "cell_type": "code",
   "execution_count": 50,
   "metadata": {},
   "outputs": [],
   "source": [
    "cnn = CNN(3)\n",
    "\n",
    "learning_rate=0.1\n",
    "linear_optimizer = torch.optim.SGD(cnn.parameters(), lr=learning_rate)\n",
    "crossentropyloss_loss = torch.nn.CrossEntropyLoss()\n",
    "\n",
    "def train_valid(model, dataset,valid, optimizer, criterion, epochs, batch_size):\n",
    "    dataloader = DataLoader(dataset, batch_size=batch_size, shuffle=True)\n",
    "    valid_dataloader = DataLoader(valid, batch_size=batch_size, shuffle=True)\n",
    "    \n",
    "    loss_history = list()\n",
    "    valid_loss_history = list()\n",
    "\n",
    "    for i in range(epochs):\n",
    "        for (x, y) in dataloader:\n",
    "            #print(\"x : \",x)\n",
    "            #print(\"y : \",y)\n",
    "            # Forward\n",
    "            optimizer.zero_grad()\n",
    "            y_pred = model(x)\n",
    "            loss = criterion(y_pred, y)\n",
    "\n",
    "            # Log\n",
    "            loss_history.append(loss.detach())\n",
    "\n",
    "            #Backward\n",
    "            loss.backward()\n",
    "            optimizer.step()\n",
    "            \n",
    "        model.eval()\n",
    "        with torch.no_grad():\n",
    "            for (x_valid, y_valid) in valid_dataloader:\n",
    "                valid_loss_history.append(criterion(model(x_valid), y_valid))\n",
    "        model.train()\n",
    "\n",
    "        print(\"%.2f\" % (((i+1)/epochs)*100) + '%' + \" of epochs done.\" , end=\"\\r\")\n",
    "    return (loss_history, valid_loss_history)\n"
   ]
  },
  {
   "cell_type": "code",
   "execution_count": 51,
   "metadata": {},
   "outputs": [
    {
     "name": "stdout",
     "output_type": "stream",
     "text": [
      "0.10% of epochs done.\r"
     ]
    },
    {
     "name": "stdout",
     "output_type": "stream",
     "text": [
      "100.00% of epochs done.\r"
     ]
    },
    {
     "data": {
      "image/png": "[encoded data removed]",
      "text/plain": [
       "<Figure size 640x480 with 1 Axes>"
      ]
     },
     "metadata": {},
     "output_type": "display_data"
    }
   ],
   "source": [
    "(train_log, valid_log) = train_valid(cnn, population_train,population_valid, linear_optimizer, crossentropyloss_loss, epochs=1000, batch_size=64)\n",
    "\n",
    "# Plot\n",
    "draw_training_cost(train_log, valid_log)"
   ]
  },
  {
   "cell_type": "code",
   "execution_count": 52,
   "metadata": {},
   "outputs": [
    {
     "name": "stdout",
     "output_type": "stream",
     "text": [
      "x.shape :  torch.Size([5, 3, 64, 64])\n",
      "Y_pred data :  tensor([[ -5.8940,   5.9185],\n",
      "        [ 15.5849, -15.7328],\n",
      "        [ -6.1031,   6.0885],\n",
      "        [ -3.1203,   3.0086],\n",
      "        [  1.7073,  -1.8055]])\n",
      "Initial :  tensor([1, 0, 1, 1, 1])\n",
      "Predicted :  tensor([1, 0, 1, 1, 0])\n",
      "Accuracy:  0.8\n"
     ]
    }
   ],
   "source": [
    "# Evalutation du model\n",
    "\n",
    "cnn.eval()\n",
    "with torch.no_grad():\n",
    "    correct = 0\n",
    "    total = 0\n",
    "    # Rappel : Building : 0, Leaves : 1\n",
    "    for (x, y) in DataLoader(population_test, batch_size=64, shuffle=True):\n",
    "        print(\"x.shape : \", x.shape)      # torch.Size([5, 3, 64, 64]) # 5 images, 3 channels, 64x64\n",
    "        y_pred = cnn(x)     # YPRED est un tableau de 2+len(population_test)\n",
    "                            # Si YPRED[0] est négatif => C'est un leaves\n",
    "                            # Si YPRED[1] est négatif => C'est un building\n",
    "        print(\"Y_pred data : \",y_pred.data)\n",
    "        _, predicted = torch.max(y_pred.data, 1)\n",
    "        print(\"Initial : \", y)\n",
    "        print(\"Predicted : \",predicted)\n",
    "        \n",
    "        total += y.size(0)\n",
    "        correct += (predicted == y).sum().item()\n",
    "        \n",
    "\n",
    "    print(\"Accuracy: \", correct / total)\n"
   ]
  },
  {
   "cell_type": "markdown",
   "metadata": {},
   "source": [
    "# Apply the model on a bigger image, possible ?"
   ]
  },
  {
   "cell_type": "code",
   "execution_count": 53,
   "metadata": {},
   "outputs": [],
   "source": [
    "class FCN(nn.Module):\n",
    "    def __init__(self, in_channels=3, num_classes=2):\n",
    "        super(FCN, self).__init__()\n",
    "        self.conv1 = nn.Conv2d(in_channels=in_channels, out_channels=8, kernel_size=3, stride=1, padding=1)\n",
    "        self.pool = nn.MaxPool2d(kernel_size=2, stride=2)\n",
    "        self.conv2 = nn.Conv2d(in_channels=8, out_channels=16, kernel_size=3, stride=1, padding=1)\n",
    "        self.conv3 = nn.Conv2d(in_channels=16, out_channels=num_classes, kernel_size=1, stride=1, padding=0)\n",
    "\n",
    "    def forward(self, x):\n",
    "        x = F.relu(self.conv1(x))\n",
    "        x = self.pool(x)\n",
    "        x = F.relu(self.conv2(x))\n",
    "        x = self.pool(x)\n",
    "        x = self.conv3(x)  # Output will be a spatial map of predictions\n",
    "        return x\n",
    "    \n",
    "    \n",
    "class CNN(nn.Module):\n",
    "    def __init__(self, in_channels=3, num_classes=2):\n",
    "\n",
    "        super(CNN, self).__init__()\n",
    "\n",
    "        self.conv1 = nn.Conv2d(in_channels=in_channels, out_channels=8, kernel_size=3, stride=1, padding=1)\n",
    "        self.pool = nn.MaxPool2d(kernel_size=2, stride=2)\n",
    "        self.conv2 = nn.Conv2d(in_channels=8, out_channels=16, kernel_size=3, stride=1, padding=1)\n",
    "        self.fc1 = nn.Linear(16 * 16 * 16, num_classes)\n",
    "\n",
    "    def forward(self, x):\n",
    "        x = F.relu(self.conv1(x)) \n",
    "        x = self.pool(x)          \n",
    "        x = F.relu(self.conv2(x)) \n",
    "        x = self.pool(x)           \n",
    "        x = x.reshape(x.shape[0], -1)  \n",
    "        x = self.fc1(x)            \n",
    "        return x"
   ]
  }
 ],
 "metadata": {
  "kernelspec": {
   "display_name": ".env310",
   "language": "python",
   "name": "python3"
  },
  "language_info": {
   "codemirror_mode": {
    "name": "ipython",
    "version": 3
   },
   "file_extension": ".py",
   "mimetype": "text/x-python",
   "name": "python",
   "nbconvert_exporter": "python",
   "pygments_lexer": "ipython3",
   "version": "3.10.16"
  }
 },
 "nbformat": 4,
 "nbformat_minor": 2
}
