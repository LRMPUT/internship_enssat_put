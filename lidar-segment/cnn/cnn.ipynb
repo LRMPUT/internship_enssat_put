{
 "cells": [
  {
   "cell_type": "markdown",
   "metadata": {},
   "source": [
    "# A model for small images"
   ]
  },
  {
   "cell_type": "code",
   "execution_count": 4,
   "metadata": {},
   "outputs": [],
   "source": [
    "import torch\n",
    "import torch.nn.functional as F\n",
    "import torchvision.datasets as datasets\n",
    "import torchvision.transforms as transforms\n",
    "from torch import optim\n",
    "from torch import nn\n",
    "from torch.utils.data import DataLoader\n",
    "from tqdm import tqdm\n",
    "import matplotlib.pyplot as plt\n",
    "from torch.utils.data import Dataset, DataLoader\n",
    "import pandas as pd\n",
    "import numpy as np\n",
    "import os\n",
    "import io\n",
    "from skimage import io\n",
    "from pathlib import Path\n",
    "from PIL import Image"
   ]
  },
  {
   "cell_type": "code",
   "execution_count": 5,
   "metadata": {},
   "outputs": [],
   "source": [
    "def draw_training_cost(training_cost, validation_cost=None):\n",
    "    plt.plot(training_cost, label=\"training cost\")\n",
    "    if validation_cost:\n",
    "        plt.plot(validation_cost, label=\"validation cost\")\n",
    "    plt.xlabel(\"Training iterations\")\n",
    "    plt.ylabel(\"Log of cost\")\n",
    "    plt.yscale(\"log\")\n",
    "    plt.legend()\n",
    "    plt.show()"
   ]
  },
  {
   "cell_type": "code",
   "execution_count": 6,
   "metadata": {},
   "outputs": [],
   "source": [
    "class CNN(nn.Module):\n",
    "    def __init__(self, in_channels=3, num_classes=2):\n",
    "        \"\"\"\n",
    "        Parameters:\n",
    "            in_channels: int\n",
    "                The number of channels in the input image\n",
    "        \"\"\"\n",
    "        super(CNN, self).__init__()\n",
    "\n",
    "        # First convolutional layer: 1 input channel, 8 output channels, 3x3 kernel, stride 1, padding 1\\n\",\n",
    "\n",
    "\n",
    "        self.conv1 = nn.Conv2d(in_channels=in_channels, out_channels=8, kernel_size=3, stride=1, padding=1) \n",
    "        # Max pooling layer: 2x2 window, stri   \n",
    "        self.pool = nn.MaxPool2d(kernel_size=2, stride=2)  \n",
    "        # Second convolutional layer: 8 input channels, 16 output channels, 3x3 kernel, stride 1, paddi \n",
    "        self.conv2 = nn.Conv2d(in_channels=8, out_channels=16, kernel_size=3, stride=1, padding=1) \n",
    "        # Fully connected layer: 16*7*7 input features (after two 2x2 poolings), 10 output features (num_clas   \n",
    "        self.fc1 = nn.Linear(16 * 16 * 16, num_classes)\n",
    "\n",
    "    def forward(self, x):\n",
    "        x = F.relu(self.conv1(x))\n",
    "        x = self.pool(x)           # Apply max pooling\\n\",\n",
    "        x = F.relu(self.conv2(x))  # Apply second convolution and ReLU activation\\n\",\n",
    "        x = self.pool(x)           # Apply max pooling\\n\",\n",
    "        x = x.reshape(x.shape[0], -1)  # Flatten the tensor\\n\",\n",
    "        x = self.fc1(x)            # Apply fully connected layer\\n\",\n",
    "        # Taille de sortie : (len_dataloader, 2)\\n\",\n",
    "        return x"
   ]
  },
  {
   "cell_type": "code",
   "execution_count": 7,
   "metadata": {},
   "outputs": [],
   "source": [
    "class ImageDataset(Dataset):\n",
    "    def __init__(self, csv_file, root_dir, transform=None):\n",
    "        self.csv = pd.read_csv(csv_file)\n",
    "        self.root_dir = root_dir\n",
    "        self.transform = transform\n",
    "        self.label_map = {\"building\": 0, \"leaves\": 1}  # Mapping texte → nombre\n",
    "\n",
    "    def __len__(self):\n",
    "        return len(self.csv)\n",
    "\n",
    "    def __getitem__(self, idx):\n",
    "        img_name = os.path.join(self.root_dir, self.csv.iloc[idx, 0])\n",
    "        label = self.label_map[self.csv.iloc[idx, 1]]\n",
    "\n",
    "        image = Image.open(img_name).convert(\"RGB\")  # Ouvre l'image en RGB\n",
    "\n",
    "        if self.transform:\n",
    "            image = self.transform(image)\n",
    "\n",
    "        return image, torch.tensor(label, dtype=torch.int64)\n"
   ]
  },
  {
   "cell_type": "code",
   "execution_count": 8,
   "metadata": {},
   "outputs": [
    {
     "name": "stdout",
     "output_type": "stream",
     "text": [
      "35\n",
      "torch.Size([])\n",
      "torch.Size([])\n",
      "torch.Size([])\n",
      "torch.Size([3, 64, 64])\n",
      "torch.Size([3, 64, 64])\n",
      "torch.Size([3, 64, 64])\n"
     ]
    }
   ],
   "source": [
    "transform = transforms.Compose([\n",
    "    transforms.Resize((64, 64)),  # Toutes les images seront en 64x64\n",
    "    transforms.ToTensor(),  # Convertit en [0,1]\n",
    "    transforms.Normalize(mean=[0.5, 0.5, 0.5], std=[0.5, 0.5, 0.5])  # Normalisation [-1,1]\n",
    "])\n",
    "\n",
    "population_all = ImageDataset(csv_file=\"data.csv\", root_dir=\"./\", transform=transform)\n",
    "print(len(population_all))\n",
    "# Output of population_all[0] is a tuple (image, label)\n",
    "# Size of the output should be torch.Size([3, 64, 64]) and torch.Size([])\n",
    "# Where 3 is the number of channels in the image\n",
    "print(population_all[0][1].shape)\n",
    "print(population_all[4][1].shape)\n",
    "print(population_all[9][1].shape)\n",
    "print(population_all[0][0].shape)\n",
    "print(population_all[4][0].shape)\n",
    "print(population_all[9][0].shape)"
   ]
  },
  {
   "cell_type": "code",
   "execution_count": 9,
   "metadata": {},
   "outputs": [
    {
     "name": "stdout",
     "output_type": "stream",
     "text": [
      "Size of the whole set: 35\n",
      "Size of the training set: 24\n",
      "Size of the validation set: 3\n",
      "Size of the test set: 8\n"
     ]
    }
   ],
   "source": [
    "\n",
    "size_all = len(population_all)\n",
    "size_train = int(0.7 * size_all)\n",
    "size_valid = int(0.1 * size_all)\n",
    "size_test = size_all - (size_train + size_valid)\n",
    "\n",
    "\n",
    "(population_train, population_valid, population_test) = torch.utils.data.random_split(population_all, [size_train, size_valid, size_test])\n",
    "\n",
    "print(\"Size of the whole set:\", len(population_all))\n",
    "print(\"Size of the training set:\", len(population_train))\n",
    "print(\"Size of the validation set:\", len(population_valid))\n",
    "print(\"Size of the test set:\", len(population_test))"
   ]
  },
  {
   "cell_type": "code",
   "execution_count": 10,
   "metadata": {},
   "outputs": [],
   "source": [
    "cnn = CNN(3)\n",
    "\n",
    "learning_rate=0.1\n",
    "linear_optimizer = torch.optim.SGD(cnn.parameters(), lr=learning_rate)\n",
    "crossentropyloss_loss = torch.nn.CrossEntropyLoss()"
   ]
  },
  {
   "cell_type": "code",
   "execution_count": 11,
   "metadata": {},
   "outputs": [],
   "source": [
    "def train(model, dataset, optimizer, criterion, epochs, batch_size):\n",
    "    dataloader = DataLoader(dataset, batch_size=batch_size, shuffle=True)\n",
    "    \n",
    "    loss_history = list()\n",
    "\n",
    "    for i in range(epochs):\n",
    "        for (x, y) in dataloader:\n",
    "            #print(\"x : \",x)\n",
    "            #print(\"y : \",y)\n",
    "            # Forward\n",
    "            optimizer.zero_grad()\n",
    "            y_pred = model(x)\n",
    "            loss = criterion(y_pred, y)\n",
    "\n",
    "            # Log\n",
    "            loss_history.append(loss.detach())\n",
    "\n",
    "            #Backward\n",
    "            loss.backward()\n",
    "            optimizer.step()\n",
    "\n",
    "        print(\"%.2f\" % (((i+1)/epochs)*100) + '%' + \" of epochs done.\" , end=\"\\r\")\n",
    "    return loss_history\n"
   ]
  },
  {
   "cell_type": "code",
   "execution_count": 12,
   "metadata": {},
   "outputs": [],
   "source": [
    "%%script true # skip this cell when run all, it only show the first training cost without validation\n",
    "\n",
    "train_log = train(cnn, population_train, linear_optimizer, crossentropyloss_loss, epochs=1000, batch_size=128)\n",
    "\n",
    "# Plot\n",
    "draw_training_cost(train_log)"
   ]
  },
  {
   "cell_type": "code",
   "execution_count": 13,
   "metadata": {},
   "outputs": [],
   "source": [
    "cnn = CNN(3)\n",
    "\n",
    "learning_rate=0.01\n",
    "linear_optimizer = torch.optim.SGD(cnn.parameters(), lr=learning_rate)\n",
    "crossentropyloss_loss = torch.nn.CrossEntropyLoss()\n",
    "\n",
    "def train_valid(model, dataset,valid, optimizer, criterion, epochs, batch_size):\n",
    "    dataloader = DataLoader(dataset, batch_size=batch_size, shuffle=True)\n",
    "    valid_dataloader = DataLoader(valid, batch_size=batch_size, shuffle=True)\n",
    "    \n",
    "    loss_history = list()\n",
    "    valid_loss_history = list()\n",
    "\n",
    "    for i in range(epochs):\n",
    "        for (x, y) in dataloader:\n",
    "            #print(\"x : \",x)\n",
    "            #print(\"y : \",y)\n",
    "            # Forward\n",
    "            optimizer.zero_grad()\n",
    "            y_pred = model(x)\n",
    "            loss = criterion(y_pred, y)\n",
    "\n",
    "            # Log\n",
    "            loss_history.append(loss.detach())\n",
    "\n",
    "            #Backward\n",
    "            loss.backward()\n",
    "            optimizer.step()\n",
    "            \n",
    "        model.eval()\n",
    "        with torch.no_grad():\n",
    "            for (x_valid, y_valid) in valid_dataloader:\n",
    "                valid_loss_history.append(criterion(model(x_valid), y_valid))\n",
    "        model.train()\n",
    "\n",
    "        print(\"%.2f\" % (((i+1)/epochs)*100) + '%' + \" of epochs done.\" , end=\"\\r\")\n",
    "    return (loss_history, valid_loss_history)\n"
   ]
  },
  {
   "cell_type": "code",
   "execution_count": 14,
   "metadata": {},
   "outputs": [
    {
     "name": "stdout",
     "output_type": "stream",
     "text": [
      "100.00% of epochs done.\r"
     ]
    },
    {
     "data": {
      "image/png": "[encoded data removed]",
      "text/plain": [
       "<Figure size 640x480 with 1 Axes>"
      ]
     },
     "metadata": {},
     "output_type": "display_data"
    }
   ],
   "source": [
    "(train_log, valid_log) = train_valid(cnn, population_train,population_valid, linear_optimizer, crossentropyloss_loss, epochs=1000, batch_size=256)\n",
    "\n",
    "# Plot\n",
    "draw_training_cost(train_log, valid_log)"
   ]
  },
  {
   "cell_type": "code",
   "execution_count": 15,
   "metadata": {},
   "outputs": [
    {
     "name": "stdout",
     "output_type": "stream",
     "text": [
      "x.shape :  torch.Size([8, 3, 64, 64])\n",
      "Y_pred data :  tensor([[-2.3816,  2.6538],\n",
      "        [ 3.2265, -1.9762],\n",
      "        [-4.7847,  5.3416],\n",
      "        [ 5.4636, -5.0474],\n",
      "        [ 2.5399, -2.0496],\n",
      "        [ 1.4231, -0.3964],\n",
      "        [-3.1253,  3.6654],\n",
      "        [ 5.1916, -4.9771]])\n",
      "Initial :  tensor([0, 0, 1, 0, 0, 0, 1, 0])\n",
      "Predicted :  tensor([1, 0, 1, 0, 0, 0, 1, 0])\n",
      "Accuracy:  0.875\n"
     ]
    }
   ],
   "source": [
    "# Evalutation du model\n",
    "\n",
    "cnn.eval()\n",
    "with torch.no_grad():\n",
    "    correct = 0\n",
    "    total = 0\n",
    "    # Rappel : Building : 0, Leaves : 1\n",
    "    for (x, y) in DataLoader(population_test, batch_size=256, shuffle=True):\n",
    "        print(\"x.shape : \", x.shape)      # torch.Size([5, 3, 64, 64]) # 5 images, 3 channels, 64x64\n",
    "        y_pred = cnn(x)     # YPRED est un tableau de 2+len(population_test)\n",
    "                            # Si YPRED[0] est négatif => C'est un leaves\n",
    "                            # Si YPRED[1] est négatif => C'est un building\n",
    "        print(\"Y_pred data : \",y_pred.data)\n",
    "        _, predicted = torch.max(y_pred.data, 1)\n",
    "        print(\"Initial : \", y)\n",
    "        print(\"Predicted : \",predicted)\n",
    "        \n",
    "        total += y.size(0)\n",
    "        correct += (predicted == y).sum().item()\n",
    "        \n",
    "\n",
    "    print(\"Accuracy: \", correct / total)\n"
   ]
  },
  {
   "cell_type": "markdown",
   "metadata": {},
   "source": [
    "# Try now on real data"
   ]
  },
  {
   "cell_type": "code",
   "execution_count": null,
   "metadata": {},
   "outputs": [
    {
     "ename": "FileNotFoundError",
     "evalue": "[Errno 2] No such file or directory: '../buildings'",
     "output_type": "error",
     "traceback": [
      "\u001b[0;31m---------------------------------------------------------------------------\u001b[0m",
      "\u001b[0;31mFileNotFoundError\u001b[0m                         Traceback (most recent call last)",
      "Cell \u001b[0;32mIn[19], line 47\u001b[0m\n\u001b[1;32m     44\u001b[0m     plt\u001b[38;5;241m.\u001b[39mshow()\n\u001b[1;32m     45\u001b[0m     \u001b[38;5;28;01mreturn\u001b[39;00m predicted_label\n\u001b[0;32m---> 47\u001b[0m \u001b[43mevaluate\u001b[49m\u001b[43m(\u001b[49m\u001b[43mcnn\u001b[49m\u001b[43m)\u001b[49m\n",
      "Cell \u001b[0;32mIn[19], line 6\u001b[0m, in \u001b[0;36mevaluate\u001b[0;34m(cnn)\u001b[0m\n\u001b[1;32m      4\u001b[0m data_folder \u001b[38;5;241m=\u001b[39m \u001b[38;5;124m\"\u001b[39m\u001b[38;5;124m../buildings\u001b[39m\u001b[38;5;124m\"\u001b[39m\n\u001b[1;32m      5\u001b[0m predicted_label \u001b[38;5;241m=\u001b[39m []\n\u001b[0;32m----> 6\u001b[0m \u001b[38;5;28;01mfor\u001b[39;00m folder \u001b[38;5;129;01min\u001b[39;00m \u001b[38;5;28msorted\u001b[39m(\u001b[43mos\u001b[49m\u001b[38;5;241;43m.\u001b[39;49m\u001b[43mlistdir\u001b[49m\u001b[43m(\u001b[49m\u001b[43mdata_folder\u001b[49m\u001b[43m)\u001b[49m):\n\u001b[1;32m      7\u001b[0m     data_folder_data \u001b[38;5;241m=\u001b[39m os\u001b[38;5;241m.\u001b[39mpath\u001b[38;5;241m.\u001b[39mjoin(data_folder, folder)\n\u001b[1;32m      8\u001b[0m     \u001b[38;5;28;01mfor\u001b[39;00m filename \u001b[38;5;129;01min\u001b[39;00m os\u001b[38;5;241m.\u001b[39mlistdir(data_folder_data):\n",
      "\u001b[0;31mFileNotFoundError\u001b[0m: [Errno 2] No such file or directory: '../buildings'"
     ]
    }
   ],
   "source": [
    "import cv2\n",
    "\n",
    "def evaluate(cnn):\n",
    "    data_folder = \"./buildings\"\n",
    "    predicted_label = []\n",
    "    for folder in sorted(os.listdir(data_folder)):\n",
    "        data_folder_data = os.path.join(data_folder, folder)\n",
    "        for filename in os.listdir(data_folder_data):\n",
    "            data_file = os.path.join(data_folder, folder, filename)\n",
    "            #print(data_file)\n",
    "            cv2_image = cv2.imread(data_file)\n",
    "            #print(plt.imread(data_file).shape[0], plt.imread(data_file).shape[1])\n",
    "            if(plt.imread(data_file).shape[0] < 64):\n",
    "                continue   \n",
    "            if(plt.imread(data_file).shape[1] < 64):\n",
    "                continue\n",
    "            # Load the image\n",
    "            image = Image.open(data_file).convert(\"RGB\")\n",
    "\n",
    "            # Apply the same transformations used during training\n",
    "            transform = transforms.Compose([\n",
    "                transforms.Resize((64, 64)),  # Resize to 64x64\n",
    "                transforms.ToTensor(),  # Convert to tensor\n",
    "                transforms.Normalize(mean=[0.5, 0.5, 0.5], std=[0.5, 0.5, 0.5])  # Normalize\n",
    "            ])\n",
    "            image = transform(image).unsqueeze(0)  # Add batch dimension\n",
    "\n",
    "            cnn.eval()  \n",
    "\n",
    "            with torch.no_grad():\n",
    "                output = cnn(image)\n",
    "                _, predicted = torch.max(output, 1)\n",
    "\n",
    "            # Map the predicted class index to the class label\n",
    "            label_map = {0: \"building\", 1: \"leaves\"}\n",
    "            predicted_label = label_map[predicted.item()]\n",
    "            plt.figure(figsize=(10, 3.5))\n",
    "\n",
    "            plt.subplot(1, 3, 1)\n",
    "            plt.imshow(cv2.cvtColor(cv2_image, cv2.COLOR_BGR2RGB))\n",
    "            plt.title(predicted_label)\n",
    "\n",
    "\n",
    "    plt.show()\n",
    "    return predicted_label\n",
    "\n",
    "evaluate(cnn)\n"
   ]
  },
  {
   "cell_type": "markdown",
   "metadata": {},
   "source": [
    "## Save the model"
   ]
  },
  {
   "cell_type": "code",
   "execution_count": 17,
   "metadata": {},
   "outputs": [],
   "source": [
    "PATH = \"./modelcnn.pth\"\n",
    "torch.save(cnn.state_dict(), PATH)\n"
   ]
  },
  {
   "cell_type": "markdown",
   "metadata": {},
   "source": [
    "# Apply the model on a bigger image, possible ?"
   ]
  },
  {
   "cell_type": "code",
   "execution_count": 18,
   "metadata": {},
   "outputs": [],
   "source": [
    "# NOT WORKING\n",
    "\n",
    "class FCN(nn.Module):\n",
    "    def __init__(self, in_channels=3, num_classes=2):\n",
    "        super(FCN, self).__init__()\n",
    "        self.conv1 = nn.Conv2d(in_channels=in_channels, out_channels=8, kernel_size=3, stride=1, padding=1)\n",
    "        self.pool = nn.MaxPool2d(kernel_size=2, stride=2)\n",
    "        self.conv2 = nn.Conv2d(in_channels=8, out_channels=16, kernel_size=3, stride=1, padding=1)\n",
    "        self.conv3 = nn.Conv2d(in_channels=16, out_channels=num_classes, kernel_size=1, stride=1, padding=0)\n",
    "\n",
    "    def forward(self, x):\n",
    "        x = F.relu(self.conv1(x))\n",
    "        x = self.pool(x)\n",
    "        x = F.relu(self.conv2(x))\n",
    "        x = self.pool(x)\n",
    "        x = self.conv3(x)  # Output will be a spatial map of predictions\n",
    "        return x\n",
    "    \n",
    "    \n",
    "class CNN(nn.Module):\n",
    "    def __init__(self, in_channels=3, num_classes=2):\n",
    "\n",
    "        super(CNN, self).__init__()\n",
    "\n",
    "        self.conv1 = nn.Conv2d(in_channels=in_channels, out_channels=8, kernel_size=3, stride=1, padding=1)\n",
    "        self.pool = nn.MaxPool2d(kernel_size=2, stride=2)\n",
    "        self.conv2 = nn.Conv2d(in_channels=8, out_channels=16, kernel_size=3, stride=1, padding=1)\n",
    "        self.fc1 = nn.Linear(16 * 16 * 16, num_classes)\n",
    "\n",
    "    def forward(self, x):\n",
    "        x = F.relu(self.conv1(x)) \n",
    "        x = self.pool(x)          \n",
    "        x = F.relu(self.conv2(x)) \n",
    "        x = self.pool(x)           \n",
    "        x = x.reshape(x.shape[0], -1)  \n",
    "        x = self.fc1(x)            \n",
    "        return x"
   ]
  }
 ],
 "metadata": {
  "kernelspec": {
   "display_name": ".env310",
   "language": "python",
   "name": "python3"
  },
  "language_info": {
   "codemirror_mode": {
    "name": "ipython",
    "version": 3
   },
   "file_extension": ".py",
   "mimetype": "text/x-python",
   "name": "python",
   "nbconvert_exporter": "python",
   "pygments_lexer": "ipython3",
   "version": "3.10.16"
  }
 },
 "nbformat": 4,
 "nbformat_minor": 2
}
