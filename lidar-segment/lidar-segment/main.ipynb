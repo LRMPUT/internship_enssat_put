{
 "cells": [
  {
   "cell_type": "code",
   "execution_count": 1,
   "metadata": {},
   "outputs": [
    {
     "name": "stdout",
     "output_type": "stream",
     "text": [
      "Jupyter environment detected. Enabling Open3D WebVisualizer.\n",
      "[Open3D INFO] WebRTC GUI backend enabled.\n",
      "[Open3D INFO] WebRTCWindowSystem: HTTP handshake server disabled.\n"
     ]
    }
   ],
   "source": [
    "from segment_lidar import samlidar, view\n",
    "import pylas\n",
    "import open3d as o3d\n",
    "import numpy as np\n",
    "import laspy\n",
    "import cv2\n",
    "import matplotlib.pyplot as plt\n"
   ]
  },
  {
   "cell_type": "markdown",
   "metadata": {},
   "source": [
    "## First we define function to convert files "
   ]
  },
  {
   "cell_type": "markdown",
   "metadata": {},
   "source": [
    "PCD -> LAS\n",
    "LAS -> PCD"
   ]
  },
  {
   "cell_type": "code",
   "execution_count": 4,
   "metadata": {},
   "outputs": [],
   "source": [
    "def convert_pcd_to_las(pcd_file=None, point_cloud=None, las_file=\"downsampled.las\"):\n",
    "    if(pcd_file is None and point_cloud is None):\n",
    "        print(\"No input file\")\n",
    "        return\n",
    "    # Read the PCD file\n",
    "    if point_cloud is None:\n",
    "        pcd = o3d.io.read_point_cloud(pcd_file)\n",
    "    else:\n",
    "        pcd = point_cloud\n",
    "    \n",
    "    # Extract points and colors from the PCD file\n",
    "    points = np.asarray(pcd.points)\n",
    "    colors = np.asarray(pcd.colors)\n",
    "    \n",
    "    r = colors[:, 0]\n",
    "    g = colors[:, 1]\n",
    "    b = colors[:, 2]\n",
    "    \n",
    "    # Create a LAS file with RGB fields\n",
    "    las = pylas.create(point_format_id=3)\n",
    "    las.x = points[:, 0]\n",
    "    las.y = points[:, 1]\n",
    "    las.z = points[:, 2]\n",
    "    las.red = r\n",
    "    las.green = g\n",
    "    las.blue = b\n",
    "    \n",
    "    # Write the LAS file\n",
    "    las.write(las_file)\n",
    "    return las_file\n",
    "    \n",
    "def convert_las_to_pcd(las) -> o3d.t.geometry.PointCloud:\n",
    "    # get points\n",
    "    points = np.vstack((las.x, las.y, las.z)).transpose()\n",
    "    print(\"point len : \",  len(points))\n",
    "\n",
    "    # make blank cloud\n",
    "    pcd = o3d.geometry.PointCloud()\n",
    "\n",
    "    # add x,y,z to o3d cloud\n",
    "    pcd.points = o3d.utility.Vector3dVector(points)\n",
    "\n",
    "    # if rgb present, convert to o3d colors\n",
    "    all_dims = list(las.point_format.dimension_names)[3:]\n",
    "    \n",
    "    if \"red\" in all_dims and \"green\" in all_dims and \"blue\" in all_dims:\n",
    "        colors = np.vstack((las.red, las.green, las.blue)).transpose()\n",
    "        pcd.colors = o3d.utility.Vector3dVector(colors)\n",
    "        all_dims.remove(\"blue\")\n",
    "        all_dims.remove(\"green\")\n",
    "        all_dims.remove(\"red\")\n",
    "    return pcd\n"
   ]
  },
  {
   "cell_type": "markdown",
   "metadata": {},
   "source": [
    "## Voxel function for downsampling PCD files"
   ]
  },
  {
   "cell_type": "code",
   "execution_count": 5,
   "metadata": {},
   "outputs": [],
   "source": [
    "def voxel_downsample(pcd, nb_points, voxelvalue = 1): # Increase voxel size to reduce memory usage\n",
    "    '''\n",
    "    If your pointcloud file is expressed in meters, voxel_size=0.05 will mean the voxel grid will be made up of voxels measuring 5 x 5 x 5 cm. \n",
    "    After filtering the pointcloud density is reduced so that you have only one point per such voxel. \n",
    "    '''\n",
    "    downsample = pcd.voxel_down_sample(voxelvalue)\n",
    "    print(\"before : \", pcd, \", after : \", downsample)\n",
    "    nb_points.append(len(np.asarray(downsample.points)))\n",
    "    return downsample, nb_points"
   ]
  },
  {
   "cell_type": "markdown",
   "metadata": {},
   "source": [
    "## Run the Lidar segment algo"
   ]
  },
  {
   "cell_type": "code",
   "execution_count": 6,
   "metadata": {},
   "outputs": [],
   "source": [
    "#Obviously this function could take a while....\n",
    "def compute_segment_lidar(input_file, save_path, labeled_tif_path):\n",
    "    viewpoint = view.TopView()\n",
    "\n",
    "    model = samlidar.SamLidar(ckpt_path=\"sam_vit_h_4b8939.pth\")\n",
    "    points = model.read(input_file)\n",
    "    labels, *_ = model.segment(points=points, view=viewpoint, labels_path=labeled_tif_path)\n",
    "    model.write(points=points, segment_ids=labels, save_path=save_path)\n",
    "    return save_path, labeled_tif_path\n",
    "    "
   ]
  },
  {
   "cell_type": "markdown",
   "metadata": {},
   "source": [
    "## Benchmark functions"
   ]
  },
  {
   "cell_type": "code",
   "execution_count": 7,
   "metadata": {},
   "outputs": [],
   "source": [
    "# base on the labeled image generate by lidar-segment\n",
    "\n",
    "def benchmark(labeled_tif_path, nb_contour_list):\n",
    "    image = cv2.imread(labeled_tif_path)\n",
    "    # convert the image to grayscale format\n",
    "    img_gray = cv2.cvtColor(image, cv2.COLOR_BGR2GRAY)\n",
    "\n",
    "    # apply binary thresholding\n",
    "    ret, thresh = cv2.threshold(img_gray, 0, 255, cv2.THRESH_BINARY)\n",
    "    \n",
    "    # detect the contours on the binary image using cv2.CHAIN_APPROX_NONE\n",
    "    contours, hierarchy = cv2.findContours(image=thresh, mode=cv2.RETR_TREE, method=cv2.CHAIN_APPROX_NONE)\n",
    "    \n",
    "    nb_contours = len(contours)\n",
    "    nb_contour_list.append(nb_contours)\n",
    "    return nb_contour_list\n"
   ]
  },
  {
   "cell_type": "markdown",
   "metadata": {},
   "source": [
    "# Main loop"
   ]
  },
  {
   "cell_type": "markdown",
   "metadata": {},
   "source": [
    "Loop arrangement : \n",
    "\n",
    "- Start with a .las file\n",
    "<ul>\n",
    "    <li>Convert to pcd</li>\n",
    "    <li>Downsamp the file</li>\n",
    "    <li>Convert to las</li>\n",
    "    <li>Run Lidar-segment model</li>\n",
    "    <li>Compute test benchmark of the labeled/rester images</li>\n",
    "</ul>"
   ]
  },
  {
   "cell_type": "code",
   "execution_count": 8,
   "metadata": {},
   "outputs": [
    {
     "name": "stdout",
     "output_type": "stream",
     "text": [
      "Iteration number :  0\n",
      "point len :  3402226\n",
      "before :  PointCloud with 3402226 points. , after :  PointCloud with 3028457 points.\n",
      "Reading downsampled.las...\n",
      "- Classification value is not provided. Reading all points...\n",
      "- Reading RGB values...\n",
      "File reading is completed in 0.70 seconds. The point cloud contains 3028457 points.\n",
      "\n",
      "/home/savinien/Documents/Polonie/lidar-segment/lidar-segment/labeled.tif  now OK\n",
      "- Generating raster image...\n",
      "- Saving raster image...\n",
      "- Applying segment-geospatial to raster image...\n",
      "- Saving segmented image...\n",
      "- Generating segment IDs...\n",
      "Segmentation is completed in 200.18 seconds. Number of instances: 116\n",
      "\n",
      "Writing the segmented point cloud to downsample_computed.las...\n",
      "Writing is completed in 1.77 seconds.\n",
      "\n",
      "Iteration number :  1\n",
      "point len :  3028457\n",
      "before :  PointCloud with 3028457 points. , after :  PointCloud with 1923698 points.\n",
      "Reading downsampled.las...\n",
      "- Classification value is not provided. Reading all points...\n",
      "- Reading RGB values...\n",
      "File reading is completed in 0.32 seconds. The point cloud contains 1923698 points.\n",
      "\n",
      "/home/savinien/Documents/Polonie/lidar-segment/lidar-segment/labeled.tif  now OK\n",
      "- Generating raster image...\n",
      "- Saving raster image...\n",
      "- Applying segment-geospatial to raster image...\n",
      "- Saving segmented image...\n",
      "- Generating segment IDs...\n",
      "Segmentation is completed in 209.86 seconds. Number of instances: 102\n",
      "\n",
      "Writing the segmented point cloud to downsample_computed.las...\n",
      "Writing is completed in 1.29 seconds.\n",
      "\n",
      "Iteration number :  2\n",
      "point len :  1923698\n",
      "before :  PointCloud with 1923698 points. , after :  PointCloud with 1923698 points.\n",
      "Reading downsampled.las...\n",
      "- Classification value is not provided. Reading all points...\n",
      "- Reading RGB values...\n",
      "File reading is completed in 0.35 seconds. The point cloud contains 1923698 points.\n",
      "\n",
      "/home/savinien/Documents/Polonie/lidar-segment/lidar-segment/labeled.tif  now OK\n",
      "- Generating raster image...\n",
      "- Saving raster image...\n",
      "- Applying segment-geospatial to raster image...\n",
      "- Saving segmented image...\n",
      "- Generating segment IDs...\n",
      "Segmentation is completed in 217.52 seconds. Number of instances: 99\n",
      "\n",
      "Writing the segmented point cloud to downsample_computed.las...\n",
      "Writing is completed in 1.18 seconds.\n",
      "\n",
      "Iteration number :  3\n",
      "point len :  1923698\n",
      "before :  PointCloud with 1923698 points. , after :  PointCloud with 1923698 points.\n",
      "Reading downsampled.las...\n",
      "- Classification value is not provided. Reading all points...\n",
      "- Reading RGB values...\n",
      "File reading is completed in 0.30 seconds. The point cloud contains 1923698 points.\n",
      "\n",
      "/home/savinien/Documents/Polonie/lidar-segment/lidar-segment/labeled.tif  now OK\n",
      "- Generating raster image...\n",
      "- Saving raster image...\n",
      "- Applying segment-geospatial to raster image...\n",
      "- Saving segmented image...\n",
      "- Generating segment IDs...\n",
      "Segmentation is completed in 218.76 seconds. Number of instances: 102\n",
      "\n",
      "Writing the segmented point cloud to downsample_computed.las...\n",
      "Writing is completed in 1.19 seconds.\n",
      "\n"
     ]
    },
    {
     "data": {
      "image/png": "[encoded data removed]",
      "text/plain": [
       "<Figure size 640x480 with 1 Axes>"
      ]
     },
     "metadata": {},
     "output_type": "display_data"
    }
   ],
   "source": [
    "las = laspy.read(\"segmented.las\")\n",
    "nb_iteration = 4\n",
    "voxel_size = 0.12\n",
    "\n",
    "label_path = \"/home/savinien/Documents/Polonie/lidar-segment/lidar-segment/labeled.tif\"\n",
    "las_downsample = \"downsampled.las\"\n",
    "las_downsample_computed = \"downsample_computed.las\"\n",
    "\n",
    "nb_contour_list = []\n",
    "nb_pointcloud = []\n",
    "\n",
    "for i in range(nb_iteration):\n",
    "    print(\"Iteration number : \", i)\n",
    "    if(i == 0):\n",
    "        pcd_before = convert_las_to_pcd(las)\n",
    "        pcd_downsample, nb_pointcloud_after = voxel_downsample(pcd_before, nb_pointcloud, voxel_size)\n",
    "    else:\n",
    "        las = laspy.read(las_downsample)\n",
    "        pcd_before = convert_las_to_pcd(las)\n",
    "        pcd_downsample, nb_pointcloud_after = voxel_downsample(pcd_before, nb_pointcloud, voxel_size * 2)\n",
    "    \n",
    "    nb_pointcloud = nb_pointcloud_after\n",
    "\n",
    "    las_downsample = convert_pcd_to_las(point_cloud=pcd_downsample, las_file=las_downsample)\n",
    "\n",
    "    compute_segment_lidar(las_downsample, las_downsample_computed, label_path)\n",
    "\n",
    "    # Run benchmark\n",
    "    nb_contour_list = benchmark(label_path, nb_contour_list)\n",
    "    \n",
    "xs = [x+1 for x in range(len(nb_contour_list))]\n",
    "plt.plot(xs, nb_contour_list)\n",
    "plt.xlabel(\"Number of iterations\")\n",
    "plt.ylabel(\"Number of contours\")\n",
    "plt.title(\"Number of contours in the labeled image\")\n",
    "plt.show()\n"
   ]
  }
 ],
 "metadata": {
  "kernelspec": {
   "display_name": ".env310",
   "language": "python",
   "name": "python3"
  },
  "language_info": {
   "codemirror_mode": {
    "name": "ipython",
    "version": 3
   },
   "file_extension": ".py",
   "mimetype": "text/x-python",
   "name": "python",
   "nbconvert_exporter": "python",
   "pygments_lexer": "ipython3",
   "version": "3.10.16"
  }
 },
 "nbformat": 4,
 "nbformat_minor": 2
}
