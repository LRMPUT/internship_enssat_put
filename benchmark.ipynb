{
 "cells": [
  {
   "cell_type": "code",
   "execution_count": 22,
   "metadata": {},
   "outputs": [],
   "source": [
    "import matplotlib.pyplot as plt\n",
    "import plotly.express as px\n",
    "import pandas as pd\n",
    "import numpy as np\n",
    "from LiSAM.lisam import run\n",
    "from os.path import join"
   ]
  },
  {
   "cell_type": "code",
   "execution_count": 2,
   "metadata": {},
   "outputs": [],
   "source": [
    "POINTS_CLOUD_FOLDER = \"/mnt/Poznan_Internship/Data/CampusTmp/\"\n",
    "MODELS_FOLDER = \"/mnt/Poznan_Internship/\""
   ]
  },
  {
   "cell_type": "markdown",
   "metadata": {},
   "source": [
    "## Segmentation performance with points subsambling\n"
   ]
  },
  {
   "cell_type": "markdown",
   "metadata": {},
   "source": [
    "### Voxel subsampling\n"
   ]
  },
  {
   "cell_type": "code",
   "execution_count": 3,
   "metadata": {},
   "outputs": [],
   "source": [
    "# Subsampling parameters\n",
    "start = 0\n",
    "end = 1.0\n",
    "num = 10\n",
    "steps = np.linspace(start, end, num)"
   ]
  },
  {
   "cell_type": "code",
   "execution_count": 4,
   "metadata": {},
   "outputs": [
    {
     "name": "stderr",
     "output_type": "stream",
     "text": [
      "WARNING:root:files are already presents in ./result_subsamp_voxel folder, do you want them to be deleted [Y/N] ?\n"
     ]
    },
    {
     "name": "stdout",
     "output_type": "stream",
     "text": [
      "Running step [1/10]\n",
      "- Generating raster image...\n",
      "- Saving raster image...\n",
      "- Applying segment-geospatial to raster image...\n",
      "- Saving segmented image...\n",
      "- Generating segment IDs...\n"
     ]
    },
    {
     "name": "stderr",
     "output_type": "stream",
     "text": [
      "WARNING:root:files are already presents in ./result_subsamp_voxel folder, do you want them to be deleted [Y/N] ?\n"
     ]
    },
    {
     "name": "stdout",
     "output_type": "stream",
     "text": [
      "Segmentation is completed in 47.44 seconds. Number of instances: 1286\n",
      "\n",
      "Running step [2/10]\n",
      "- Generating raster image...\n",
      "- Saving raster image...\n",
      "- Applying segment-geospatial to raster image...\n",
      "- Saving segmented image...\n",
      "- Generating segment IDs...\n"
     ]
    },
    {
     "name": "stderr",
     "output_type": "stream",
     "text": [
      "WARNING:root:files are already presents in ./result_subsamp_voxel folder, do you want them to be deleted [Y/N] ?\n"
     ]
    },
    {
     "name": "stdout",
     "output_type": "stream",
     "text": [
      "Segmentation is completed in 42.80 seconds. Number of instances: 1268\n",
      "\n",
      "Running step [3/10]\n",
      "- Generating raster image...\n",
      "- Saving raster image...\n",
      "- Applying segment-geospatial to raster image...\n",
      "- Saving segmented image...\n",
      "- Generating segment IDs...\n"
     ]
    },
    {
     "name": "stderr",
     "output_type": "stream",
     "text": [
      "WARNING:root:files are already presents in ./result_subsamp_voxel folder, do you want them to be deleted [Y/N] ?\n"
     ]
    },
    {
     "name": "stdout",
     "output_type": "stream",
     "text": [
      "Segmentation is completed in 42.04 seconds. Number of instances: 1216\n",
      "\n",
      "Running step [4/10]\n",
      "- Generating raster image...\n",
      "- Saving raster image...\n",
      "- Applying segment-geospatial to raster image...\n"
     ]
    },
    {
     "name": "stderr",
     "output_type": "stream",
     "text": [
      "WARNING:root:files are already presents in ./result_subsamp_voxel folder, do you want them to be deleted [Y/N] ?\n"
     ]
    },
    {
     "name": "stdout",
     "output_type": "stream",
     "text": [
      "- Saving segmented image...\n",
      "- Generating segment IDs...\n",
      "Segmentation is completed in 45.15 seconds. Number of instances: 392\n",
      "\n",
      "Running step [5/10]\n",
      "- Generating raster image...\n",
      "- Saving raster image...\n",
      "- Applying segment-geospatial to raster image...\n"
     ]
    },
    {
     "name": "stderr",
     "output_type": "stream",
     "text": [
      "WARNING:root:files are already presents in ./result_subsamp_voxel folder, do you want them to be deleted [Y/N] ?\n"
     ]
    },
    {
     "name": "stdout",
     "output_type": "stream",
     "text": [
      "- Saving segmented image...\n",
      "- Generating segment IDs...\n",
      "Segmentation is completed in 45.47 seconds. Number of instances: 284\n",
      "\n",
      "Running step [6/10]\n",
      "- Generating raster image...\n",
      "- Saving raster image...\n",
      "- Applying segment-geospatial to raster image...\n"
     ]
    },
    {
     "name": "stderr",
     "output_type": "stream",
     "text": [
      "WARNING:root:files are already presents in ./result_subsamp_voxel folder, do you want them to be deleted [Y/N] ?\n"
     ]
    },
    {
     "name": "stdout",
     "output_type": "stream",
     "text": [
      "- Saving segmented image...\n",
      "- Generating segment IDs...\n",
      "Segmentation is completed in 44.06 seconds. Number of instances: 190\n",
      "\n",
      "Running step [7/10]\n",
      "- Generating raster image...\n",
      "- Saving raster image...\n",
      "- Applying segment-geospatial to raster image...\n"
     ]
    },
    {
     "name": "stderr",
     "output_type": "stream",
     "text": [
      "WARNING:root:files are already presents in ./result_subsamp_voxel folder, do you want them to be deleted [Y/N] ?\n"
     ]
    },
    {
     "name": "stdout",
     "output_type": "stream",
     "text": [
      "- Saving segmented image...\n",
      "- Generating segment IDs...\n",
      "Segmentation is completed in 43.64 seconds. Number of instances: 101\n",
      "\n",
      "Running step [8/10]\n",
      "- Generating raster image...\n",
      "- Saving raster image...\n",
      "- Applying segment-geospatial to raster image...\n"
     ]
    },
    {
     "name": "stderr",
     "output_type": "stream",
     "text": [
      "WARNING:root:files are already presents in ./result_subsamp_voxel folder, do you want them to be deleted [Y/N] ?\n"
     ]
    },
    {
     "name": "stdout",
     "output_type": "stream",
     "text": [
      "- Saving segmented image...\n",
      "- Generating segment IDs...\n",
      "Segmentation is completed in 42.27 seconds. Number of instances: 64\n",
      "\n",
      "Running step [9/10]\n",
      "- Generating raster image...\n",
      "- Saving raster image...\n",
      "- Applying segment-geospatial to raster image...\n"
     ]
    },
    {
     "name": "stderr",
     "output_type": "stream",
     "text": [
      "WARNING:root:files are already presents in ./result_subsamp_voxel folder, do you want them to be deleted [Y/N] ?\n"
     ]
    },
    {
     "name": "stdout",
     "output_type": "stream",
     "text": [
      "- Saving segmented image...\n",
      "- Generating segment IDs...\n",
      "Segmentation is completed in 42.19 seconds. Number of instances: 32\n",
      "\n",
      "Running step [10/10]\n",
      "- Generating raster image...\n",
      "- Saving raster image...\n",
      "- Applying segment-geospatial to raster image...\n",
      "- Saving segmented image...\n",
      "- Generating segment IDs...\n",
      "Segmentation is completed in 42.38 seconds. Number of instances: 16\n",
      "\n"
     ]
    }
   ],
   "source": [
    "res = []\n",
    "s = 0\n",
    "for i in steps:\n",
    "    s+=1\n",
    "    print(f\"Running step [{s}/{len(steps)}]\")\n",
    "    res.append(\n",
    "        run(\n",
    "            pointclouds_folder=POINTS_CLOUD_FOLDER,\n",
    "            result_path=\".\",\n",
    "            result_folder_name=f\"result_subsamp_voxel\",\n",
    "            model_path=join(MODELS_FOLDER, \"sam_vit_h_4b8939.pth\"),\n",
    "            subsampling=i,\n",
    "            subsampling_method=\"voxel\"\n",
    "        )\n",
    "    )"
   ]
  },
  {
   "cell_type": "code",
   "execution_count": 5,
   "metadata": {},
   "outputs": [],
   "source": [
    "x = steps\n",
    "subsampling_voxel_y = [list(r.values())[0] for r in res]"
   ]
  },
  {
   "cell_type": "markdown",
   "metadata": {},
   "source": [
    "### Random subsampling\n"
   ]
  },
  {
   "cell_type": "code",
   "execution_count": 6,
   "metadata": {},
   "outputs": [
    {
     "name": "stderr",
     "output_type": "stream",
     "text": [
      "WARNING:root:files are already presents in ./result_subsamp_voxel folder, do you want them to be deleted [Y/N] ?\n"
     ]
    },
    {
     "name": "stdout",
     "output_type": "stream",
     "text": [
      "Running step [1/10]\n",
      "- Generating raster image...\n",
      "- Saving raster image...\n",
      "- Applying segment-geospatial to raster image...\n",
      "- Saving segmented image...\n",
      "- Generating segment IDs...\n"
     ]
    },
    {
     "name": "stderr",
     "output_type": "stream",
     "text": [
      "WARNING:root:files are already presents in ./result_subsamp_voxel folder, do you want them to be deleted [Y/N] ?\n"
     ]
    },
    {
     "name": "stdout",
     "output_type": "stream",
     "text": [
      "Segmentation is completed in 44.10 seconds. Number of instances: 1286\n",
      "\n",
      "Running step [2/10]\n",
      "- Generating raster image...\n",
      "- Saving raster image...\n",
      "- Applying segment-geospatial to raster image...\n"
     ]
    },
    {
     "name": "stderr",
     "output_type": "stream",
     "text": [
      "WARNING:root:files are already presents in ./result_subsamp_voxel folder, do you want them to be deleted [Y/N] ?\n"
     ]
    },
    {
     "name": "stdout",
     "output_type": "stream",
     "text": [
      "- Saving segmented image...\n",
      "- Generating segment IDs...\n",
      "Segmentation is completed in 41.69 seconds. Number of instances: 825\n",
      "\n",
      "Running step [3/10]\n",
      "- Generating raster image...\n",
      "- Saving raster image...\n",
      "- Applying segment-geospatial to raster image...\n",
      "- Saving segmented image...\n",
      "- Generating segment IDs...\n"
     ]
    },
    {
     "name": "stderr",
     "output_type": "stream",
     "text": [
      "WARNING:root:files are already presents in ./result_subsamp_voxel folder, do you want them to be deleted [Y/N] ?\n"
     ]
    },
    {
     "name": "stdout",
     "output_type": "stream",
     "text": [
      "Segmentation is completed in 42.35 seconds. Number of instances: 1095\n",
      "\n",
      "Running step [4/10]\n",
      "- Generating raster image...\n",
      "- Saving raster image...\n",
      "- Applying segment-geospatial to raster image...\n",
      "- Saving segmented image...\n",
      "- Generating segment IDs...\n"
     ]
    },
    {
     "name": "stderr",
     "output_type": "stream",
     "text": [
      "WARNING:root:files are already presents in ./result_subsamp_voxel folder, do you want them to be deleted [Y/N] ?\n"
     ]
    },
    {
     "name": "stdout",
     "output_type": "stream",
     "text": [
      "Segmentation is completed in 42.86 seconds. Number of instances: 1169\n",
      "\n",
      "Running step [5/10]\n",
      "- Generating raster image...\n",
      "- Saving raster image...\n",
      "- Applying segment-geospatial to raster image...\n",
      "- Saving segmented image...\n",
      "- Generating segment IDs...\n"
     ]
    },
    {
     "name": "stderr",
     "output_type": "stream",
     "text": [
      "WARNING:root:files are already presents in ./result_subsamp_voxel folder, do you want them to be deleted [Y/N] ?\n"
     ]
    },
    {
     "name": "stdout",
     "output_type": "stream",
     "text": [
      "Segmentation is completed in 43.73 seconds. Number of instances: 1181\n",
      "\n",
      "Running step [6/10]\n",
      "- Generating raster image...\n",
      "- Saving raster image...\n",
      "- Applying segment-geospatial to raster image...\n",
      "- Saving segmented image...\n",
      "- Generating segment IDs...\n"
     ]
    },
    {
     "name": "stderr",
     "output_type": "stream",
     "text": [
      "WARNING:root:files are already presents in ./result_subsamp_voxel folder, do you want them to be deleted [Y/N] ?\n"
     ]
    },
    {
     "name": "stdout",
     "output_type": "stream",
     "text": [
      "Segmentation is completed in 46.42 seconds. Number of instances: 1245\n",
      "\n",
      "Running step [7/10]\n",
      "- Generating raster image...\n",
      "- Saving raster image...\n",
      "- Applying segment-geospatial to raster image...\n",
      "- Saving segmented image...\n",
      "- Generating segment IDs...\n"
     ]
    },
    {
     "name": "stderr",
     "output_type": "stream",
     "text": [
      "WARNING:root:files are already presents in ./result_subsamp_voxel folder, do you want them to be deleted [Y/N] ?\n"
     ]
    },
    {
     "name": "stdout",
     "output_type": "stream",
     "text": [
      "Segmentation is completed in 44.46 seconds. Number of instances: 1272\n",
      "\n",
      "Running step [8/10]\n",
      "- Generating raster image...\n",
      "- Saving raster image...\n",
      "- Applying segment-geospatial to raster image...\n",
      "- Saving segmented image...\n",
      "- Generating segment IDs...\n"
     ]
    },
    {
     "name": "stderr",
     "output_type": "stream",
     "text": [
      "WARNING:root:files are already presents in ./result_subsamp_voxel folder, do you want them to be deleted [Y/N] ?\n"
     ]
    },
    {
     "name": "stdout",
     "output_type": "stream",
     "text": [
      "Segmentation is completed in 45.55 seconds. Number of instances: 1296\n",
      "\n",
      "Running step [9/10]\n",
      "- Generating raster image...\n",
      "- Saving raster image...\n",
      "- Applying segment-geospatial to raster image...\n",
      "- Saving segmented image...\n",
      "- Generating segment IDs...\n"
     ]
    },
    {
     "name": "stderr",
     "output_type": "stream",
     "text": [
      "WARNING:root:files are already presents in ./result_subsamp_voxel folder, do you want them to be deleted [Y/N] ?\n"
     ]
    },
    {
     "name": "stdout",
     "output_type": "stream",
     "text": [
      "Segmentation is completed in 46.74 seconds. Number of instances: 1270\n",
      "\n",
      "Running step [10/10]\n",
      "- Generating raster image...\n",
      "- Saving raster image...\n",
      "- Applying segment-geospatial to raster image...\n",
      "- Saving segmented image...\n",
      "- Generating segment IDs...\n",
      "Segmentation is completed in 44.96 seconds. Number of instances: 1257\n",
      "\n"
     ]
    }
   ],
   "source": [
    "res = []\n",
    "s = 0\n",
    "for i in steps:\n",
    "    s+=1\n",
    "    print(f\"Running step [{s}/{len(steps)}]\")\n",
    "    res.append(\n",
    "        run(\n",
    "            pointclouds_folder=POINTS_CLOUD_FOLDER,\n",
    "            result_path=\".\",\n",
    "            result_folder_name=f\"result_subsamp_voxel\",\n",
    "            model_path=join(MODELS_FOLDER, \"sam_vit_h_4b8939.pth\"),\n",
    "            subsampling=i,\n",
    "            subsampling_method=\"random\"\n",
    "        )\n",
    "    )"
   ]
  },
  {
   "cell_type": "code",
   "execution_count": 7,
   "metadata": {},
   "outputs": [],
   "source": [
    "x = steps\n",
    "subsampling_random_y = [list(r.values())[0] for r in res]"
   ]
  },
  {
   "cell_type": "markdown",
   "metadata": {},
   "source": [
    "### Uniform subsampling\n"
   ]
  },
  {
   "cell_type": "code",
   "execution_count": 8,
   "metadata": {},
   "outputs": [],
   "source": [
    "start = 0\n",
    "end = 200\n",
    "num = 10\n",
    "steps = np.linspace(start, end, num)"
   ]
  },
  {
   "cell_type": "code",
   "execution_count": 9,
   "metadata": {},
   "outputs": [
    {
     "name": "stderr",
     "output_type": "stream",
     "text": [
      "WARNING:root:files are already presents in ./result_subsamp_voxel folder, do you want them to be deleted [Y/N] ?\n"
     ]
    },
    {
     "name": "stdout",
     "output_type": "stream",
     "text": [
      "Running step [1/10]\n",
      "- Generating raster image...\n",
      "- Saving raster image...\n",
      "- Applying segment-geospatial to raster image...\n",
      "- Saving segmented image...\n",
      "- Generating segment IDs...\n"
     ]
    },
    {
     "name": "stderr",
     "output_type": "stream",
     "text": [
      "WARNING:root:files are already presents in ./result_subsamp_voxel folder, do you want them to be deleted [Y/N] ?\n"
     ]
    },
    {
     "name": "stdout",
     "output_type": "stream",
     "text": [
      "Segmentation is completed in 44.62 seconds. Number of instances: 1286\n",
      "\n",
      "Running step [2/10]\n",
      "- Generating raster image...\n",
      "- Saving raster image...\n",
      "- Applying segment-geospatial to raster image...\n"
     ]
    },
    {
     "name": "stderr",
     "output_type": "stream",
     "text": [
      "WARNING:root:files are already presents in ./result_subsamp_voxel folder, do you want them to be deleted [Y/N] ?\n"
     ]
    },
    {
     "name": "stdout",
     "output_type": "stream",
     "text": [
      "- Saving segmented image...\n",
      "- Generating segment IDs...\n",
      "Segmentation is completed in 42.42 seconds. Number of instances: 594\n",
      "\n",
      "Running step [3/10]\n",
      "- Generating raster image...\n",
      "- Saving raster image...\n",
      "- Applying segment-geospatial to raster image...\n"
     ]
    },
    {
     "name": "stderr",
     "output_type": "stream",
     "text": [
      "WARNING:root:files are already presents in ./result_subsamp_voxel folder, do you want them to be deleted [Y/N] ?\n"
     ]
    },
    {
     "name": "stdout",
     "output_type": "stream",
     "text": [
      "- Saving segmented image...\n",
      "- Generating segment IDs...\n",
      "Segmentation is completed in 41.41 seconds. Number of instances: 411\n",
      "\n",
      "Running step [4/10]\n",
      "- Generating raster image...\n",
      "- Saving raster image...\n",
      "- Applying segment-geospatial to raster image...\n"
     ]
    },
    {
     "name": "stderr",
     "output_type": "stream",
     "text": [
      "WARNING:root:files are already presents in ./result_subsamp_voxel folder, do you want them to be deleted [Y/N] ?\n"
     ]
    },
    {
     "name": "stdout",
     "output_type": "stream",
     "text": [
      "- Saving segmented image...\n",
      "- Generating segment IDs...\n",
      "Segmentation is completed in 41.48 seconds. Number of instances: 316\n",
      "\n",
      "Running step [5/10]\n",
      "- Generating raster image...\n",
      "- Saving raster image...\n",
      "- Applying segment-geospatial to raster image...\n"
     ]
    },
    {
     "name": "stderr",
     "output_type": "stream",
     "text": [
      "WARNING:root:files are already presents in ./result_subsamp_voxel folder, do you want them to be deleted [Y/N] ?\n"
     ]
    },
    {
     "name": "stdout",
     "output_type": "stream",
     "text": [
      "- Saving segmented image...\n",
      "- Generating segment IDs...\n",
      "Segmentation is completed in 41.74 seconds. Number of instances: 249\n",
      "\n",
      "Running step [6/10]\n",
      "- Generating raster image...\n",
      "- Saving raster image...\n",
      "- Applying segment-geospatial to raster image...\n"
     ]
    },
    {
     "name": "stderr",
     "output_type": "stream",
     "text": [
      "WARNING:root:files are already presents in ./result_subsamp_voxel folder, do you want them to be deleted [Y/N] ?\n"
     ]
    },
    {
     "name": "stdout",
     "output_type": "stream",
     "text": [
      "- Saving segmented image...\n",
      "- Generating segment IDs...\n",
      "Segmentation is completed in 42.78 seconds. Number of instances: 172\n",
      "\n",
      "Running step [7/10]\n",
      "- Generating raster image...\n",
      "- Saving raster image...\n",
      "- Applying segment-geospatial to raster image...\n"
     ]
    },
    {
     "name": "stderr",
     "output_type": "stream",
     "text": [
      "WARNING:root:files are already presents in ./result_subsamp_voxel folder, do you want them to be deleted [Y/N] ?\n"
     ]
    },
    {
     "name": "stdout",
     "output_type": "stream",
     "text": [
      "- Saving segmented image...\n",
      "- Generating segment IDs...\n",
      "Segmentation is completed in 42.34 seconds. Number of instances: 175\n",
      "\n",
      "Running step [8/10]\n",
      "- Generating raster image...\n",
      "- Saving raster image...\n",
      "- Applying segment-geospatial to raster image...\n"
     ]
    },
    {
     "name": "stderr",
     "output_type": "stream",
     "text": [
      "WARNING:root:files are already presents in ./result_subsamp_voxel folder, do you want them to be deleted [Y/N] ?\n"
     ]
    },
    {
     "name": "stdout",
     "output_type": "stream",
     "text": [
      "- Saving segmented image...\n",
      "- Generating segment IDs...\n",
      "Segmentation is completed in 43.61 seconds. Number of instances: 128\n",
      "\n",
      "Running step [9/10]\n",
      "- Generating raster image...\n",
      "- Saving raster image...\n",
      "- Applying segment-geospatial to raster image...\n"
     ]
    },
    {
     "name": "stderr",
     "output_type": "stream",
     "text": [
      "WARNING:root:files are already presents in ./result_subsamp_voxel folder, do you want them to be deleted [Y/N] ?\n"
     ]
    },
    {
     "name": "stdout",
     "output_type": "stream",
     "text": [
      "- Saving segmented image...\n",
      "- Generating segment IDs...\n",
      "Segmentation is completed in 43.13 seconds. Number of instances: 109\n",
      "\n",
      "Running step [10/10]\n",
      "- Generating raster image...\n",
      "- Saving raster image...\n",
      "- Applying segment-geospatial to raster image...\n",
      "- Saving segmented image...\n",
      "- Generating segment IDs...\n",
      "Segmentation is completed in 43.06 seconds. Number of instances: 121\n",
      "\n"
     ]
    }
   ],
   "source": [
    "res = []\n",
    "s = 0\n",
    "for i in steps:\n",
    "    s+=1\n",
    "    print(f\"Running step [{s}/{len(steps)}]\")\n",
    "    res.append(\n",
    "        run(\n",
    "            pointclouds_folder=POINTS_CLOUD_FOLDER,\n",
    "            result_path=\".\",\n",
    "            result_folder_name=f\"result_subsamp_voxel\",\n",
    "            model_path=join(MODELS_FOLDER, \"sam_vit_h_4b8939.pth\"),\n",
    "            subsampling=i,\n",
    "            subsampling_method=\"uniform\"\n",
    "        )\n",
    "    )"
   ]
  },
  {
   "cell_type": "code",
   "execution_count": 10,
   "metadata": {},
   "outputs": [],
   "source": [
    "x = steps\n",
    "subsampling_uniform_y = [list(r.values())[0] for r in res]"
   ]
  },
  {
   "cell_type": "code",
   "execution_count": 56,
   "metadata": {},
   "outputs": [
    {
     "data": {
      "text/plain": [
       "Text(0, 0.5, 'Number of segmentations found')"
      ]
     },
     "execution_count": 56,
     "metadata": {},
     "output_type": "execute_result"
    },
    {
     "data": {
      "image/png": "[encoded data removed]",
      "text/plain": [
       "<Figure size 640x480 with 1 Axes>"
      ]
     },
     "metadata": {},
     "output_type": "display_data"
    }
   ],
   "source": [
    "df = pd.DataFrame(dict({\"Random\": subsampling_random_y, \"Uniform\": subsampling_uniform_y, \"Voxel\": subsampling_voxel_y}))\n",
    "\n",
    "plt.plot(df)\n",
    "plt.legend([\"Random\", \"Uniform\", \"Voxel\"])\n",
    "plt.title(\"Segmentation performance with points downsampling\")\n",
    "plt.xlabel(\"Downsample level\")\n",
    "plt.ylabel(\"Number of segmentations found\")"
   ]
  },
  {
   "cell_type": "markdown",
   "metadata": {},
   "source": [
    "## Segmentation performance with rasterization subsampling\n"
   ]
  },
  {
   "cell_type": "code",
   "execution_count": 57,
   "metadata": {},
   "outputs": [],
   "source": [
    "start = 0.2\n",
    "end = 4\n",
    "num = 10\n",
    "steps = np.linspace(start, end, num)"
   ]
  },
  {
   "cell_type": "code",
   "execution_count": 58,
   "metadata": {},
   "outputs": [
    {
     "name": "stderr",
     "output_type": "stream",
     "text": [
      "WARNING:root:files are already presents in ./result_subsamp_voxel folder, do you want them to be deleted [Y/N] ?\n"
     ]
    },
    {
     "name": "stdout",
     "output_type": "stream",
     "text": [
      "Running step [1/10]\n",
      "- Generating raster image...\n",
      "- Saving raster image...\n",
      "- Applying segment-geospatial to raster image...\n",
      "- Saving segmented image...\n",
      "- Generating segment IDs...\n"
     ]
    },
    {
     "name": "stderr",
     "output_type": "stream",
     "text": [
      "WARNING:root:files are already presents in ./result_subsamp_voxel folder, do you want them to be deleted [Y/N] ?\n"
     ]
    },
    {
     "name": "stdout",
     "output_type": "stream",
     "text": [
      "Segmentation is completed in 52.91 seconds. Number of instances: 1276\n",
      "\n",
      "Running step [2/10]\n",
      "- Generating raster image...\n",
      "- Saving raster image...\n",
      "- Applying segment-geospatial to raster image...\n",
      "- Saving segmented image...\n",
      "- Generating segment IDs...\n"
     ]
    },
    {
     "name": "stderr",
     "output_type": "stream",
     "text": [
      "WARNING:root:files are already presents in ./result_subsamp_voxel folder, do you want them to be deleted [Y/N] ?\n"
     ]
    },
    {
     "name": "stdout",
     "output_type": "stream",
     "text": [
      "Segmentation is completed in 34.78 seconds. Number of instances: 776\n",
      "\n",
      "Running step [3/10]\n",
      "- Generating raster image...\n",
      "- Saving raster image...\n",
      "- Applying segment-geospatial to raster image...\n",
      "- Saving segmented image...\n",
      "- Generating segment IDs...\n"
     ]
    },
    {
     "name": "stderr",
     "output_type": "stream",
     "text": [
      "WARNING:root:files are already presents in ./result_subsamp_voxel folder, do you want them to be deleted [Y/N] ?\n"
     ]
    },
    {
     "name": "stdout",
     "output_type": "stream",
     "text": [
      "Segmentation is completed in 32.84 seconds. Number of instances: 499\n",
      "\n",
      "Running step [4/10]\n",
      "- Generating raster image...\n",
      "- Saving raster image...\n",
      "- Applying segment-geospatial to raster image...\n",
      "- Saving segmented image...\n",
      "- Generating segment IDs...\n"
     ]
    },
    {
     "name": "stderr",
     "output_type": "stream",
     "text": [
      "WARNING:root:files are already presents in ./result_subsamp_voxel folder, do you want them to be deleted [Y/N] ?\n"
     ]
    },
    {
     "name": "stdout",
     "output_type": "stream",
     "text": [
      "Segmentation is completed in 32.12 seconds. Number of instances: 364\n",
      "\n",
      "Running step [5/10]\n",
      "- Generating raster image...\n",
      "- Saving raster image...\n",
      "- Applying segment-geospatial to raster image...\n",
      "- Saving segmented image...\n",
      "- Generating segment IDs...\n"
     ]
    },
    {
     "name": "stderr",
     "output_type": "stream",
     "text": [
      "WARNING:root:files are already presents in ./result_subsamp_voxel folder, do you want them to be deleted [Y/N] ?\n"
     ]
    },
    {
     "name": "stdout",
     "output_type": "stream",
     "text": [
      "Segmentation is completed in 31.77 seconds. Number of instances: 282\n",
      "\n",
      "Running step [6/10]\n",
      "- Generating raster image...\n",
      "- Saving raster image...\n",
      "- Applying segment-geospatial to raster image...\n",
      "- Saving segmented image...\n",
      "- Generating segment IDs...\n"
     ]
    },
    {
     "name": "stderr",
     "output_type": "stream",
     "text": [
      "WARNING:root:files are already presents in ./result_subsamp_voxel folder, do you want them to be deleted [Y/N] ?\n"
     ]
    },
    {
     "name": "stdout",
     "output_type": "stream",
     "text": [
      "Segmentation is completed in 32.81 seconds. Number of instances: 212\n",
      "\n",
      "Running step [7/10]\n",
      "- Generating raster image...\n",
      "- Saving raster image...\n",
      "- Applying segment-geospatial to raster image...\n",
      "- Saving segmented image...\n",
      "- Generating segment IDs...\n"
     ]
    },
    {
     "name": "stderr",
     "output_type": "stream",
     "text": [
      "WARNING:root:files are already presents in ./result_subsamp_voxel folder, do you want them to be deleted [Y/N] ?\n"
     ]
    },
    {
     "name": "stdout",
     "output_type": "stream",
     "text": [
      "Segmentation is completed in 31.86 seconds. Number of instances: 242\n",
      "\n",
      "Running step [8/10]\n",
      "- Generating raster image...\n",
      "- Saving raster image...\n",
      "- Applying segment-geospatial to raster image...\n",
      "- Saving segmented image...\n",
      "- Generating segment IDs...\n"
     ]
    },
    {
     "name": "stderr",
     "output_type": "stream",
     "text": [
      "WARNING:root:files are already presents in ./result_subsamp_voxel folder, do you want them to be deleted [Y/N] ?\n"
     ]
    },
    {
     "name": "stdout",
     "output_type": "stream",
     "text": [
      "Segmentation is completed in 32.05 seconds. Number of instances: 287\n",
      "\n",
      "Running step [9/10]\n",
      "- Generating raster image...\n",
      "- Saving raster image...\n",
      "- Applying segment-geospatial to raster image...\n",
      "- Saving segmented image...\n",
      "- Generating segment IDs...\n"
     ]
    },
    {
     "name": "stderr",
     "output_type": "stream",
     "text": [
      "WARNING:root:files are already presents in ./result_subsamp_voxel folder, do you want them to be deleted [Y/N] ?\n"
     ]
    },
    {
     "name": "stdout",
     "output_type": "stream",
     "text": [
      "Segmentation is completed in 31.82 seconds. Number of instances: 319\n",
      "\n",
      "Running step [10/10]\n",
      "- Generating raster image...\n",
      "- Saving raster image...\n",
      "- Applying segment-geospatial to raster image...\n",
      "- Saving segmented image...\n",
      "- Generating segment IDs...\n",
      "Segmentation is completed in 31.66 seconds. Number of instances: 429\n",
      "\n"
     ]
    }
   ],
   "source": [
    "res = []\n",
    "s = 0\n",
    "for i in steps:\n",
    "    s+=1\n",
    "    print(f\"Running step [{s}/{len(steps)}]\")\n",
    "    res.append(\n",
    "        run(\n",
    "            pointclouds_folder=POINTS_CLOUD_FOLDER,\n",
    "            result_path=\".\",\n",
    "            result_folder_name=f\"result_subsamp_voxel\",\n",
    "            model_path=join(MODELS_FOLDER, \"sam_vit_h_4b8939.pth\"),\n",
    "            default_answer=\"y\",\n",
    "            resolution=i\n",
    "        )\n",
    "    )"
   ]
  },
  {
   "cell_type": "code",
   "execution_count": 59,
   "metadata": {},
   "outputs": [],
   "source": [
    "x = steps\n",
    "subsampling_vit_h_y = [list(r.values())[0] for r in res]"
   ]
  },
  {
   "cell_type": "code",
   "execution_count": 60,
   "metadata": {},
   "outputs": [
    {
     "name": "stderr",
     "output_type": "stream",
     "text": [
      "WARNING:root:files are already presents in ./result_subsamp_voxel folder, do you want them to be deleted [Y/N] ?\n"
     ]
    },
    {
     "name": "stdout",
     "output_type": "stream",
     "text": [
      "Running step [1/10]\n",
      "- Generating raster image...\n",
      "- Saving raster image...\n",
      "- Applying segment-geospatial to raster image...\n",
      "- Saving segmented image...\n",
      "- Generating segment IDs...\n"
     ]
    },
    {
     "name": "stderr",
     "output_type": "stream",
     "text": [
      "WARNING:root:files are already presents in ./result_subsamp_voxel folder, do you want them to be deleted [Y/N] ?\n"
     ]
    },
    {
     "name": "stdout",
     "output_type": "stream",
     "text": [
      "Segmentation is completed in 48.07 seconds. Number of instances: 1184\n",
      "\n",
      "Running step [2/10]\n",
      "- Generating raster image...\n",
      "- Saving raster image...\n",
      "- Applying segment-geospatial to raster image...\n",
      "- Saving segmented image...\n",
      "- Generating segment IDs...\n"
     ]
    },
    {
     "name": "stderr",
     "output_type": "stream",
     "text": [
      "WARNING:root:files are already presents in ./result_subsamp_voxel folder, do you want them to be deleted [Y/N] ?\n"
     ]
    },
    {
     "name": "stdout",
     "output_type": "stream",
     "text": [
      "Segmentation is completed in 32.85 seconds. Number of instances: 707\n",
      "\n",
      "Running step [3/10]\n",
      "- Generating raster image...\n",
      "- Saving raster image...\n",
      "- Applying segment-geospatial to raster image...\n",
      "- Saving segmented image...\n",
      "- Generating segment IDs...\n"
     ]
    },
    {
     "name": "stderr",
     "output_type": "stream",
     "text": [
      "WARNING:root:files are already presents in ./result_subsamp_voxel folder, do you want them to be deleted [Y/N] ?\n"
     ]
    },
    {
     "name": "stdout",
     "output_type": "stream",
     "text": [
      "Segmentation is completed in 31.62 seconds. Number of instances: 557\n",
      "\n",
      "Running step [4/10]\n",
      "- Generating raster image...\n",
      "- Saving raster image...\n",
      "- Applying segment-geospatial to raster image...\n",
      "- Saving segmented image...\n",
      "- Generating segment IDs...\n"
     ]
    },
    {
     "name": "stderr",
     "output_type": "stream",
     "text": [
      "WARNING:root:files are already presents in ./result_subsamp_voxel folder, do you want them to be deleted [Y/N] ?\n"
     ]
    },
    {
     "name": "stdout",
     "output_type": "stream",
     "text": [
      "Segmentation is completed in 31.05 seconds. Number of instances: 471\n",
      "\n",
      "Running step [5/10]\n",
      "- Generating raster image...\n",
      "- Saving raster image...\n",
      "- Applying segment-geospatial to raster image...\n",
      "- Saving segmented image...\n",
      "- Generating segment IDs...\n"
     ]
    },
    {
     "name": "stderr",
     "output_type": "stream",
     "text": [
      "WARNING:root:files are already presents in ./result_subsamp_voxel folder, do you want them to be deleted [Y/N] ?\n"
     ]
    },
    {
     "name": "stdout",
     "output_type": "stream",
     "text": [
      "Segmentation is completed in 30.78 seconds. Number of instances: 372\n",
      "\n",
      "Running step [6/10]\n",
      "- Generating raster image...\n",
      "- Saving raster image...\n",
      "- Applying segment-geospatial to raster image...\n",
      "- Saving segmented image...\n",
      "- Generating segment IDs...\n"
     ]
    },
    {
     "name": "stderr",
     "output_type": "stream",
     "text": [
      "WARNING:root:files are already presents in ./result_subsamp_voxel folder, do you want them to be deleted [Y/N] ?\n"
     ]
    },
    {
     "name": "stdout",
     "output_type": "stream",
     "text": [
      "Segmentation is completed in 31.01 seconds. Number of instances: 299\n",
      "\n",
      "Running step [7/10]\n",
      "- Generating raster image...\n",
      "- Saving raster image...\n",
      "- Applying segment-geospatial to raster image...\n",
      "- Saving segmented image...\n",
      "- Generating segment IDs...\n"
     ]
    },
    {
     "name": "stderr",
     "output_type": "stream",
     "text": [
      "WARNING:root:files are already presents in ./result_subsamp_voxel folder, do you want them to be deleted [Y/N] ?\n"
     ]
    },
    {
     "name": "stdout",
     "output_type": "stream",
     "text": [
      "Segmentation is completed in 31.02 seconds. Number of instances: 302\n",
      "\n",
      "Running step [8/10]\n",
      "- Generating raster image...\n",
      "- Saving raster image...\n",
      "- Applying segment-geospatial to raster image...\n",
      "- Saving segmented image...\n",
      "- Generating segment IDs...\n"
     ]
    },
    {
     "name": "stderr",
     "output_type": "stream",
     "text": [
      "WARNING:root:files are already presents in ./result_subsamp_voxel folder, do you want them to be deleted [Y/N] ?\n"
     ]
    },
    {
     "name": "stdout",
     "output_type": "stream",
     "text": [
      "Segmentation is completed in 31.04 seconds. Number of instances: 333\n",
      "\n",
      "Running step [9/10]\n",
      "- Generating raster image...\n",
      "- Saving raster image...\n",
      "- Applying segment-geospatial to raster image...\n",
      "- Saving segmented image...\n",
      "- Generating segment IDs...\n"
     ]
    },
    {
     "name": "stderr",
     "output_type": "stream",
     "text": [
      "WARNING:root:files are already presents in ./result_subsamp_voxel folder, do you want them to be deleted [Y/N] ?\n"
     ]
    },
    {
     "name": "stdout",
     "output_type": "stream",
     "text": [
      "Segmentation is completed in 30.82 seconds. Number of instances: 368\n",
      "\n",
      "Running step [10/10]\n",
      "- Generating raster image...\n",
      "- Saving raster image...\n",
      "- Applying segment-geospatial to raster image...\n",
      "- Saving segmented image...\n",
      "- Generating segment IDs...\n",
      "Segmentation is completed in 30.77 seconds. Number of instances: 409\n",
      "\n"
     ]
    }
   ],
   "source": [
    "res = []\n",
    "s = 0\n",
    "for i in steps:\n",
    "    s+=1\n",
    "    print(f\"Running step [{s}/{len(steps)}]\")\n",
    "    res.append(\n",
    "        run(\n",
    "            pointclouds_folder=POINTS_CLOUD_FOLDER,\n",
    "            result_path=\".\",\n",
    "            result_folder_name=f\"result_subsamp_voxel\",\n",
    "            model_path=join(MODELS_FOLDER, \"sam_vit_l_0b3195.pth\"),\n",
    "            default_answer=\"y\",\n",
    "            resolution=i\n",
    "        )\n",
    "    )"
   ]
  },
  {
   "cell_type": "code",
   "execution_count": 61,
   "metadata": {},
   "outputs": [],
   "source": [
    "x = steps\n",
    "subsampling_vit_l_y = [list(r.values())[0] for r in res]"
   ]
  },
  {
   "cell_type": "code",
   "execution_count": 62,
   "metadata": {},
   "outputs": [
    {
     "name": "stderr",
     "output_type": "stream",
     "text": [
      "WARNING:root:files are already presents in ./result_subsamp_voxel folder, do you want them to be deleted [Y/N] ?\n"
     ]
    },
    {
     "name": "stdout",
     "output_type": "stream",
     "text": [
      "Running step [1/10]\n",
      "- Generating raster image...\n",
      "- Saving raster image...\n",
      "- Applying segment-geospatial to raster image...\n",
      "- Saving segmented image...\n",
      "- Generating segment IDs...\n"
     ]
    },
    {
     "name": "stderr",
     "output_type": "stream",
     "text": [
      "WARNING:root:files are already presents in ./result_subsamp_voxel folder, do you want them to be deleted [Y/N] ?\n"
     ]
    },
    {
     "name": "stdout",
     "output_type": "stream",
     "text": [
      "Segmentation is completed in 42.77 seconds. Number of instances: 984\n",
      "\n",
      "Running step [2/10]\n",
      "- Generating raster image...\n",
      "- Saving raster image...\n",
      "- Applying segment-geospatial to raster image...\n",
      "- Saving segmented image...\n",
      "- Generating segment IDs...\n"
     ]
    },
    {
     "name": "stderr",
     "output_type": "stream",
     "text": [
      "WARNING:root:files are already presents in ./result_subsamp_voxel folder, do you want them to be deleted [Y/N] ?\n"
     ]
    },
    {
     "name": "stdout",
     "output_type": "stream",
     "text": [
      "Segmentation is completed in 31.07 seconds. Number of instances: 630\n",
      "\n",
      "Running step [3/10]\n",
      "- Generating raster image...\n",
      "- Saving raster image...\n",
      "- Applying segment-geospatial to raster image...\n",
      "- Saving segmented image...\n",
      "- Generating segment IDs...\n"
     ]
    },
    {
     "name": "stderr",
     "output_type": "stream",
     "text": [
      "WARNING:root:files are already presents in ./result_subsamp_voxel folder, do you want them to be deleted [Y/N] ?\n"
     ]
    },
    {
     "name": "stdout",
     "output_type": "stream",
     "text": [
      "Segmentation is completed in 30.15 seconds. Number of instances: 522\n",
      "\n",
      "Running step [4/10]\n",
      "- Generating raster image...\n",
      "- Saving raster image...\n",
      "- Applying segment-geospatial to raster image...\n",
      "- Saving segmented image...\n",
      "- Generating segment IDs...\n"
     ]
    },
    {
     "name": "stderr",
     "output_type": "stream",
     "text": [
      "WARNING:root:files are already presents in ./result_subsamp_voxel folder, do you want them to be deleted [Y/N] ?\n"
     ]
    },
    {
     "name": "stdout",
     "output_type": "stream",
     "text": [
      "Segmentation is completed in 29.99 seconds. Number of instances: 425\n",
      "\n",
      "Running step [5/10]\n",
      "- Generating raster image...\n",
      "- Saving raster image...\n",
      "- Applying segment-geospatial to raster image...\n",
      "- Saving segmented image...\n",
      "- Generating segment IDs...\n"
     ]
    },
    {
     "name": "stderr",
     "output_type": "stream",
     "text": [
      "WARNING:root:files are already presents in ./result_subsamp_voxel folder, do you want them to be deleted [Y/N] ?\n"
     ]
    },
    {
     "name": "stdout",
     "output_type": "stream",
     "text": [
      "Segmentation is completed in 30.08 seconds. Number of instances: 429\n",
      "\n",
      "Running step [6/10]\n",
      "- Generating raster image...\n",
      "- Saving raster image...\n",
      "- Applying segment-geospatial to raster image...\n",
      "- Saving segmented image...\n",
      "- Generating segment IDs...\n"
     ]
    },
    {
     "name": "stderr",
     "output_type": "stream",
     "text": [
      "WARNING:root:files are already presents in ./result_subsamp_voxel folder, do you want them to be deleted [Y/N] ?\n"
     ]
    },
    {
     "name": "stdout",
     "output_type": "stream",
     "text": [
      "Segmentation is completed in 30.23 seconds. Number of instances: 428\n",
      "\n",
      "Running step [7/10]\n",
      "- Generating raster image...\n",
      "- Saving raster image...\n",
      "- Applying segment-geospatial to raster image...\n",
      "- Saving segmented image...\n",
      "- Generating segment IDs...\n"
     ]
    },
    {
     "name": "stderr",
     "output_type": "stream",
     "text": [
      "WARNING:root:files are already presents in ./result_subsamp_voxel folder, do you want them to be deleted [Y/N] ?\n"
     ]
    },
    {
     "name": "stdout",
     "output_type": "stream",
     "text": [
      "Segmentation is completed in 30.26 seconds. Number of instances: 463\n",
      "\n",
      "Running step [8/10]\n",
      "- Generating raster image...\n",
      "- Saving raster image...\n",
      "- Applying segment-geospatial to raster image...\n",
      "- Saving segmented image...\n",
      "- Generating segment IDs...\n"
     ]
    },
    {
     "name": "stderr",
     "output_type": "stream",
     "text": [
      "WARNING:root:files are already presents in ./result_subsamp_voxel folder, do you want them to be deleted [Y/N] ?\n"
     ]
    },
    {
     "name": "stdout",
     "output_type": "stream",
     "text": [
      "Segmentation is completed in 29.97 seconds. Number of instances: 623\n",
      "\n",
      "Running step [9/10]\n",
      "- Generating raster image...\n",
      "- Saving raster image...\n",
      "- Applying segment-geospatial to raster image...\n",
      "- Saving segmented image...\n",
      "- Generating segment IDs...\n"
     ]
    },
    {
     "name": "stderr",
     "output_type": "stream",
     "text": [
      "WARNING:root:files are already presents in ./result_subsamp_voxel folder, do you want them to be deleted [Y/N] ?\n"
     ]
    },
    {
     "name": "stdout",
     "output_type": "stream",
     "text": [
      "Segmentation is completed in 29.81 seconds. Number of instances: 731\n",
      "\n",
      "Running step [10/10]\n",
      "- Generating raster image...\n",
      "- Saving raster image...\n",
      "- Applying segment-geospatial to raster image...\n",
      "- Saving segmented image...\n",
      "- Generating segment IDs...\n",
      "Segmentation is completed in 29.77 seconds. Number of instances: 829\n",
      "\n"
     ]
    }
   ],
   "source": [
    "res = []\n",
    "s = 0\n",
    "for i in steps:\n",
    "    s+=1\n",
    "    print(f\"Running step [{s}/{len(steps)}]\")\n",
    "    res.append(\n",
    "        run(\n",
    "            pointclouds_folder=POINTS_CLOUD_FOLDER,\n",
    "            result_path=\".\",\n",
    "            result_folder_name=f\"result_subsamp_voxel\",\n",
    "            model_path=join(MODELS_FOLDER, \"sam_vit_b_01ec64.pth\"),\n",
    "            default_answer=\"y\",\n",
    "            resolution=i\n",
    "        )\n",
    "    )"
   ]
  },
  {
   "cell_type": "code",
   "execution_count": 63,
   "metadata": {},
   "outputs": [],
   "source": [
    "x = steps\n",
    "subsampling_vit_b_y = [list(r.values())[0] for r in res]"
   ]
  },
  {
   "cell_type": "code",
   "execution_count": 65,
   "metadata": {},
   "outputs": [
    {
     "data": {
      "text/plain": [
       "Text(0, 0.5, 'Number of segmentations found')"
      ]
     },
     "execution_count": 65,
     "metadata": {},
     "output_type": "execute_result"
    },
    {
     "data": {
      "image/png": "[encoded data removed]",
      "text/plain": [
       "<Figure size 640x480 with 1 Axes>"
      ]
     },
     "metadata": {},
     "output_type": "display_data"
    }
   ],
   "source": [
    "plt.plot(x, subsampling_vit_b_y)\n",
    "plt.plot(x, subsampling_vit_h_y)\n",
    "plt.plot(x, subsampling_vit_l_y)\n",
    "plt.legend([\"vit_b\", \"vit_h\", \"vit_l\"])\n",
    "plt.title(\"Segmentation performance with rasterization resolution\")\n",
    "plt.xlabel(\"Resolution division\")\n",
    "plt.ylabel(\"Number of segmentations found\")"
   ]
  }
 ],
 "metadata": {
  "kernelspec": {
   "display_name": "Python 3",
   "language": "python",
   "name": "python3"
  },
  "language_info": {
   "codemirror_mode": {
    "name": "ipython",
    "version": 3
   },
   "file_extension": ".py",
   "mimetype": "text/x-python",
   "name": "python",
   "nbconvert_exporter": "python",
   "pygments_lexer": "ipython3",
   "version": "3.9.21"
  }
 },
 "nbformat": 4,
 "nbformat_minor": 2
}
