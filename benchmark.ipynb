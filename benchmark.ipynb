{
 "cells": [
  {
   "cell_type": "code",
   "execution_count": 2,
   "metadata": {},
   "outputs": [
    {
     "name": "stdout",
     "output_type": "stream",
     "text": [
      "Jupyter environment detected. Enabling Open3D WebVisualizer.\n",
      "[Open3D INFO] WebRTC GUI backend enabled.\n",
      "[Open3D INFO] WebRTCWindowSystem: HTTP handshake server disabled.\n"
     ]
    }
   ],
   "source": [
    "import matplotlib.pyplot as plt\n",
    "import numpy as np\n",
    "from LiSAM.lisam import run"
   ]
  },
  {
   "cell_type": "markdown",
   "metadata": {},
   "source": [
    "## Segmentation performance with points subsambling\n"
   ]
  },
  {
   "cell_type": "markdown",
   "metadata": {},
   "source": [
    "### Voxel subsampling\n"
   ]
  },
  {
   "cell_type": "code",
   "execution_count": 2,
   "metadata": {},
   "outputs": [],
   "source": [
    "# Subsampling parameters\n",
    "start = 0\n",
    "end = 1.0\n",
    "num = 10\n",
    "steps = np.linspace(start, end, num)"
   ]
  },
  {
   "cell_type": "code",
   "execution_count": 3,
   "metadata": {},
   "outputs": [
    {
     "name": "stdout",
     "output_type": "stream",
     "text": [
      "Running step [1/10]\n",
      "- Generating raster image...\n",
      "- Saving raster image...\n",
      "- Applying segment-geospatial to raster image...\n",
      "- Saving segmented image...\n",
      "- Generating segment IDs...\n"
     ]
    },
    {
     "name": "stderr",
     "output_type": "stream",
     "text": [
      "WARNING:root:files are already presents in ./result_subsamp_voxel folder, they will be deleted are you sure you want to continue [Y/N] ?\n",
      "WARNING:root:(--no-confirm) enabled, skip the question\n"
     ]
    },
    {
     "name": "stdout",
     "output_type": "stream",
     "text": [
      "Segmentation is completed in 15.04 seconds. Number of instances: 755\n",
      "\n",
      "Running step [2/10]\n",
      "- Generating raster image...\n",
      "- Saving raster image...\n",
      "- Applying segment-geospatial to raster image...\n",
      "- Saving segmented image...\n",
      "- Generating segment IDs...\n"
     ]
    },
    {
     "name": "stderr",
     "output_type": "stream",
     "text": [
      "WARNING:root:files are already presents in ./result_subsamp_voxel folder, they will be deleted are you sure you want to continue [Y/N] ?\n",
      "WARNING:root:(--no-confirm) enabled, skip the question\n"
     ]
    },
    {
     "name": "stdout",
     "output_type": "stream",
     "text": [
      "Segmentation is completed in 10.52 seconds. Number of instances: 747\n",
      "\n",
      "Running step [3/10]\n",
      "- Generating raster image...\n",
      "- Saving raster image...\n",
      "- Applying segment-geospatial to raster image...\n",
      "- Saving segmented image...\n",
      "- Generating segment IDs...\n"
     ]
    },
    {
     "name": "stderr",
     "output_type": "stream",
     "text": [
      "WARNING:root:files are already presents in ./result_subsamp_voxel folder, they will be deleted are you sure you want to continue [Y/N] ?\n",
      "WARNING:root:(--no-confirm) enabled, skip the question\n"
     ]
    },
    {
     "name": "stdout",
     "output_type": "stream",
     "text": [
      "Segmentation is completed in 9.76 seconds. Number of instances: 735\n",
      "\n",
      "Running step [4/10]\n",
      "- Generating raster image...\n",
      "- Saving raster image...\n",
      "- Applying segment-geospatial to raster image...\n"
     ]
    },
    {
     "name": "stderr",
     "output_type": "stream",
     "text": [
      "WARNING:root:files are already presents in ./result_subsamp_voxel folder, they will be deleted are you sure you want to continue [Y/N] ?\n",
      "WARNING:root:(--no-confirm) enabled, skip the question\n"
     ]
    },
    {
     "name": "stdout",
     "output_type": "stream",
     "text": [
      "- Saving segmented image...\n",
      "- Generating segment IDs...\n",
      "Segmentation is completed in 9.77 seconds. Number of instances: 344\n",
      "\n",
      "Running step [5/10]\n",
      "- Generating raster image...\n",
      "- Saving raster image...\n",
      "- Applying segment-geospatial to raster image...\n"
     ]
    },
    {
     "name": "stderr",
     "output_type": "stream",
     "text": [
      "WARNING:root:files are already presents in ./result_subsamp_voxel folder, they will be deleted are you sure you want to continue [Y/N] ?\n",
      "WARNING:root:(--no-confirm) enabled, skip the question\n"
     ]
    },
    {
     "name": "stdout",
     "output_type": "stream",
     "text": [
      "- Saving segmented image...\n",
      "- Generating segment IDs...\n",
      "Segmentation is completed in 9.71 seconds. Number of instances: 337\n",
      "\n",
      "Running step [6/10]\n",
      "- Generating raster image...\n",
      "- Saving raster image...\n",
      "- Applying segment-geospatial to raster image...\n"
     ]
    },
    {
     "name": "stderr",
     "output_type": "stream",
     "text": [
      "WARNING:root:files are already presents in ./result_subsamp_voxel folder, they will be deleted are you sure you want to continue [Y/N] ?\n",
      "WARNING:root:(--no-confirm) enabled, skip the question\n"
     ]
    },
    {
     "name": "stdout",
     "output_type": "stream",
     "text": [
      "- Saving segmented image...\n",
      "- Generating segment IDs...\n",
      "Segmentation is completed in 9.42 seconds. Number of instances: 288\n",
      "\n",
      "Running step [7/10]\n",
      "- Generating raster image...\n",
      "- Saving raster image...\n",
      "- Applying segment-geospatial to raster image...\n"
     ]
    },
    {
     "name": "stderr",
     "output_type": "stream",
     "text": [
      "WARNING:root:files are already presents in ./result_subsamp_voxel folder, they will be deleted are you sure you want to continue [Y/N] ?\n",
      "WARNING:root:(--no-confirm) enabled, skip the question\n"
     ]
    },
    {
     "name": "stdout",
     "output_type": "stream",
     "text": [
      "- Saving segmented image...\n",
      "- Generating segment IDs...\n",
      "Segmentation is completed in 9.72 seconds. Number of instances: 169\n",
      "\n",
      "Running step [8/10]\n",
      "- Generating raster image...\n",
      "- Saving raster image...\n",
      "- Applying segment-geospatial to raster image...\n"
     ]
    },
    {
     "name": "stderr",
     "output_type": "stream",
     "text": [
      "WARNING:root:files are already presents in ./result_subsamp_voxel folder, they will be deleted are you sure you want to continue [Y/N] ?\n",
      "WARNING:root:(--no-confirm) enabled, skip the question\n"
     ]
    },
    {
     "name": "stdout",
     "output_type": "stream",
     "text": [
      "- Saving segmented image...\n",
      "- Generating segment IDs...\n",
      "Segmentation is completed in 9.76 seconds. Number of instances: 150\n",
      "\n",
      "Running step [9/10]\n",
      "- Generating raster image...\n",
      "- Saving raster image...\n",
      "- Applying segment-geospatial to raster image...\n"
     ]
    },
    {
     "name": "stderr",
     "output_type": "stream",
     "text": [
      "WARNING:root:files are already presents in ./result_subsamp_voxel folder, they will be deleted are you sure you want to continue [Y/N] ?\n",
      "WARNING:root:(--no-confirm) enabled, skip the question\n"
     ]
    },
    {
     "name": "stdout",
     "output_type": "stream",
     "text": [
      "- Saving segmented image...\n",
      "- Generating segment IDs...\n",
      "Segmentation is completed in 10.18 seconds. Number of instances: 78\n",
      "\n",
      "Running step [10/10]\n",
      "- Generating raster image...\n",
      "- Saving raster image...\n",
      "- Applying segment-geospatial to raster image...\n",
      "- Saving segmented image...\n",
      "- Generating segment IDs...\n",
      "Segmentation is completed in 9.66 seconds. Number of instances: 76\n",
      "\n"
     ]
    }
   ],
   "source": [
    "res = []\n",
    "s = 0\n",
    "for i in steps:\n",
    "    s+=1\n",
    "    print(f\"Running step [{s}/{len(steps)}]\")\n",
    "    res.append(\n",
    "        run(\n",
    "            pointclouds_folder=\"/mnt/Poznan_Internship/Data/Campus/\",\n",
    "            result_path=\".\",\n",
    "            result_folder_name=f\"result_subsamp_voxel\",\n",
    "            model_path=\"/mnt/Poznan_Internship/sam_vit_h_4b8939.pth\",\n",
    "            subsampling=i,\n",
    "            subsampling_method=\"voxel\",\n",
    "            no_confirm=True\n",
    "        )\n",
    "    )"
   ]
  },
  {
   "cell_type": "code",
   "execution_count": 4,
   "metadata": {},
   "outputs": [],
   "source": [
    "x = steps\n",
    "subsampling_voxel_y = [list(r.values())[0] for r in res]"
   ]
  },
  {
   "cell_type": "markdown",
   "metadata": {},
   "source": [
    "### Random subsampling\n"
   ]
  },
  {
   "cell_type": "code",
   "execution_count": 5,
   "metadata": {},
   "outputs": [
    {
     "name": "stderr",
     "output_type": "stream",
     "text": [
      "WARNING:root:files are already presents in ./result_subsamp_voxel folder, they will be deleted are you sure you want to continue [Y/N] ?\n",
      "WARNING:root:(--no-confirm) enabled, skip the question\n"
     ]
    },
    {
     "name": "stdout",
     "output_type": "stream",
     "text": [
      "Running step [1/10]\n",
      "- Generating raster image...\n",
      "- Saving raster image...\n",
      "- Applying segment-geospatial to raster image...\n",
      "- Saving segmented image...\n",
      "- Generating segment IDs...\n"
     ]
    },
    {
     "name": "stderr",
     "output_type": "stream",
     "text": [
      "WARNING:root:files are already presents in ./result_subsamp_voxel folder, they will be deleted are you sure you want to continue [Y/N] ?\n",
      "WARNING:root:(--no-confirm) enabled, skip the question\n"
     ]
    },
    {
     "name": "stdout",
     "output_type": "stream",
     "text": [
      "Segmentation is completed in 13.80 seconds. Number of instances: 755\n",
      "\n",
      "Running step [2/10]\n",
      "- Generating raster image...\n",
      "- Saving raster image...\n",
      "- Applying segment-geospatial to raster image...\n",
      "- Saving segmented image...\n",
      "- Generating segment IDs...\n"
     ]
    },
    {
     "name": "stderr",
     "output_type": "stream",
     "text": [
      "WARNING:root:files are already presents in ./result_subsamp_voxel folder, they will be deleted are you sure you want to continue [Y/N] ?\n",
      "WARNING:root:(--no-confirm) enabled, skip the question\n"
     ]
    },
    {
     "name": "stdout",
     "output_type": "stream",
     "text": [
      "Segmentation is completed in 9.60 seconds. Number of instances: 681\n",
      "\n",
      "Running step [3/10]\n",
      "- Generating raster image...\n",
      "- Saving raster image...\n",
      "- Applying segment-geospatial to raster image...\n",
      "- Saving segmented image...\n",
      "- Generating segment IDs...\n"
     ]
    },
    {
     "name": "stderr",
     "output_type": "stream",
     "text": [
      "WARNING:root:files are already presents in ./result_subsamp_voxel folder, they will be deleted are you sure you want to continue [Y/N] ?\n",
      "WARNING:root:(--no-confirm) enabled, skip the question\n"
     ]
    },
    {
     "name": "stdout",
     "output_type": "stream",
     "text": [
      "Segmentation is completed in 10.11 seconds. Number of instances: 777\n",
      "\n",
      "Running step [4/10]\n",
      "- Generating raster image...\n",
      "- Saving raster image...\n",
      "- Applying segment-geospatial to raster image...\n",
      "- Saving segmented image...\n",
      "- Generating segment IDs...\n"
     ]
    },
    {
     "name": "stderr",
     "output_type": "stream",
     "text": [
      "WARNING:root:files are already presents in ./result_subsamp_voxel folder, they will be deleted are you sure you want to continue [Y/N] ?\n",
      "WARNING:root:(--no-confirm) enabled, skip the question\n"
     ]
    },
    {
     "name": "stdout",
     "output_type": "stream",
     "text": [
      "Segmentation is completed in 10.38 seconds. Number of instances: 738\n",
      "\n",
      "Running step [5/10]\n",
      "- Generating raster image...\n",
      "- Saving raster image...\n",
      "- Applying segment-geospatial to raster image...\n",
      "- Saving segmented image...\n",
      "- Generating segment IDs...\n"
     ]
    },
    {
     "name": "stderr",
     "output_type": "stream",
     "text": [
      "WARNING:root:files are already presents in ./result_subsamp_voxel folder, they will be deleted are you sure you want to continue [Y/N] ?\n",
      "WARNING:root:(--no-confirm) enabled, skip the question\n"
     ]
    },
    {
     "name": "stdout",
     "output_type": "stream",
     "text": [
      "Segmentation is completed in 11.01 seconds. Number of instances: 765\n",
      "\n",
      "Running step [6/10]\n",
      "- Generating raster image...\n",
      "- Saving raster image...\n",
      "- Applying segment-geospatial to raster image...\n",
      "- Saving segmented image...\n",
      "- Generating segment IDs...\n"
     ]
    },
    {
     "name": "stderr",
     "output_type": "stream",
     "text": [
      "WARNING:root:files are already presents in ./result_subsamp_voxel folder, they will be deleted are you sure you want to continue [Y/N] ?\n",
      "WARNING:root:(--no-confirm) enabled, skip the question\n"
     ]
    },
    {
     "name": "stdout",
     "output_type": "stream",
     "text": [
      "Segmentation is completed in 11.36 seconds. Number of instances: 751\n",
      "\n",
      "Running step [7/10]\n",
      "- Generating raster image...\n",
      "- Saving raster image...\n",
      "- Applying segment-geospatial to raster image...\n",
      "- Saving segmented image...\n",
      "- Generating segment IDs...\n"
     ]
    },
    {
     "name": "stderr",
     "output_type": "stream",
     "text": [
      "WARNING:root:files are already presents in ./result_subsamp_voxel folder, they will be deleted are you sure you want to continue [Y/N] ?\n",
      "WARNING:root:(--no-confirm) enabled, skip the question\n"
     ]
    },
    {
     "name": "stdout",
     "output_type": "stream",
     "text": [
      "Segmentation is completed in 12.25 seconds. Number of instances: 754\n",
      "\n",
      "Running step [8/10]\n",
      "- Generating raster image...\n",
      "- Saving raster image...\n",
      "- Applying segment-geospatial to raster image...\n",
      "- Saving segmented image...\n",
      "- Generating segment IDs...\n"
     ]
    },
    {
     "name": "stderr",
     "output_type": "stream",
     "text": [
      "WARNING:root:files are already presents in ./result_subsamp_voxel folder, they will be deleted are you sure you want to continue [Y/N] ?\n",
      "WARNING:root:(--no-confirm) enabled, skip the question\n"
     ]
    },
    {
     "name": "stdout",
     "output_type": "stream",
     "text": [
      "Segmentation is completed in 11.60 seconds. Number of instances: 765\n",
      "\n",
      "Running step [9/10]\n",
      "- Generating raster image...\n",
      "- Saving raster image...\n",
      "- Applying segment-geospatial to raster image...\n",
      "- Saving segmented image...\n",
      "- Generating segment IDs...\n"
     ]
    },
    {
     "name": "stderr",
     "output_type": "stream",
     "text": [
      "WARNING:root:files are already presents in ./result_subsamp_voxel folder, they will be deleted are you sure you want to continue [Y/N] ?\n",
      "WARNING:root:(--no-confirm) enabled, skip the question\n"
     ]
    },
    {
     "name": "stdout",
     "output_type": "stream",
     "text": [
      "Segmentation is completed in 12.88 seconds. Number of instances: 752\n",
      "\n",
      "Running step [10/10]\n",
      "- Generating raster image...\n",
      "- Saving raster image...\n",
      "- Applying segment-geospatial to raster image...\n",
      "- Saving segmented image...\n",
      "- Generating segment IDs...\n",
      "Segmentation is completed in 13.32 seconds. Number of instances: 753\n",
      "\n"
     ]
    }
   ],
   "source": [
    "res = []\n",
    "s = 0\n",
    "for i in steps:\n",
    "    s+=1\n",
    "    print(f\"Running step [{s}/{len(steps)}]\")\n",
    "    res.append(\n",
    "        run(\n",
    "            pointclouds_folder=\"/mnt/Poznan_Internship/Data/Campus/\",\n",
    "            result_path=\".\",\n",
    "            result_folder_name=f\"result_subsamp_voxel\",\n",
    "            model_path=\"/mnt/Poznan_Internship/sam_vit_h_4b8939.pth\",\n",
    "            subsampling=i,\n",
    "            subsampling_method=\"random\",\n",
    "            no_confirm=True\n",
    "        )\n",
    "    )"
   ]
  },
  {
   "cell_type": "code",
   "execution_count": 6,
   "metadata": {},
   "outputs": [],
   "source": [
    "x = steps\n",
    "subsampling_random_y = [list(r.values())[0] for r in res]"
   ]
  },
  {
   "cell_type": "markdown",
   "metadata": {},
   "source": [
    "### Uniform subsampling\n"
   ]
  },
  {
   "cell_type": "code",
   "execution_count": 7,
   "metadata": {},
   "outputs": [],
   "source": [
    "start = 0\n",
    "end = 200\n",
    "num = 10\n",
    "steps = np.linspace(start, end, num)"
   ]
  },
  {
   "cell_type": "code",
   "execution_count": 8,
   "metadata": {},
   "outputs": [
    {
     "name": "stderr",
     "output_type": "stream",
     "text": [
      "WARNING:root:files are already presents in ./result_subsamp_voxel folder, they will be deleted are you sure you want to continue [Y/N] ?\n",
      "WARNING:root:(--no-confirm) enabled, skip the question\n"
     ]
    },
    {
     "name": "stdout",
     "output_type": "stream",
     "text": [
      "Running step [1/10]\n",
      "- Generating raster image...\n",
      "- Saving raster image...\n",
      "- Applying segment-geospatial to raster image...\n",
      "- Saving segmented image...\n",
      "- Generating segment IDs...\n"
     ]
    },
    {
     "name": "stderr",
     "output_type": "stream",
     "text": [
      "WARNING:root:files are already presents in ./result_subsamp_voxel folder, they will be deleted are you sure you want to continue [Y/N] ?\n",
      "WARNING:root:(--no-confirm) enabled, skip the question\n"
     ]
    },
    {
     "name": "stdout",
     "output_type": "stream",
     "text": [
      "Segmentation is completed in 12.37 seconds. Number of instances: 755\n",
      "\n",
      "Running step [2/10]\n",
      "- Generating raster image...\n",
      "- Saving raster image...\n",
      "- Applying segment-geospatial to raster image...\n"
     ]
    },
    {
     "name": "stderr",
     "output_type": "stream",
     "text": [
      "WARNING:root:files are already presents in ./result_subsamp_voxel folder, they will be deleted are you sure you want to continue [Y/N] ?\n",
      "WARNING:root:(--no-confirm) enabled, skip the question\n"
     ]
    },
    {
     "name": "stdout",
     "output_type": "stream",
     "text": [
      "- Saving segmented image...\n",
      "- Generating segment IDs...\n",
      "Segmentation is completed in 9.72 seconds. Number of instances: 510\n",
      "\n",
      "Running step [3/10]\n",
      "- Generating raster image...\n",
      "- Saving raster image...\n",
      "- Applying segment-geospatial to raster image...\n"
     ]
    },
    {
     "name": "stderr",
     "output_type": "stream",
     "text": [
      "WARNING:root:files are already presents in ./result_subsamp_voxel folder, they will be deleted are you sure you want to continue [Y/N] ?\n",
      "WARNING:root:(--no-confirm) enabled, skip the question\n"
     ]
    },
    {
     "name": "stdout",
     "output_type": "stream",
     "text": [
      "- Saving segmented image...\n",
      "- Generating segment IDs...\n",
      "Segmentation is completed in 9.73 seconds. Number of instances: 392\n",
      "\n",
      "Running step [4/10]\n",
      "- Generating raster image...\n",
      "- Saving raster image...\n",
      "- Applying segment-geospatial to raster image...\n"
     ]
    },
    {
     "name": "stderr",
     "output_type": "stream",
     "text": [
      "WARNING:root:files are already presents in ./result_subsamp_voxel folder, they will be deleted are you sure you want to continue [Y/N] ?\n",
      "WARNING:root:(--no-confirm) enabled, skip the question\n"
     ]
    },
    {
     "name": "stdout",
     "output_type": "stream",
     "text": [
      "- Saving segmented image...\n",
      "- Generating segment IDs...\n",
      "Segmentation is completed in 9.57 seconds. Number of instances: 323\n",
      "\n",
      "Running step [5/10]\n",
      "- Generating raster image...\n",
      "- Saving raster image...\n",
      "- Applying segment-geospatial to raster image...\n"
     ]
    },
    {
     "name": "stderr",
     "output_type": "stream",
     "text": [
      "WARNING:root:files are already presents in ./result_subsamp_voxel folder, they will be deleted are you sure you want to continue [Y/N] ?\n",
      "WARNING:root:(--no-confirm) enabled, skip the question\n"
     ]
    },
    {
     "name": "stdout",
     "output_type": "stream",
     "text": [
      "- Saving segmented image...\n",
      "- Generating segment IDs...\n",
      "Segmentation is completed in 9.64 seconds. Number of instances: 289\n",
      "\n",
      "Running step [6/10]\n",
      "- Generating raster image...\n",
      "- Saving raster image...\n",
      "- Applying segment-geospatial to raster image...\n"
     ]
    },
    {
     "name": "stderr",
     "output_type": "stream",
     "text": [
      "WARNING:root:files are already presents in ./result_subsamp_voxel folder, they will be deleted are you sure you want to continue [Y/N] ?\n",
      "WARNING:root:(--no-confirm) enabled, skip the question\n"
     ]
    },
    {
     "name": "stdout",
     "output_type": "stream",
     "text": [
      "- Saving segmented image...\n",
      "- Generating segment IDs...\n",
      "Segmentation is completed in 9.51 seconds. Number of instances: 244\n",
      "\n",
      "Running step [7/10]\n",
      "- Generating raster image...\n",
      "- Saving raster image...\n",
      "- Applying segment-geospatial to raster image...\n"
     ]
    },
    {
     "name": "stderr",
     "output_type": "stream",
     "text": [
      "WARNING:root:files are already presents in ./result_subsamp_voxel folder, they will be deleted are you sure you want to continue [Y/N] ?\n",
      "WARNING:root:(--no-confirm) enabled, skip the question\n"
     ]
    },
    {
     "name": "stdout",
     "output_type": "stream",
     "text": [
      "- Saving segmented image...\n",
      "- Generating segment IDs...\n",
      "Segmentation is completed in 9.64 seconds. Number of instances: 223\n",
      "\n",
      "Running step [8/10]\n",
      "- Generating raster image...\n",
      "- Saving raster image...\n",
      "- Applying segment-geospatial to raster image...\n"
     ]
    },
    {
     "name": "stderr",
     "output_type": "stream",
     "text": [
      "WARNING:root:files are already presents in ./result_subsamp_voxel folder, they will be deleted are you sure you want to continue [Y/N] ?\n",
      "WARNING:root:(--no-confirm) enabled, skip the question\n"
     ]
    },
    {
     "name": "stdout",
     "output_type": "stream",
     "text": [
      "- Saving segmented image...\n",
      "- Generating segment IDs...\n",
      "Segmentation is completed in 9.58 seconds. Number of instances: 197\n",
      "\n",
      "Running step [9/10]\n",
      "- Generating raster image...\n",
      "- Saving raster image...\n",
      "- Applying segment-geospatial to raster image...\n"
     ]
    },
    {
     "name": "stderr",
     "output_type": "stream",
     "text": [
      "WARNING:root:files are already presents in ./result_subsamp_voxel folder, they will be deleted are you sure you want to continue [Y/N] ?\n",
      "WARNING:root:(--no-confirm) enabled, skip the question\n"
     ]
    },
    {
     "name": "stdout",
     "output_type": "stream",
     "text": [
      "- Saving segmented image...\n",
      "- Generating segment IDs...\n",
      "Segmentation is completed in 9.64 seconds. Number of instances: 172\n",
      "\n",
      "Running step [10/10]\n",
      "- Generating raster image...\n",
      "- Saving raster image...\n",
      "- Applying segment-geospatial to raster image...\n",
      "- Saving segmented image...\n",
      "- Generating segment IDs...\n",
      "Segmentation is completed in 9.80 seconds. Number of instances: 164\n",
      "\n"
     ]
    }
   ],
   "source": [
    "res = []\n",
    "s = 0\n",
    "for i in steps:\n",
    "    s+=1\n",
    "    print(f\"Running step [{s}/{len(steps)}]\")\n",
    "    res.append(\n",
    "        run(\n",
    "            pointclouds_folder=\"/mnt/Poznan_Internship/Data/Campus/\",\n",
    "            result_path=\".\",\n",
    "            result_folder_name=f\"result_subsamp_voxel\",\n",
    "            model_path=\"/mnt/Poznan_Internship/sam_vit_h_4b8939.pth\",\n",
    "            subsampling=i,\n",
    "            subsampling_method=\"uniform\",\n",
    "            no_confirm=True\n",
    "        )\n",
    "    )"
   ]
  },
  {
   "cell_type": "code",
   "execution_count": 9,
   "metadata": {},
   "outputs": [],
   "source": [
    "x = steps\n",
    "subsampling_uniform_y = [list(r.values())[0] for r in res]"
   ]
  },
  {
   "cell_type": "code",
   "execution_count": 24,
   "metadata": {},
   "outputs": [
    {
     "data": {
      "text/plain": [
       "<matplotlib.legend.Legend at 0x7b9a5a755040>"
      ]
     },
     "execution_count": 24,
     "metadata": {},
     "output_type": "execute_result"
    },
    {
     "data": {
      "image/png": "[encoded data removed]",
      "text/plain": [
       "<Figure size 640x480 with 1 Axes>"
      ]
     },
     "metadata": {},
     "output_type": "display_data"
    }
   ],
   "source": [
    "x = [x for x in range(0, 10)]\n",
    "plt.plot(x, subsampling_random_y)\n",
    "plt.plot(x, subsampling_uniform_y)\n",
    "plt.plot(x, subsampling_voxel_y)\n",
    "plt.legend([\"Random\", \"Uniform\", \"Voxel\"])"
   ]
  },
  {
   "cell_type": "markdown",
   "metadata": {},
   "source": [
    "## Segmentation performance with rasterization subsampling\n"
   ]
  },
  {
   "cell_type": "code",
   "execution_count": 3,
   "metadata": {},
   "outputs": [],
   "source": [
    "start = 0.2\n",
    "end = 4\n",
    "num = 10\n",
    "steps = np.linspace(start, end, num)"
   ]
  },
  {
   "cell_type": "code",
   "execution_count": 4,
   "metadata": {},
   "outputs": [
    {
     "name": "stderr",
     "output_type": "stream",
     "text": [
      "WARNING:root:files are already presents in ./result_subsamp_voxel folder, they will be deleted are you sure you want to continue [Y/N] ?\n",
      "WARNING:root:(--no-confirm) enabled, skip the question\n"
     ]
    },
    {
     "name": "stdout",
     "output_type": "stream",
     "text": [
      "Running step [1/10]\n",
      "- Generating raster image...\n",
      "- Saving raster image...\n",
      "- Applying segment-geospatial to raster image...\n",
      "- Saving segmented image...\n",
      "- Generating segment IDs...\n"
     ]
    },
    {
     "name": "stderr",
     "output_type": "stream",
     "text": [
      "WARNING:root:files are already presents in ./result_subsamp_voxel folder, they will be deleted are you sure you want to continue [Y/N] ?\n",
      "WARNING:root:(--no-confirm) enabled, skip the question\n"
     ]
    },
    {
     "name": "stdout",
     "output_type": "stream",
     "text": [
      "Segmentation is completed in 16.78 seconds. Number of instances: 739\n",
      "\n",
      "Running step [2/10]\n",
      "- Generating raster image...\n",
      "- Saving raster image...\n",
      "- Applying segment-geospatial to raster image...\n",
      "- Saving segmented image...\n",
      "- Generating segment IDs...\n"
     ]
    },
    {
     "name": "stderr",
     "output_type": "stream",
     "text": [
      "WARNING:root:files are already presents in ./result_subsamp_voxel folder, they will be deleted are you sure you want to continue [Y/N] ?\n",
      "WARNING:root:(--no-confirm) enabled, skip the question\n"
     ]
    },
    {
     "name": "stdout",
     "output_type": "stream",
     "text": [
      "Segmentation is completed in 9.78 seconds. Number of instances: 688\n",
      "\n",
      "Running step [3/10]\n",
      "- Generating raster image...\n",
      "- Saving raster image...\n",
      "- Applying segment-geospatial to raster image...\n",
      "- Saving segmented image...\n",
      "- Generating segment IDs...\n"
     ]
    },
    {
     "name": "stderr",
     "output_type": "stream",
     "text": [
      "WARNING:root:files are already presents in ./result_subsamp_voxel folder, they will be deleted are you sure you want to continue [Y/N] ?\n",
      "WARNING:root:(--no-confirm) enabled, skip the question\n"
     ]
    },
    {
     "name": "stdout",
     "output_type": "stream",
     "text": [
      "Segmentation is completed in 9.29 seconds. Number of instances: 463\n",
      "\n",
      "Running step [4/10]\n",
      "- Generating raster image...\n",
      "- Saving raster image...\n",
      "- Applying segment-geospatial to raster image...\n",
      "- Saving segmented image...\n",
      "- Generating segment IDs...\n"
     ]
    },
    {
     "name": "stderr",
     "output_type": "stream",
     "text": [
      "WARNING:root:files are already presents in ./result_subsamp_voxel folder, they will be deleted are you sure you want to continue [Y/N] ?\n",
      "WARNING:root:(--no-confirm) enabled, skip the question\n"
     ]
    },
    {
     "name": "stdout",
     "output_type": "stream",
     "text": [
      "Segmentation is completed in 11.00 seconds. Number of instances: 394\n",
      "\n",
      "Running step [5/10]\n",
      "- Generating raster image...\n",
      "- Saving raster image...\n",
      "- Applying segment-geospatial to raster image...\n",
      "- Saving segmented image...\n",
      "- Generating segment IDs...\n"
     ]
    },
    {
     "name": "stderr",
     "output_type": "stream",
     "text": [
      "WARNING:root:files are already presents in ./result_subsamp_voxel folder, they will be deleted are you sure you want to continue [Y/N] ?\n",
      "WARNING:root:(--no-confirm) enabled, skip the question\n"
     ]
    },
    {
     "name": "stdout",
     "output_type": "stream",
     "text": [
      "Segmentation is completed in 9.17 seconds. Number of instances: 324\n",
      "\n",
      "Running step [6/10]\n",
      "- Generating raster image...\n",
      "- Saving raster image...\n",
      "- Applying segment-geospatial to raster image...\n",
      "- Saving segmented image...\n",
      "- Generating segment IDs...\n"
     ]
    },
    {
     "name": "stderr",
     "output_type": "stream",
     "text": [
      "WARNING:root:files are already presents in ./result_subsamp_voxel folder, they will be deleted are you sure you want to continue [Y/N] ?\n",
      "WARNING:root:(--no-confirm) enabled, skip the question\n"
     ]
    },
    {
     "name": "stdout",
     "output_type": "stream",
     "text": [
      "Segmentation is completed in 9.37 seconds. Number of instances: 238\n",
      "\n",
      "Running step [7/10]\n",
      "- Generating raster image...\n",
      "- Saving raster image...\n",
      "- Applying segment-geospatial to raster image...\n",
      "- Saving segmented image...\n",
      "- Generating segment IDs...\n"
     ]
    },
    {
     "name": "stderr",
     "output_type": "stream",
     "text": [
      "WARNING:root:files are already presents in ./result_subsamp_voxel folder, they will be deleted are you sure you want to continue [Y/N] ?\n",
      "WARNING:root:(--no-confirm) enabled, skip the question\n"
     ]
    },
    {
     "name": "stdout",
     "output_type": "stream",
     "text": [
      "Segmentation is completed in 9.00 seconds. Number of instances: 222\n",
      "\n",
      "Running step [8/10]\n",
      "- Generating raster image...\n",
      "- Saving raster image...\n",
      "- Applying segment-geospatial to raster image...\n",
      "- Saving segmented image...\n",
      "- Generating segment IDs...\n"
     ]
    },
    {
     "name": "stderr",
     "output_type": "stream",
     "text": [
      "WARNING:root:files are already presents in ./result_subsamp_voxel folder, they will be deleted are you sure you want to continue [Y/N] ?\n",
      "WARNING:root:(--no-confirm) enabled, skip the question\n"
     ]
    },
    {
     "name": "stdout",
     "output_type": "stream",
     "text": [
      "Segmentation is completed in 9.16 seconds. Number of instances: 209\n",
      "\n",
      "Running step [9/10]\n",
      "- Generating raster image...\n",
      "- Saving raster image...\n",
      "- Applying segment-geospatial to raster image...\n",
      "- Saving segmented image...\n",
      "- Generating segment IDs...\n"
     ]
    },
    {
     "name": "stderr",
     "output_type": "stream",
     "text": [
      "WARNING:root:files are already presents in ./result_subsamp_voxel folder, they will be deleted are you sure you want to continue [Y/N] ?\n",
      "WARNING:root:(--no-confirm) enabled, skip the question\n"
     ]
    },
    {
     "name": "stdout",
     "output_type": "stream",
     "text": [
      "Segmentation is completed in 8.95 seconds. Number of instances: 183\n",
      "\n",
      "Running step [10/10]\n",
      "- Generating raster image...\n",
      "- Saving raster image...\n",
      "- Applying segment-geospatial to raster image...\n",
      "- Saving segmented image...\n",
      "- Generating segment IDs...\n",
      "Segmentation is completed in 8.97 seconds. Number of instances: 234\n",
      "\n"
     ]
    }
   ],
   "source": [
    "res = []\n",
    "s = 0\n",
    "for i in steps:\n",
    "    s+=1\n",
    "    print(f\"Running step [{s}/{len(steps)}]\")\n",
    "    res.append(\n",
    "        run(\n",
    "            pointclouds_folder=\"/mnt/Poznan_Internship/Data/Campus/\",\n",
    "            result_path=\".\",\n",
    "            result_folder_name=f\"result_subsamp_voxel\",\n",
    "            model_path=\"/mnt/Poznan_Internship/sam_vit_h_4b8939.pth\",\n",
    "            no_confirm=True,\n",
    "            resolution=i\n",
    "        )\n",
    "    )"
   ]
  },
  {
   "cell_type": "code",
   "execution_count": 5,
   "metadata": {},
   "outputs": [],
   "source": [
    "x = steps\n",
    "subsampling_vit_h_y = [list(r.values())[0] for r in res]"
   ]
  },
  {
   "cell_type": "code",
   "execution_count": 6,
   "metadata": {},
   "outputs": [
    {
     "name": "stderr",
     "output_type": "stream",
     "text": [
      "WARNING:root:files are already presents in ./result_subsamp_voxel folder, they will be deleted are you sure you want to continue [Y/N] ?\n",
      "WARNING:root:(--no-confirm) enabled, skip the question\n"
     ]
    },
    {
     "name": "stdout",
     "output_type": "stream",
     "text": [
      "Running step [1/10]\n",
      "- Generating raster image...\n",
      "- Saving raster image...\n",
      "- Applying segment-geospatial to raster image...\n",
      "- Saving segmented image...\n",
      "- Generating segment IDs...\n"
     ]
    },
    {
     "name": "stderr",
     "output_type": "stream",
     "text": [
      "WARNING:root:files are already presents in ./result_subsamp_voxel folder, they will be deleted are you sure you want to continue [Y/N] ?\n",
      "WARNING:root:(--no-confirm) enabled, skip the question\n"
     ]
    },
    {
     "name": "stdout",
     "output_type": "stream",
     "text": [
      "Segmentation is completed in 14.66 seconds. Number of instances: 791\n",
      "\n",
      "Running step [2/10]\n",
      "- Generating raster image...\n",
      "- Saving raster image...\n",
      "- Applying segment-geospatial to raster image...\n",
      "- Saving segmented image...\n",
      "- Generating segment IDs...\n"
     ]
    },
    {
     "name": "stderr",
     "output_type": "stream",
     "text": [
      "WARNING:root:files are already presents in ./result_subsamp_voxel folder, they will be deleted are you sure you want to continue [Y/N] ?\n",
      "WARNING:root:(--no-confirm) enabled, skip the question\n"
     ]
    },
    {
     "name": "stdout",
     "output_type": "stream",
     "text": [
      "Segmentation is completed in 10.94 seconds. Number of instances: 597\n",
      "\n",
      "Running step [3/10]\n",
      "- Generating raster image...\n",
      "- Saving raster image...\n",
      "- Applying segment-geospatial to raster image...\n",
      "- Saving segmented image...\n",
      "- Generating segment IDs...\n"
     ]
    },
    {
     "name": "stderr",
     "output_type": "stream",
     "text": [
      "WARNING:root:files are already presents in ./result_subsamp_voxel folder, they will be deleted are you sure you want to continue [Y/N] ?\n",
      "WARNING:root:(--no-confirm) enabled, skip the question\n"
     ]
    },
    {
     "name": "stdout",
     "output_type": "stream",
     "text": [
      "Segmentation is completed in 8.78 seconds. Number of instances: 495\n",
      "\n",
      "Running step [4/10]\n",
      "- Generating raster image...\n",
      "- Saving raster image...\n",
      "- Applying segment-geospatial to raster image...\n",
      "- Saving segmented image...\n",
      "- Generating segment IDs...\n"
     ]
    },
    {
     "name": "stderr",
     "output_type": "stream",
     "text": [
      "WARNING:root:files are already presents in ./result_subsamp_voxel folder, they will be deleted are you sure you want to continue [Y/N] ?\n",
      "WARNING:root:(--no-confirm) enabled, skip the question\n"
     ]
    },
    {
     "name": "stdout",
     "output_type": "stream",
     "text": [
      "Segmentation is completed in 10.70 seconds. Number of instances: 424\n",
      "\n",
      "Running step [5/10]\n",
      "- Generating raster image...\n",
      "- Saving raster image...\n",
      "- Applying segment-geospatial to raster image...\n",
      "- Saving segmented image...\n",
      "- Generating segment IDs...\n"
     ]
    },
    {
     "name": "stderr",
     "output_type": "stream",
     "text": [
      "WARNING:root:files are already presents in ./result_subsamp_voxel folder, they will be deleted are you sure you want to continue [Y/N] ?\n",
      "WARNING:root:(--no-confirm) enabled, skip the question\n"
     ]
    },
    {
     "name": "stdout",
     "output_type": "stream",
     "text": [
      "Segmentation is completed in 10.63 seconds. Number of instances: 377\n",
      "\n",
      "Running step [6/10]\n",
      "- Generating raster image...\n",
      "- Saving raster image...\n",
      "- Applying segment-geospatial to raster image...\n",
      "- Saving segmented image...\n",
      "- Generating segment IDs...\n"
     ]
    },
    {
     "name": "stderr",
     "output_type": "stream",
     "text": [
      "WARNING:root:files are already presents in ./result_subsamp_voxel folder, they will be deleted are you sure you want to continue [Y/N] ?\n",
      "WARNING:root:(--no-confirm) enabled, skip the question\n"
     ]
    },
    {
     "name": "stdout",
     "output_type": "stream",
     "text": [
      "Segmentation is completed in 10.26 seconds. Number of instances: 262\n",
      "\n",
      "Running step [7/10]\n",
      "- Generating raster image...\n",
      "- Saving raster image...\n",
      "- Applying segment-geospatial to raster image...\n",
      "- Saving segmented image...\n",
      "- Generating segment IDs...\n"
     ]
    },
    {
     "name": "stderr",
     "output_type": "stream",
     "text": [
      "WARNING:root:files are already presents in ./result_subsamp_voxel folder, they will be deleted are you sure you want to continue [Y/N] ?\n",
      "WARNING:root:(--no-confirm) enabled, skip the question\n"
     ]
    },
    {
     "name": "stdout",
     "output_type": "stream",
     "text": [
      "Segmentation is completed in 10.20 seconds. Number of instances: 263\n",
      "\n",
      "Running step [8/10]\n",
      "- Generating raster image...\n",
      "- Saving raster image...\n",
      "- Applying segment-geospatial to raster image...\n",
      "- Saving segmented image...\n",
      "- Generating segment IDs...\n"
     ]
    },
    {
     "name": "stderr",
     "output_type": "stream",
     "text": [
      "WARNING:root:files are already presents in ./result_subsamp_voxel folder, they will be deleted are you sure you want to continue [Y/N] ?\n",
      "WARNING:root:(--no-confirm) enabled, skip the question\n"
     ]
    },
    {
     "name": "stdout",
     "output_type": "stream",
     "text": [
      "Segmentation is completed in 10.51 seconds. Number of instances: 260\n",
      "\n",
      "Running step [9/10]\n",
      "- Generating raster image...\n",
      "- Saving raster image...\n",
      "- Applying segment-geospatial to raster image...\n",
      "- Saving segmented image...\n",
      "- Generating segment IDs...\n"
     ]
    },
    {
     "name": "stderr",
     "output_type": "stream",
     "text": [
      "WARNING:root:files are already presents in ./result_subsamp_voxel folder, they will be deleted are you sure you want to continue [Y/N] ?\n",
      "WARNING:root:(--no-confirm) enabled, skip the question\n"
     ]
    },
    {
     "name": "stdout",
     "output_type": "stream",
     "text": [
      "Segmentation is completed in 8.62 seconds. Number of instances: 210\n",
      "\n",
      "Running step [10/10]\n",
      "- Generating raster image...\n",
      "- Saving raster image...\n",
      "- Applying segment-geospatial to raster image...\n",
      "- Saving segmented image...\n",
      "- Generating segment IDs...\n",
      "Segmentation is completed in 10.68 seconds. Number of instances: 255\n",
      "\n"
     ]
    }
   ],
   "source": [
    "res = []\n",
    "s = 0\n",
    "for i in steps:\n",
    "    s+=1\n",
    "    print(f\"Running step [{s}/{len(steps)}]\")\n",
    "    res.append(\n",
    "        run(\n",
    "            pointclouds_folder=\"/mnt/Poznan_Internship/Data/Campus/\",\n",
    "            result_path=\".\",\n",
    "            result_folder_name=f\"result_subsamp_voxel\",\n",
    "            model_path=\"/mnt/Poznan_Internship/sam_vit_l_0b3195.pth\",\n",
    "            no_confirm=True,\n",
    "            resolution=i\n",
    "        )\n",
    "    )"
   ]
  },
  {
   "cell_type": "code",
   "execution_count": 7,
   "metadata": {},
   "outputs": [],
   "source": [
    "x = steps\n",
    "subsampling_vit_l_y = [list(r.values())[0] for r in res]"
   ]
  },
  {
   "cell_type": "code",
   "execution_count": 8,
   "metadata": {},
   "outputs": [
    {
     "name": "stderr",
     "output_type": "stream",
     "text": [
      "WARNING:root:files are already presents in ./result_subsamp_voxel folder, they will be deleted are you sure you want to continue [Y/N] ?\n",
      "WARNING:root:(--no-confirm) enabled, skip the question\n"
     ]
    },
    {
     "name": "stdout",
     "output_type": "stream",
     "text": [
      "Running step [1/10]\n",
      "- Generating raster image...\n",
      "- Saving raster image...\n",
      "- Applying segment-geospatial to raster image...\n",
      "- Saving segmented image...\n",
      "- Generating segment IDs...\n"
     ]
    },
    {
     "name": "stderr",
     "output_type": "stream",
     "text": [
      "WARNING:root:files are already presents in ./result_subsamp_voxel folder, they will be deleted are you sure you want to continue [Y/N] ?\n",
      "WARNING:root:(--no-confirm) enabled, skip the question\n"
     ]
    },
    {
     "name": "stdout",
     "output_type": "stream",
     "text": [
      "Segmentation is completed in 14.46 seconds. Number of instances: 748\n",
      "\n",
      "Running step [2/10]\n",
      "- Generating raster image...\n",
      "- Saving raster image...\n",
      "- Applying segment-geospatial to raster image...\n",
      "- Saving segmented image...\n",
      "- Generating segment IDs...\n"
     ]
    },
    {
     "name": "stderr",
     "output_type": "stream",
     "text": [
      "WARNING:root:files are already presents in ./result_subsamp_voxel folder, they will be deleted are you sure you want to continue [Y/N] ?\n",
      "WARNING:root:(--no-confirm) enabled, skip the question\n"
     ]
    },
    {
     "name": "stdout",
     "output_type": "stream",
     "text": [
      "Segmentation is completed in 10.34 seconds. Number of instances: 595\n",
      "\n",
      "Running step [3/10]\n",
      "- Generating raster image...\n",
      "- Saving raster image...\n",
      "- Applying segment-geospatial to raster image...\n",
      "- Saving segmented image...\n",
      "- Generating segment IDs...\n"
     ]
    },
    {
     "name": "stderr",
     "output_type": "stream",
     "text": [
      "WARNING:root:files are already presents in ./result_subsamp_voxel folder, they will be deleted are you sure you want to continue [Y/N] ?\n",
      "WARNING:root:(--no-confirm) enabled, skip the question\n"
     ]
    },
    {
     "name": "stdout",
     "output_type": "stream",
     "text": [
      "Segmentation is completed in 9.68 seconds. Number of instances: 524\n",
      "\n",
      "Running step [4/10]\n",
      "- Generating raster image...\n",
      "- Saving raster image...\n",
      "- Applying segment-geospatial to raster image...\n",
      "- Saving segmented image...\n",
      "- Generating segment IDs...\n"
     ]
    },
    {
     "name": "stderr",
     "output_type": "stream",
     "text": [
      "WARNING:root:files are already presents in ./result_subsamp_voxel folder, they will be deleted are you sure you want to continue [Y/N] ?\n",
      "WARNING:root:(--no-confirm) enabled, skip the question\n"
     ]
    },
    {
     "name": "stdout",
     "output_type": "stream",
     "text": [
      "Segmentation is completed in 8.85 seconds. Number of instances: 480\n",
      "\n",
      "Running step [5/10]\n",
      "- Generating raster image...\n",
      "- Saving raster image...\n",
      "- Applying segment-geospatial to raster image...\n",
      "- Saving segmented image...\n",
      "- Generating segment IDs...\n"
     ]
    },
    {
     "name": "stderr",
     "output_type": "stream",
     "text": [
      "WARNING:root:files are already presents in ./result_subsamp_voxel folder, they will be deleted are you sure you want to continue [Y/N] ?\n",
      "WARNING:root:(--no-confirm) enabled, skip the question\n"
     ]
    },
    {
     "name": "stdout",
     "output_type": "stream",
     "text": [
      "Segmentation is completed in 8.92 seconds. Number of instances: 449\n",
      "\n",
      "Running step [6/10]\n",
      "- Generating raster image...\n",
      "- Saving raster image...\n",
      "- Applying segment-geospatial to raster image...\n",
      "- Saving segmented image...\n",
      "- Generating segment IDs...\n"
     ]
    },
    {
     "name": "stderr",
     "output_type": "stream",
     "text": [
      "WARNING:root:files are already presents in ./result_subsamp_voxel folder, they will be deleted are you sure you want to continue [Y/N] ?\n",
      "WARNING:root:(--no-confirm) enabled, skip the question\n"
     ]
    },
    {
     "name": "stdout",
     "output_type": "stream",
     "text": [
      "Segmentation is completed in 8.83 seconds. Number of instances: 418\n",
      "\n",
      "Running step [7/10]\n",
      "- Generating raster image...\n",
      "- Saving raster image...\n",
      "- Applying segment-geospatial to raster image...\n",
      "- Saving segmented image...\n",
      "- Generating segment IDs...\n"
     ]
    },
    {
     "name": "stderr",
     "output_type": "stream",
     "text": [
      "WARNING:root:files are already presents in ./result_subsamp_voxel folder, they will be deleted are you sure you want to continue [Y/N] ?\n",
      "WARNING:root:(--no-confirm) enabled, skip the question\n"
     ]
    },
    {
     "name": "stdout",
     "output_type": "stream",
     "text": [
      "Segmentation is completed in 8.72 seconds. Number of instances: 460\n",
      "\n",
      "Running step [8/10]\n",
      "- Generating raster image...\n",
      "- Saving raster image...\n",
      "- Applying segment-geospatial to raster image...\n",
      "- Saving segmented image...\n",
      "- Generating segment IDs...\n"
     ]
    },
    {
     "name": "stderr",
     "output_type": "stream",
     "text": [
      "WARNING:root:files are already presents in ./result_subsamp_voxel folder, they will be deleted are you sure you want to continue [Y/N] ?\n",
      "WARNING:root:(--no-confirm) enabled, skip the question\n"
     ]
    },
    {
     "name": "stdout",
     "output_type": "stream",
     "text": [
      "Segmentation is completed in 8.64 seconds. Number of instances: 512\n",
      "\n",
      "Running step [9/10]\n",
      "- Generating raster image...\n",
      "- Saving raster image...\n",
      "- Applying segment-geospatial to raster image...\n",
      "- Saving segmented image...\n",
      "- Generating segment IDs...\n"
     ]
    },
    {
     "name": "stderr",
     "output_type": "stream",
     "text": [
      "WARNING:root:files are already presents in ./result_subsamp_voxel folder, they will be deleted are you sure you want to continue [Y/N] ?\n",
      "WARNING:root:(--no-confirm) enabled, skip the question\n"
     ]
    },
    {
     "name": "stdout",
     "output_type": "stream",
     "text": [
      "Segmentation is completed in 8.54 seconds. Number of instances: 511\n",
      "\n",
      "Running step [10/10]\n",
      "- Generating raster image...\n",
      "- Saving raster image...\n",
      "- Applying segment-geospatial to raster image...\n",
      "- Saving segmented image...\n",
      "- Generating segment IDs...\n",
      "Segmentation is completed in 8.57 seconds. Number of instances: 542\n",
      "\n"
     ]
    }
   ],
   "source": [
    "res = []\n",
    "s = 0\n",
    "for i in steps:\n",
    "    s+=1\n",
    "    print(f\"Running step [{s}/{len(steps)}]\")\n",
    "    res.append(\n",
    "        run(\n",
    "            pointclouds_folder=\"/mnt/Poznan_Internship/Data/Campus/\",\n",
    "            result_path=\".\",\n",
    "            result_folder_name=f\"result_subsamp_voxel\",\n",
    "            model_path=\"/mnt/Poznan_Internship/sam_vit_b_01ec64.pth\",\n",
    "            no_confirm=True,\n",
    "            resolution=i\n",
    "        )\n",
    "    )"
   ]
  },
  {
   "cell_type": "code",
   "execution_count": 9,
   "metadata": {},
   "outputs": [],
   "source": [
    "x = steps\n",
    "subsampling_vit_b_y = [list(r.values())[0] for r in res]"
   ]
  },
  {
   "cell_type": "code",
   "execution_count": 10,
   "metadata": {},
   "outputs": [
    {
     "data": {
      "text/plain": [
       "<matplotlib.legend.Legend at 0x7ba6f9e4eb50>"
      ]
     },
     "execution_count": 10,
     "metadata": {},
     "output_type": "execute_result"
    },
    {
     "data": {
      "image/png": "[encoded data removed]",
      "text/plain": [
       "<Figure size 640x480 with 1 Axes>"
      ]
     },
     "metadata": {},
     "output_type": "display_data"
    }
   ],
   "source": [
    "plt.plot(x, subsampling_vit_b_y)\n",
    "plt.plot(x, subsampling_vit_h_y)\n",
    "plt.plot(x, subsampling_vit_l_y)\n",
    "plt.legend([\"vit_b\", \"vit_h\", \"vit_l\"])"
   ]
  }
 ],
 "metadata": {
  "kernelspec": {
   "display_name": "Python 3",
   "language": "python",
   "name": "python3"
  },
  "language_info": {
   "codemirror_mode": {
    "name": "ipython",
    "version": 3
   },
   "file_extension": ".py",
   "mimetype": "text/x-python",
   "name": "python",
   "nbconvert_exporter": "python",
   "pygments_lexer": "ipython3",
   "version": "3.9.21"
  }
 },
 "nbformat": 4,
 "nbformat_minor": 2
}
