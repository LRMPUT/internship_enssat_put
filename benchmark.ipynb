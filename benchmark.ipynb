{
 "cells": [
  {
   "cell_type": "code",
   "execution_count": 3,
   "metadata": {},
   "outputs": [],
   "source": [
    "import matplotlib.pyplot as plt\n",
    "import numpy as np\n",
    "from LiSAM.lisam import run"
   ]
  },
  {
   "cell_type": "markdown",
   "metadata": {},
   "source": [
    "## Segmentation performance with points subsambling\n"
   ]
  },
  {
   "cell_type": "markdown",
   "metadata": {},
   "source": [
    "### Voxel subsampling\n"
   ]
  },
  {
   "cell_type": "code",
   "execution_count": 5,
   "metadata": {},
   "outputs": [],
   "source": [
    "# Subsampling parameters\n",
    "start = 0\n",
    "end = 1.0\n",
    "num = 10\n",
    "steps = np.linspace(start, end, num)"
   ]
  },
  {
   "cell_type": "code",
   "execution_count": 6,
   "metadata": {},
   "outputs": [
    {
     "name": "stdout",
     "output_type": "stream",
     "text": [
      "Running step [1/10]\n",
      "- Generating raster image...\n",
      "- Saving raster image...\n",
      "- Applying segment-geospatial to raster image...\n",
      "- Saving segmented image...\n",
      "- Generating segment IDs...\n"
     ]
    },
    {
     "name": "stderr",
     "output_type": "stream",
     "text": [
      "WARNING:root:files are already presents in ./result_subsamp_voxel folder, they will be deleted are you sure you want to continue [Y/N] ?\n",
      "WARNING:root:(--no-confirm) enabled, skip the question\n"
     ]
    },
    {
     "name": "stdout",
     "output_type": "stream",
     "text": [
      "Segmentation is completed in 11.82 seconds. Number of instances: 216\n",
      "\n",
      "Running step [2/10]\n",
      "- Generating raster image...\n",
      "- Saving raster image...\n",
      "- Applying segment-geospatial to raster image...\n",
      "- Saving segmented image...\n",
      "- Generating segment IDs...\n"
     ]
    },
    {
     "name": "stderr",
     "output_type": "stream",
     "text": [
      "WARNING:root:files are already presents in ./result_subsamp_voxel folder, they will be deleted are you sure you want to continue [Y/N] ?\n",
      "WARNING:root:(--no-confirm) enabled, skip the question\n"
     ]
    },
    {
     "name": "stdout",
     "output_type": "stream",
     "text": [
      "Segmentation is completed in 8.32 seconds. Number of instances: 214\n",
      "\n",
      "Running step [3/10]\n",
      "- Generating raster image...\n",
      "- Saving raster image...\n",
      "- Applying segment-geospatial to raster image...\n",
      "- Saving segmented image...\n",
      "- Generating segment IDs...\n"
     ]
    },
    {
     "name": "stderr",
     "output_type": "stream",
     "text": [
      "WARNING:root:files are already presents in ./result_subsamp_voxel folder, they will be deleted are you sure you want to continue [Y/N] ?\n",
      "WARNING:root:(--no-confirm) enabled, skip the question\n"
     ]
    },
    {
     "name": "stdout",
     "output_type": "stream",
     "text": [
      "Segmentation is completed in 7.62 seconds. Number of instances: 209\n",
      "\n",
      "Running step [4/10]\n",
      "- Generating raster image...\n",
      "- Saving raster image...\n",
      "- Applying segment-geospatial to raster image...\n"
     ]
    },
    {
     "name": "stderr",
     "output_type": "stream",
     "text": [
      "WARNING:root:files are already presents in ./result_subsamp_voxel folder, they will be deleted are you sure you want to continue [Y/N] ?\n",
      "WARNING:root:(--no-confirm) enabled, skip the question\n"
     ]
    },
    {
     "name": "stdout",
     "output_type": "stream",
     "text": [
      "- Saving segmented image...\n",
      "- Generating segment IDs...\n",
      "Segmentation is completed in 7.69 seconds. Number of instances: 96\n",
      "\n",
      "Running step [5/10]\n",
      "- Generating raster image...\n",
      "- Saving raster image...\n",
      "- Applying segment-geospatial to raster image...\n"
     ]
    },
    {
     "name": "stderr",
     "output_type": "stream",
     "text": [
      "WARNING:root:files are already presents in ./result_subsamp_voxel folder, they will be deleted are you sure you want to continue [Y/N] ?\n",
      "WARNING:root:(--no-confirm) enabled, skip the question\n"
     ]
    },
    {
     "name": "stdout",
     "output_type": "stream",
     "text": [
      "- Saving segmented image...\n",
      "- Generating segment IDs...\n",
      "Segmentation is completed in 8.05 seconds. Number of instances: 89\n",
      "\n",
      "Running step [6/10]\n",
      "- Generating raster image...\n",
      "- Saving raster image...\n",
      "- Applying segment-geospatial to raster image...\n"
     ]
    },
    {
     "name": "stderr",
     "output_type": "stream",
     "text": [
      "WARNING:root:files are already presents in ./result_subsamp_voxel folder, they will be deleted are you sure you want to continue [Y/N] ?\n",
      "WARNING:root:(--no-confirm) enabled, skip the question\n"
     ]
    },
    {
     "name": "stdout",
     "output_type": "stream",
     "text": [
      "- Saving segmented image...\n",
      "- Generating segment IDs...\n",
      "Segmentation is completed in 8.31 seconds. Number of instances: 64\n",
      "\n",
      "Running step [7/10]\n",
      "- Generating raster image...\n",
      "- Saving raster image...\n",
      "- Applying segment-geospatial to raster image...\n"
     ]
    },
    {
     "name": "stderr",
     "output_type": "stream",
     "text": [
      "WARNING:root:files are already presents in ./result_subsamp_voxel folder, they will be deleted are you sure you want to continue [Y/N] ?\n",
      "WARNING:root:(--no-confirm) enabled, skip the question\n"
     ]
    },
    {
     "name": "stdout",
     "output_type": "stream",
     "text": [
      "- Saving segmented image...\n",
      "- Generating segment IDs...\n",
      "Segmentation is completed in 8.68 seconds. Number of instances: 37\n",
      "\n",
      "Running step [8/10]\n",
      "- Generating raster image...\n",
      "- Saving raster image...\n",
      "- Applying segment-geospatial to raster image...\n"
     ]
    },
    {
     "name": "stderr",
     "output_type": "stream",
     "text": [
      "WARNING:root:files are already presents in ./result_subsamp_voxel folder, they will be deleted are you sure you want to continue [Y/N] ?\n",
      "WARNING:root:(--no-confirm) enabled, skip the question\n"
     ]
    },
    {
     "name": "stdout",
     "output_type": "stream",
     "text": [
      "- Saving segmented image...\n",
      "- Generating segment IDs...\n",
      "Segmentation is completed in 8.61 seconds. Number of instances: 20\n",
      "\n",
      "Running step [9/10]\n",
      "- Generating raster image...\n",
      "- Saving raster image...\n",
      "- Applying segment-geospatial to raster image...\n"
     ]
    },
    {
     "name": "stderr",
     "output_type": "stream",
     "text": [
      "WARNING:root:files are already presents in ./result_subsamp_voxel folder, they will be deleted are you sure you want to continue [Y/N] ?\n",
      "WARNING:root:(--no-confirm) enabled, skip the question\n"
     ]
    },
    {
     "name": "stdout",
     "output_type": "stream",
     "text": [
      "- Saving segmented image...\n",
      "- Generating segment IDs...\n",
      "Segmentation is completed in 8.42 seconds. Number of instances: 16\n",
      "\n",
      "Running step [10/10]\n",
      "- Generating raster image...\n",
      "- Saving raster image...\n",
      "- Applying segment-geospatial to raster image...\n",
      "- Saving segmented image...\n",
      "- Generating segment IDs...\n",
      "Segmentation is completed in 8.72 seconds. Number of instances: 10\n",
      "\n"
     ]
    }
   ],
   "source": [
    "res = []\n",
    "s = 0\n",
    "for i in steps:\n",
    "    s+=1\n",
    "    print(f\"Running step [{s}/{len(steps)}]\")\n",
    "    res.append(\n",
    "        run(\n",
    "            pointclouds_folder=\"/mnt/Poznan_Internship/Data/Campus/\",\n",
    "            result_path=\".\",\n",
    "            result_folder_name=f\"result_subsamp_voxel\",\n",
    "            model_path=\"/mnt/Poznan_Internship/sam_vit_h_4b8939.pth\",\n",
    "            subsampling=i,\n",
    "            subsampling_method=\"voxel\",\n",
    "            no_confirm=True\n",
    "        )\n",
    "    )"
   ]
  },
  {
   "cell_type": "code",
   "execution_count": null,
   "metadata": {},
   "outputs": [
    {
     "data": {
      "text/plain": [
       "[<matplotlib.lines.Line2D at 0x77bf682af0d0>]"
      ]
     },
     "execution_count": 4,
     "metadata": {},
     "output_type": "execute_result"
    },
    {
     "data": {
      "image/png": "[encoded data removed]",
      "text/plain": [
       "<Figure size 640x480 with 1 Axes>"
      ]
     },
     "metadata": {},
     "output_type": "display_data"
    }
   ],
   "source": [
    "x = steps\n",
    "y = [list(r.values())[0] for r in res]\n",
    "plt.plot(x, y)"
   ]
  },
  {
   "cell_type": "markdown",
   "metadata": {},
   "source": [
    "### Random subsampling"
   ]
  },
  {
   "cell_type": "code",
   "execution_count": 7,
   "metadata": {},
   "outputs": [
    {
     "name": "stderr",
     "output_type": "stream",
     "text": [
      "WARNING:root:files are already presents in ./result_subsamp_voxel folder, they will be deleted are you sure you want to continue [Y/N] ?\n",
      "WARNING:root:(--no-confirm) enabled, skip the question\n"
     ]
    },
    {
     "name": "stdout",
     "output_type": "stream",
     "text": [
      "Running step [1/10]\n",
      "- Generating raster image...\n",
      "- Saving raster image...\n",
      "- Applying segment-geospatial to raster image...\n",
      "- Saving segmented image...\n",
      "- Generating segment IDs...\n"
     ]
    },
    {
     "name": "stderr",
     "output_type": "stream",
     "text": [
      "WARNING:root:files are already presents in ./result_subsamp_voxel folder, they will be deleted are you sure you want to continue [Y/N] ?\n",
      "WARNING:root:(--no-confirm) enabled, skip the question\n"
     ]
    },
    {
     "name": "stdout",
     "output_type": "stream",
     "text": [
      "Segmentation is completed in 9.91 seconds. Number of instances: 216\n",
      "\n",
      "Running step [2/10]\n",
      "- Generating raster image...\n",
      "- Saving raster image...\n",
      "- Applying segment-geospatial to raster image...\n",
      "- Saving segmented image...\n",
      "- Generating segment IDs...\n"
     ]
    },
    {
     "name": "stderr",
     "output_type": "stream",
     "text": [
      "WARNING:root:files are already presents in ./result_subsamp_voxel folder, they will be deleted are you sure you want to continue [Y/N] ?\n",
      "WARNING:root:(--no-confirm) enabled, skip the question\n"
     ]
    },
    {
     "name": "stdout",
     "output_type": "stream",
     "text": [
      "Segmentation is completed in 7.49 seconds. Number of instances: 208\n",
      "\n",
      "Running step [3/10]\n",
      "- Generating raster image...\n",
      "- Saving raster image...\n",
      "- Applying segment-geospatial to raster image...\n",
      "- Saving segmented image...\n",
      "- Generating segment IDs...\n"
     ]
    },
    {
     "name": "stderr",
     "output_type": "stream",
     "text": [
      "WARNING:root:files are already presents in ./result_subsamp_voxel folder, they will be deleted are you sure you want to continue [Y/N] ?\n",
      "WARNING:root:(--no-confirm) enabled, skip the question\n"
     ]
    },
    {
     "name": "stdout",
     "output_type": "stream",
     "text": [
      "Segmentation is completed in 7.93 seconds. Number of instances: 210\n",
      "\n",
      "Running step [4/10]\n",
      "- Generating raster image...\n",
      "- Saving raster image...\n",
      "- Applying segment-geospatial to raster image...\n",
      "- Saving segmented image...\n",
      "- Generating segment IDs...\n"
     ]
    },
    {
     "name": "stderr",
     "output_type": "stream",
     "text": [
      "WARNING:root:files are already presents in ./result_subsamp_voxel folder, they will be deleted are you sure you want to continue [Y/N] ?\n",
      "WARNING:root:(--no-confirm) enabled, skip the question\n"
     ]
    },
    {
     "name": "stdout",
     "output_type": "stream",
     "text": [
      "Segmentation is completed in 8.23 seconds. Number of instances: 205\n",
      "\n",
      "Running step [5/10]\n",
      "- Generating raster image...\n",
      "- Saving raster image...\n",
      "- Applying segment-geospatial to raster image...\n",
      "- Saving segmented image...\n",
      "- Generating segment IDs...\n"
     ]
    },
    {
     "name": "stderr",
     "output_type": "stream",
     "text": [
      "WARNING:root:files are already presents in ./result_subsamp_voxel folder, they will be deleted are you sure you want to continue [Y/N] ?\n",
      "WARNING:root:(--no-confirm) enabled, skip the question\n"
     ]
    },
    {
     "name": "stdout",
     "output_type": "stream",
     "text": [
      "Segmentation is completed in 8.50 seconds. Number of instances: 208\n",
      "\n",
      "Running step [6/10]\n",
      "- Generating raster image...\n",
      "- Saving raster image...\n",
      "- Applying segment-geospatial to raster image...\n",
      "- Saving segmented image...\n",
      "- Generating segment IDs...\n"
     ]
    },
    {
     "name": "stderr",
     "output_type": "stream",
     "text": [
      "WARNING:root:files are already presents in ./result_subsamp_voxel folder, they will be deleted are you sure you want to continue [Y/N] ?\n",
      "WARNING:root:(--no-confirm) enabled, skip the question\n"
     ]
    },
    {
     "name": "stdout",
     "output_type": "stream",
     "text": [
      "Segmentation is completed in 8.83 seconds. Number of instances: 209\n",
      "\n",
      "Running step [7/10]\n",
      "- Generating raster image...\n",
      "- Saving raster image...\n",
      "- Applying segment-geospatial to raster image...\n",
      "- Saving segmented image...\n",
      "- Generating segment IDs...\n"
     ]
    },
    {
     "name": "stderr",
     "output_type": "stream",
     "text": [
      "WARNING:root:files are already presents in ./result_subsamp_voxel folder, they will be deleted are you sure you want to continue [Y/N] ?\n",
      "WARNING:root:(--no-confirm) enabled, skip the question\n"
     ]
    },
    {
     "name": "stdout",
     "output_type": "stream",
     "text": [
      "Segmentation is completed in 9.18 seconds. Number of instances: 211\n",
      "\n",
      "Running step [8/10]\n",
      "- Generating raster image...\n",
      "- Saving raster image...\n",
      "- Applying segment-geospatial to raster image...\n",
      "- Saving segmented image...\n",
      "- Generating segment IDs...\n"
     ]
    },
    {
     "name": "stderr",
     "output_type": "stream",
     "text": [
      "WARNING:root:files are already presents in ./result_subsamp_voxel folder, they will be deleted are you sure you want to continue [Y/N] ?\n",
      "WARNING:root:(--no-confirm) enabled, skip the question\n"
     ]
    },
    {
     "name": "stdout",
     "output_type": "stream",
     "text": [
      "Segmentation is completed in 9.52 seconds. Number of instances: 215\n",
      "\n",
      "Running step [9/10]\n",
      "- Generating raster image...\n",
      "- Saving raster image...\n",
      "- Applying segment-geospatial to raster image...\n",
      "- Saving segmented image...\n",
      "- Generating segment IDs...\n"
     ]
    },
    {
     "name": "stderr",
     "output_type": "stream",
     "text": [
      "WARNING:root:files are already presents in ./result_subsamp_voxel folder, they will be deleted are you sure you want to continue [Y/N] ?\n",
      "WARNING:root:(--no-confirm) enabled, skip the question\n"
     ]
    },
    {
     "name": "stdout",
     "output_type": "stream",
     "text": [
      "Segmentation is completed in 9.79 seconds. Number of instances: 223\n",
      "\n",
      "Running step [10/10]\n",
      "- Generating raster image...\n",
      "- Saving raster image...\n",
      "- Applying segment-geospatial to raster image...\n",
      "- Saving segmented image...\n",
      "- Generating segment IDs...\n",
      "Segmentation is completed in 10.20 seconds. Number of instances: 218\n",
      "\n"
     ]
    }
   ],
   "source": [
    "res = []\n",
    "s = 0\n",
    "for i in steps:\n",
    "    s+=1\n",
    "    print(f\"Running step [{s}/{len(steps)}]\")\n",
    "    res.append(\n",
    "        run(\n",
    "            pointclouds_folder=\"/mnt/Poznan_Internship/Data/Campus/\",\n",
    "            result_path=\".\",\n",
    "            result_folder_name=f\"result_subsamp_voxel\",\n",
    "            model_path=\"/mnt/Poznan_Internship/sam_vit_h_4b8939.pth\",\n",
    "            subsampling=i,\n",
    "            subsampling_method=\"random\",\n",
    "            no_confirm=True\n",
    "        )\n",
    "    )"
   ]
  },
  {
   "cell_type": "code",
   "execution_count": 8,
   "metadata": {},
   "outputs": [
    {
     "data": {
      "text/plain": [
       "[<matplotlib.lines.Line2D at 0x73cee0134250>]"
      ]
     },
     "execution_count": 8,
     "metadata": {},
     "output_type": "execute_result"
    },
    {
     "data": {
      "image/png": "[encoded data removed]",
      "text/plain": [
       "<Figure size 640x480 with 1 Axes>"
      ]
     },
     "metadata": {},
     "output_type": "display_data"
    }
   ],
   "source": [
    "x = steps\n",
    "y = [list(r.values())[0] for r in res]\n",
    "plt.plot(x, y)"
   ]
  },
  {
   "cell_type": "markdown",
   "metadata": {},
   "source": [
    "### Uniform subsampling"
   ]
  },
  {
   "cell_type": "code",
   "execution_count": 9,
   "metadata": {},
   "outputs": [],
   "source": [
    "start = 0\n",
    "end = 200\n",
    "num = 10\n",
    "steps = np.linspace(start, end, num)"
   ]
  },
  {
   "cell_type": "code",
   "execution_count": 10,
   "metadata": {},
   "outputs": [
    {
     "name": "stderr",
     "output_type": "stream",
     "text": [
      "WARNING:root:files are already presents in ./result_subsamp_voxel folder, they will be deleted are you sure you want to continue [Y/N] ?\n",
      "WARNING:root:(--no-confirm) enabled, skip the question\n"
     ]
    },
    {
     "name": "stdout",
     "output_type": "stream",
     "text": [
      "Running step [1/10]\n",
      "- Generating raster image...\n",
      "- Saving raster image...\n",
      "- Applying segment-geospatial to raster image...\n",
      "- Saving segmented image...\n",
      "- Generating segment IDs...\n"
     ]
    },
    {
     "name": "stderr",
     "output_type": "stream",
     "text": [
      "WARNING:root:files are already presents in ./result_subsamp_voxel folder, they will be deleted are you sure you want to continue [Y/N] ?\n",
      "WARNING:root:(--no-confirm) enabled, skip the question\n"
     ]
    },
    {
     "name": "stdout",
     "output_type": "stream",
     "text": [
      "Segmentation is completed in 10.01 seconds. Number of instances: 216\n",
      "\n",
      "Running step [2/10]\n",
      "- Generating raster image...\n",
      "- Saving raster image...\n",
      "- Applying segment-geospatial to raster image...\n"
     ]
    },
    {
     "name": "stderr",
     "output_type": "stream",
     "text": [
      "WARNING:root:files are already presents in ./result_subsamp_voxel folder, they will be deleted are you sure you want to continue [Y/N] ?\n",
      "WARNING:root:(--no-confirm) enabled, skip the question\n"
     ]
    },
    {
     "name": "stdout",
     "output_type": "stream",
     "text": [
      "- Saving segmented image...\n",
      "- Generating segment IDs...\n",
      "Segmentation is completed in 7.62 seconds. Number of instances: 150\n",
      "\n",
      "Running step [3/10]\n",
      "- Generating raster image...\n",
      "- Saving raster image...\n",
      "- Applying segment-geospatial to raster image...\n"
     ]
    },
    {
     "name": "stderr",
     "output_type": "stream",
     "text": [
      "WARNING:root:files are already presents in ./result_subsamp_voxel folder, they will be deleted are you sure you want to continue [Y/N] ?\n",
      "WARNING:root:(--no-confirm) enabled, skip the question\n"
     ]
    },
    {
     "name": "stdout",
     "output_type": "stream",
     "text": [
      "- Saving segmented image...\n",
      "- Generating segment IDs...\n",
      "Segmentation is completed in 12.58 seconds. Number of instances: 119\n",
      "\n",
      "Running step [4/10]\n",
      "- Generating raster image...\n",
      "- Saving raster image...\n",
      "- Applying segment-geospatial to raster image...\n"
     ]
    },
    {
     "name": "stderr",
     "output_type": "stream",
     "text": [
      "WARNING:root:files are already presents in ./result_subsamp_voxel folder, they will be deleted are you sure you want to continue [Y/N] ?\n",
      "WARNING:root:(--no-confirm) enabled, skip the question\n"
     ]
    },
    {
     "name": "stdout",
     "output_type": "stream",
     "text": [
      "- Saving segmented image...\n",
      "- Generating segment IDs...\n",
      "Segmentation is completed in 7.95 seconds. Number of instances: 103\n",
      "\n",
      "Running step [5/10]\n",
      "- Generating raster image...\n",
      "- Saving raster image...\n",
      "- Applying segment-geospatial to raster image...\n"
     ]
    },
    {
     "name": "stderr",
     "output_type": "stream",
     "text": [
      "WARNING:root:files are already presents in ./result_subsamp_voxel folder, they will be deleted are you sure you want to continue [Y/N] ?\n",
      "WARNING:root:(--no-confirm) enabled, skip the question\n"
     ]
    },
    {
     "name": "stdout",
     "output_type": "stream",
     "text": [
      "- Saving segmented image...\n",
      "- Generating segment IDs...\n",
      "Segmentation is completed in 8.10 seconds. Number of instances: 84\n",
      "\n",
      "Running step [6/10]\n",
      "- Generating raster image...\n",
      "- Saving raster image...\n",
      "- Applying segment-geospatial to raster image...\n"
     ]
    },
    {
     "name": "stderr",
     "output_type": "stream",
     "text": [
      "WARNING:root:files are already presents in ./result_subsamp_voxel folder, they will be deleted are you sure you want to continue [Y/N] ?\n",
      "WARNING:root:(--no-confirm) enabled, skip the question\n"
     ]
    },
    {
     "name": "stdout",
     "output_type": "stream",
     "text": [
      "- Saving segmented image...\n",
      "- Generating segment IDs...\n",
      "Segmentation is completed in 8.25 seconds. Number of instances: 82\n",
      "\n",
      "Running step [7/10]\n",
      "- Generating raster image...\n",
      "- Saving raster image...\n",
      "- Applying segment-geospatial to raster image...\n"
     ]
    },
    {
     "name": "stderr",
     "output_type": "stream",
     "text": [
      "WARNING:root:files are already presents in ./result_subsamp_voxel folder, they will be deleted are you sure you want to continue [Y/N] ?\n",
      "WARNING:root:(--no-confirm) enabled, skip the question\n"
     ]
    },
    {
     "name": "stdout",
     "output_type": "stream",
     "text": [
      "- Saving segmented image...\n",
      "- Generating segment IDs...\n",
      "Segmentation is completed in 8.29 seconds. Number of instances: 68\n",
      "\n",
      "Running step [8/10]\n",
      "- Generating raster image...\n",
      "- Saving raster image...\n",
      "- Applying segment-geospatial to raster image...\n"
     ]
    },
    {
     "name": "stderr",
     "output_type": "stream",
     "text": [
      "WARNING:root:files are already presents in ./result_subsamp_voxel folder, they will be deleted are you sure you want to continue [Y/N] ?\n",
      "WARNING:root:(--no-confirm) enabled, skip the question\n"
     ]
    },
    {
     "name": "stdout",
     "output_type": "stream",
     "text": [
      "- Saving segmented image...\n",
      "- Generating segment IDs...\n",
      "Segmentation is completed in 8.56 seconds. Number of instances: 55\n",
      "\n",
      "Running step [9/10]\n",
      "- Generating raster image...\n",
      "- Saving raster image...\n",
      "- Applying segment-geospatial to raster image...\n"
     ]
    },
    {
     "name": "stderr",
     "output_type": "stream",
     "text": [
      "WARNING:root:files are already presents in ./result_subsamp_voxel folder, they will be deleted are you sure you want to continue [Y/N] ?\n",
      "WARNING:root:(--no-confirm) enabled, skip the question\n"
     ]
    },
    {
     "name": "stdout",
     "output_type": "stream",
     "text": [
      "- Saving segmented image...\n",
      "- Generating segment IDs...\n",
      "Segmentation is completed in 8.40 seconds. Number of instances: 38\n",
      "\n",
      "Running step [10/10]\n",
      "- Generating raster image...\n",
      "- Saving raster image...\n",
      "- Applying segment-geospatial to raster image...\n",
      "- Saving segmented image...\n",
      "- Generating segment IDs...\n",
      "Segmentation is completed in 8.48 seconds. Number of instances: 40\n",
      "\n"
     ]
    }
   ],
   "source": [
    "res = []\n",
    "s = 0\n",
    "for i in steps:\n",
    "    s+=1\n",
    "    print(f\"Running step [{s}/{len(steps)}]\")\n",
    "    res.append(\n",
    "        run(\n",
    "            pointclouds_folder=\"/mnt/Poznan_Internship/Data/Campus/\",\n",
    "            result_path=\".\",\n",
    "            result_folder_name=f\"result_subsamp_voxel\",\n",
    "            model_path=\"/mnt/Poznan_Internship/sam_vit_h_4b8939.pth\",\n",
    "            subsampling=i,\n",
    "            subsampling_method=\"uniform\",\n",
    "            no_confirm=True\n",
    "        )\n",
    "    )"
   ]
  },
  {
   "cell_type": "code",
   "execution_count": 11,
   "metadata": {},
   "outputs": [
    {
     "data": {
      "text/plain": [
       "[<matplotlib.lines.Line2D at 0x73cee012abe0>]"
      ]
     },
     "execution_count": 11,
     "metadata": {},
     "output_type": "execute_result"
    },
    {
     "data": {
      "image/png": "[encoded data removed]",
      "text/plain": [
       "<Figure size 640x480 with 1 Axes>"
      ]
     },
     "metadata": {},
     "output_type": "display_data"
    }
   ],
   "source": [
    "x = steps\n",
    "y = [list(r.values())[0] for r in res]\n",
    "plt.plot(x, y)"
   ]
  }
 ],
 "metadata": {
  "kernelspec": {
   "display_name": "sam-lidar",
   "language": "python",
   "name": "python3"
  },
  "language_info": {
   "codemirror_mode": {
    "name": "ipython",
    "version": 3
   },
   "file_extension": ".py",
   "mimetype": "text/x-python",
   "name": "python",
   "nbconvert_exporter": "python",
   "pygments_lexer": "ipython3",
   "version": "3.9.21"
  }
 },
 "nbformat": 4,
 "nbformat_minor": 2
}
