{
 "cells": [
  {
   "cell_type": "code",
   "execution_count": 3,
   "metadata": {},
   "outputs": [],
   "source": [
    "import matplotlib.pyplot as plt\n",
    "import numpy as np\n",
    "import LiSAM.lisam"
   ]
  },
  {
   "cell_type": "markdown",
   "metadata": {},
   "source": [
    "## Segmentation performance with points subsambling\n"
   ]
  },
  {
   "cell_type": "markdown",
   "metadata": {},
   "source": [
    "### Voxel subsampling\n"
   ]
  },
  {
   "cell_type": "code",
   "execution_count": null,
   "metadata": {},
   "outputs": [],
   "source": [
    "# Subsampling parameters\n",
    "start = 0\n",
    "end = 1.0\n",
    "num = 10\n",
    "steps = np.linspace(start, end, num)"
   ]
  },
  {
   "cell_type": "code",
   "execution_count": null,
   "metadata": {},
   "outputs": [
    {
     "name": "stdout",
     "output_type": "stream",
     "text": [
      "Jupyter environment detected. Enabling Open3D WebVisualizer.\n",
      "[Open3D INFO] WebRTC GUI backend enabled.\n",
      "[Open3D INFO] WebRTCWindowSystem: HTTP handshake server disabled.\n",
      "Running step [1/10]\n",
      "- Generating raster image...\n",
      "- Saving raster image...\n",
      "- Applying segment-geospatial to raster image...\n",
      "- Saving segmented image...\n",
      "- Generating segment IDs...\n"
     ]
    },
    {
     "name": "stderr",
     "output_type": "stream",
     "text": [
      "WARNING:root:files are already presents in ./result_subsamp_voxel folder, they will be deleted are you sure you want to continue [Y/N] ?\n",
      "WARNING:root:(--no-confirm) enabled, skip the question\n"
     ]
    },
    {
     "name": "stdout",
     "output_type": "stream",
     "text": [
      "Segmentation is completed in 13.15 seconds. Number of instances: 216\n",
      "\n",
      "Running step [2/10]\n",
      "- Generating raster image...\n",
      "- Saving raster image...\n",
      "- Applying segment-geospatial to raster image...\n",
      "- Saving segmented image...\n",
      "- Generating segment IDs...\n"
     ]
    },
    {
     "name": "stderr",
     "output_type": "stream",
     "text": [
      "WARNING:root:files are already presents in ./result_subsamp_voxel folder, they will be deleted are you sure you want to continue [Y/N] ?\n",
      "WARNING:root:(--no-confirm) enabled, skip the question\n"
     ]
    },
    {
     "name": "stdout",
     "output_type": "stream",
     "text": [
      "Segmentation is completed in 8.35 seconds. Number of instances: 212\n",
      "\n",
      "Running step [3/10]\n",
      "- Generating raster image...\n",
      "- Saving raster image...\n",
      "- Applying segment-geospatial to raster image...\n",
      "- Saving segmented image...\n",
      "- Generating segment IDs...\n"
     ]
    },
    {
     "name": "stderr",
     "output_type": "stream",
     "text": [
      "WARNING:root:files are already presents in ./result_subsamp_voxel folder, they will be deleted are you sure you want to continue [Y/N] ?\n",
      "WARNING:root:(--no-confirm) enabled, skip the question\n"
     ]
    },
    {
     "name": "stdout",
     "output_type": "stream",
     "text": [
      "Segmentation is completed in 7.66 seconds. Number of instances: 206\n",
      "\n",
      "Running step [4/10]\n",
      "- Generating raster image...\n",
      "- Saving raster image...\n",
      "- Applying segment-geospatial to raster image...\n"
     ]
    },
    {
     "name": "stderr",
     "output_type": "stream",
     "text": [
      "WARNING:root:files are already presents in ./result_subsamp_voxel folder, they will be deleted are you sure you want to continue [Y/N] ?\n",
      "WARNING:root:(--no-confirm) enabled, skip the question\n"
     ]
    },
    {
     "name": "stdout",
     "output_type": "stream",
     "text": [
      "- Saving segmented image...\n",
      "- Generating segment IDs...\n",
      "Segmentation is completed in 7.79 seconds. Number of instances: 99\n",
      "\n",
      "Running step [5/10]\n",
      "- Generating raster image...\n",
      "- Saving raster image...\n",
      "- Applying segment-geospatial to raster image...\n"
     ]
    },
    {
     "name": "stderr",
     "output_type": "stream",
     "text": [
      "WARNING:root:files are already presents in ./result_subsamp_voxel folder, they will be deleted are you sure you want to continue [Y/N] ?\n",
      "WARNING:root:(--no-confirm) enabled, skip the question\n"
     ]
    },
    {
     "name": "stdout",
     "output_type": "stream",
     "text": [
      "- Saving segmented image...\n",
      "- Generating segment IDs...\n",
      "Segmentation is completed in 8.09 seconds. Number of instances: 88\n",
      "\n",
      "Running step [6/10]\n",
      "- Generating raster image...\n",
      "- Saving raster image...\n",
      "- Applying segment-geospatial to raster image...\n"
     ]
    },
    {
     "name": "stderr",
     "output_type": "stream",
     "text": [
      "WARNING:root:files are already presents in ./result_subsamp_voxel folder, they will be deleted are you sure you want to continue [Y/N] ?\n",
      "WARNING:root:(--no-confirm) enabled, skip the question\n"
     ]
    },
    {
     "name": "stdout",
     "output_type": "stream",
     "text": [
      "- Saving segmented image...\n",
      "- Generating segment IDs...\n",
      "Segmentation is completed in 8.61 seconds. Number of instances: 69\n",
      "\n",
      "Running step [7/10]\n",
      "- Generating raster image...\n",
      "- Saving raster image...\n",
      "- Applying segment-geospatial to raster image...\n"
     ]
    },
    {
     "name": "stderr",
     "output_type": "stream",
     "text": [
      "WARNING:root:files are already presents in ./result_subsamp_voxel folder, they will be deleted are you sure you want to continue [Y/N] ?\n",
      "WARNING:root:(--no-confirm) enabled, skip the question\n"
     ]
    },
    {
     "name": "stdout",
     "output_type": "stream",
     "text": [
      "- Saving segmented image...\n",
      "- Generating segment IDs...\n",
      "Segmentation is completed in 8.66 seconds. Number of instances: 35\n",
      "\n",
      "Running step [8/10]\n",
      "- Generating raster image...\n",
      "- Saving raster image...\n",
      "- Applying segment-geospatial to raster image...\n"
     ]
    },
    {
     "name": "stderr",
     "output_type": "stream",
     "text": [
      "WARNING:root:files are already presents in ./result_subsamp_voxel folder, they will be deleted are you sure you want to continue [Y/N] ?\n",
      "WARNING:root:(--no-confirm) enabled, skip the question\n"
     ]
    },
    {
     "name": "stdout",
     "output_type": "stream",
     "text": [
      "- Saving segmented image...\n",
      "- Generating segment IDs...\n",
      "Segmentation is completed in 8.61 seconds. Number of instances: 24\n",
      "\n",
      "Running step [9/10]\n",
      "- Generating raster image...\n",
      "- Saving raster image...\n",
      "- Applying segment-geospatial to raster image...\n"
     ]
    },
    {
     "name": "stderr",
     "output_type": "stream",
     "text": [
      "WARNING:root:files are already presents in ./result_subsamp_voxel folder, they will be deleted are you sure you want to continue [Y/N] ?\n",
      "WARNING:root:(--no-confirm) enabled, skip the question\n"
     ]
    },
    {
     "name": "stdout",
     "output_type": "stream",
     "text": [
      "- Saving segmented image...\n",
      "- Generating segment IDs...\n",
      "Segmentation is completed in 8.36 seconds. Number of instances: 13\n",
      "\n",
      "Running step [10/10]\n",
      "- Generating raster image...\n",
      "- Saving raster image...\n",
      "- Applying segment-geospatial to raster image...\n",
      "- Saving segmented image...\n",
      "- Generating segment IDs...\n",
      "Segmentation is completed in 13.72 seconds. Number of instances: 11\n",
      "\n"
     ]
    }
   ],
   "source": [
    "res = []\n",
    "s = 0\n",
    "for i in steps:\n",
    "    s+=1\n",
    "    print(f\"Running step [{s}/{len(steps)}]\")\n",
    "    res.append(\n",
    "        LiSAM.lisam.run(\n",
    "            pointclouds_folder=\"/mnt/Poznan_Internship/Data/Campus/\",\n",
    "            result_path=\".\",\n",
    "            result_folder_name=f\"result_subsamp_voxel\",\n",
    "            model_path=\"/mnt/Poznan_Internship/sam_vit_h_4b8939.pth\",\n",
    "            subsampling=i,\n",
    "            subsampling_method=\"voxel\",\n",
    "            no_confirm=True\n",
    "        )\n",
    "    )"
   ]
  },
  {
   "cell_type": "code",
   "execution_count": null,
   "metadata": {},
   "outputs": [],
   "source": [
    "x = steps\n",
    "y = [list(r.values())[0] for r in res]\n",
    "plt.plot(x, y)"
   ]
  },
  {
   "cell_type": "code",
   "execution_count": 31,
   "metadata": {},
   "outputs": [
    {
     "name": "stderr",
     "output_type": "stream",
     "text": [
      "WARNING:root:files are already presents in ./result_subsamp_voxel folder, they will be deleted are you sure you want to continue [Y/N] ?\n",
      "WARNING:root:(--no-confirm) enabled, skip the question\n"
     ]
    },
    {
     "name": "stdout",
     "output_type": "stream",
     "text": [
      "Running step [1/10]\n",
      "- Generating raster image...\n",
      "- Saving raster image...\n",
      "- Applying segment-geospatial to raster image...\n",
      "- Saving segmented image...\n",
      "- Generating segment IDs...\n"
     ]
    },
    {
     "name": "stderr",
     "output_type": "stream",
     "text": [
      "WARNING:root:files are already presents in ./result_subsamp_voxel folder, they will be deleted are you sure you want to continue [Y/N] ?\n",
      "WARNING:root:(--no-confirm) enabled, skip the question\n"
     ]
    },
    {
     "name": "stdout",
     "output_type": "stream",
     "text": [
      "Segmentation is completed in 9.75 seconds. Number of instances: 216\n",
      "\n",
      "Running step [2/10]\n",
      "- Generating raster image...\n",
      "- Saving raster image...\n",
      "- Applying segment-geospatial to raster image...\n",
      "- Saving segmented image...\n",
      "- Generating segment IDs...\n"
     ]
    },
    {
     "name": "stderr",
     "output_type": "stream",
     "text": [
      "WARNING:root:files are already presents in ./result_subsamp_voxel folder, they will be deleted are you sure you want to continue [Y/N] ?\n",
      "WARNING:root:(--no-confirm) enabled, skip the question\n"
     ]
    },
    {
     "name": "stdout",
     "output_type": "stream",
     "text": [
      "Segmentation is completed in 7.43 seconds. Number of instances: 205\n",
      "\n",
      "Running step [3/10]\n",
      "- Generating raster image...\n",
      "- Saving raster image...\n",
      "- Applying segment-geospatial to raster image...\n",
      "- Saving segmented image...\n",
      "- Generating segment IDs...\n"
     ]
    },
    {
     "name": "stderr",
     "output_type": "stream",
     "text": [
      "WARNING:root:files are already presents in ./result_subsamp_voxel folder, they will be deleted are you sure you want to continue [Y/N] ?\n",
      "WARNING:root:(--no-confirm) enabled, skip the question\n"
     ]
    },
    {
     "name": "stdout",
     "output_type": "stream",
     "text": [
      "Segmentation is completed in 8.06 seconds. Number of instances: 217\n",
      "\n",
      "Running step [4/10]\n",
      "- Generating raster image...\n",
      "- Saving raster image...\n",
      "- Applying segment-geospatial to raster image...\n",
      "- Saving segmented image...\n",
      "- Generating segment IDs...\n"
     ]
    },
    {
     "name": "stderr",
     "output_type": "stream",
     "text": [
      "WARNING:root:files are already presents in ./result_subsamp_voxel folder, they will be deleted are you sure you want to continue [Y/N] ?\n",
      "WARNING:root:(--no-confirm) enabled, skip the question\n"
     ]
    },
    {
     "name": "stdout",
     "output_type": "stream",
     "text": [
      "Segmentation is completed in 8.14 seconds. Number of instances: 206\n",
      "\n",
      "Running step [5/10]\n",
      "- Generating raster image...\n",
      "- Saving raster image...\n",
      "- Applying segment-geospatial to raster image...\n",
      "- Saving segmented image...\n",
      "- Generating segment IDs...\n"
     ]
    },
    {
     "name": "stderr",
     "output_type": "stream",
     "text": [
      "WARNING:root:files are already presents in ./result_subsamp_voxel folder, they will be deleted are you sure you want to continue [Y/N] ?\n",
      "WARNING:root:(--no-confirm) enabled, skip the question\n"
     ]
    },
    {
     "name": "stdout",
     "output_type": "stream",
     "text": [
      "Segmentation is completed in 8.52 seconds. Number of instances: 215\n",
      "\n",
      "Running step [6/10]\n",
      "- Generating raster image...\n",
      "- Saving raster image...\n",
      "- Applying segment-geospatial to raster image...\n",
      "- Saving segmented image...\n",
      "- Generating segment IDs...\n"
     ]
    },
    {
     "name": "stderr",
     "output_type": "stream",
     "text": [
      "WARNING:root:files are already presents in ./result_subsamp_voxel folder, they will be deleted are you sure you want to continue [Y/N] ?\n",
      "WARNING:root:(--no-confirm) enabled, skip the question\n"
     ]
    },
    {
     "name": "stdout",
     "output_type": "stream",
     "text": [
      "Segmentation is completed in 8.87 seconds. Number of instances: 216\n",
      "\n",
      "Running step [7/10]\n",
      "- Generating raster image...\n",
      "- Saving raster image...\n",
      "- Applying segment-geospatial to raster image...\n",
      "- Saving segmented image...\n",
      "- Generating segment IDs...\n"
     ]
    },
    {
     "name": "stderr",
     "output_type": "stream",
     "text": [
      "WARNING:root:files are already presents in ./result_subsamp_voxel folder, they will be deleted are you sure you want to continue [Y/N] ?\n",
      "WARNING:root:(--no-confirm) enabled, skip the question\n"
     ]
    },
    {
     "name": "stdout",
     "output_type": "stream",
     "text": [
      "Segmentation is completed in 9.45 seconds. Number of instances: 221\n",
      "\n",
      "Running step [8/10]\n",
      "- Generating raster image...\n",
      "- Saving raster image...\n",
      "- Applying segment-geospatial to raster image...\n",
      "- Saving segmented image...\n",
      "- Generating segment IDs...\n"
     ]
    },
    {
     "name": "stderr",
     "output_type": "stream",
     "text": [
      "WARNING:root:files are already presents in ./result_subsamp_voxel folder, they will be deleted are you sure you want to continue [Y/N] ?\n",
      "WARNING:root:(--no-confirm) enabled, skip the question\n"
     ]
    },
    {
     "name": "stdout",
     "output_type": "stream",
     "text": [
      "Segmentation is completed in 10.01 seconds. Number of instances: 222\n",
      "\n",
      "Running step [9/10]\n",
      "- Generating raster image...\n",
      "- Saving raster image...\n",
      "- Applying segment-geospatial to raster image...\n",
      "- Saving segmented image...\n",
      "- Generating segment IDs...\n"
     ]
    },
    {
     "name": "stderr",
     "output_type": "stream",
     "text": [
      "WARNING:root:files are already presents in ./result_subsamp_voxel folder, they will be deleted are you sure you want to continue [Y/N] ?\n",
      "WARNING:root:(--no-confirm) enabled, skip the question\n"
     ]
    },
    {
     "name": "stdout",
     "output_type": "stream",
     "text": [
      "Segmentation is completed in 9.97 seconds. Number of instances: 213\n",
      "\n",
      "Running step [10/10]\n",
      "- Generating raster image...\n",
      "- Saving raster image...\n",
      "- Applying segment-geospatial to raster image...\n",
      "- Saving segmented image...\n",
      "- Generating segment IDs...\n",
      "Segmentation is completed in 10.29 seconds. Number of instances: 216\n",
      "\n"
     ]
    }
   ],
   "source": [
    "res = []\n",
    "s = 0\n",
    "for i in steps:\n",
    "    s+=1\n",
    "    print(f\"Running step [{s}/{len(steps)}]\")\n",
    "    res.append(\n",
    "        LiSAM.lisam.run(\n",
    "            pointclouds_folder=\"/mnt/Poznan_Internship/Data/Campus/\",\n",
    "            result_path=\".\",\n",
    "            result_folder_name=f\"result_subsamp_voxel\",\n",
    "            model_path=\"/mnt/Poznan_Internship/sam_vit_h_4b8939.pth\",\n",
    "            subsampling=i,\n",
    "            subsampling_method=\"random\",\n",
    "            no_confirm=True\n",
    "        )\n",
    "    )"
   ]
  },
  {
   "cell_type": "code",
   "execution_count": 32,
   "metadata": {},
   "outputs": [
    {
     "data": {
      "text/plain": [
       "[<matplotlib.lines.Line2D at 0x76ccfd995be0>]"
      ]
     },
     "execution_count": 32,
     "metadata": {},
     "output_type": "execute_result"
    },
    {
     "data": {
      "image/png": "[encoded data removed]",
      "text/plain": [
       "<Figure size 640x480 with 1 Axes>"
      ]
     },
     "metadata": {},
     "output_type": "display_data"
    }
   ],
   "source": [
    "x = steps\n",
    "y = [list(r.values())[0] for r in res]\n",
    "plt.plot(x, y)"
   ]
  },
  {
   "cell_type": "code",
   "execution_count": 4,
   "metadata": {},
   "outputs": [],
   "source": [
    "start = 0\n",
    "end = 200\n",
    "num = 10\n",
    "steps = np.linspace(start, end, num)"
   ]
  },
  {
   "cell_type": "code",
   "execution_count": 5,
   "metadata": {},
   "outputs": [
    {
     "name": "stderr",
     "output_type": "stream",
     "text": [
      "WARNING:root:files are already presents in ./result_subsamp_voxel folder, they will be deleted are you sure you want to continue [Y/N] ?\n",
      "WARNING:root:(--no-confirm) enabled, skip the question\n"
     ]
    },
    {
     "name": "stdout",
     "output_type": "stream",
     "text": [
      "Running step [1/10]\n",
      "- Generating raster image...\n",
      "- Saving raster image...\n",
      "- Applying segment-geospatial to raster image...\n",
      "- Saving segmented image...\n",
      "- Generating segment IDs...\n"
     ]
    },
    {
     "name": "stderr",
     "output_type": "stream",
     "text": [
      "WARNING:root:files are already presents in ./result_subsamp_voxel folder, they will be deleted are you sure you want to continue [Y/N] ?\n",
      "WARNING:root:(--no-confirm) enabled, skip the question\n"
     ]
    },
    {
     "name": "stdout",
     "output_type": "stream",
     "text": [
      "Segmentation is completed in 12.27 seconds. Number of instances: 216\n",
      "\n",
      "Running step [2/10]\n",
      "- Generating raster image...\n",
      "- Saving raster image...\n",
      "- Applying segment-geospatial to raster image...\n"
     ]
    },
    {
     "name": "stderr",
     "output_type": "stream",
     "text": [
      "WARNING:root:files are already presents in ./result_subsamp_voxel folder, they will be deleted are you sure you want to continue [Y/N] ?\n",
      "WARNING:root:(--no-confirm) enabled, skip the question\n"
     ]
    },
    {
     "name": "stdout",
     "output_type": "stream",
     "text": [
      "- Saving segmented image...\n",
      "- Generating segment IDs...\n",
      "Segmentation is completed in 7.50 seconds. Number of instances: 150\n",
      "\n",
      "Running step [3/10]\n",
      "- Generating raster image...\n",
      "- Saving raster image...\n",
      "- Applying segment-geospatial to raster image...\n"
     ]
    },
    {
     "name": "stderr",
     "output_type": "stream",
     "text": [
      "WARNING:root:files are already presents in ./result_subsamp_voxel folder, they will be deleted are you sure you want to continue [Y/N] ?\n",
      "WARNING:root:(--no-confirm) enabled, skip the question\n"
     ]
    },
    {
     "name": "stdout",
     "output_type": "stream",
     "text": [
      "- Saving segmented image...\n",
      "- Generating segment IDs...\n",
      "Segmentation is completed in 7.80 seconds. Number of instances: 119\n",
      "\n",
      "Running step [4/10]\n",
      "- Generating raster image...\n",
      "- Saving raster image...\n",
      "- Applying segment-geospatial to raster image...\n"
     ]
    },
    {
     "name": "stderr",
     "output_type": "stream",
     "text": [
      "WARNING:root:files are already presents in ./result_subsamp_voxel folder, they will be deleted are you sure you want to continue [Y/N] ?\n",
      "WARNING:root:(--no-confirm) enabled, skip the question\n"
     ]
    },
    {
     "name": "stdout",
     "output_type": "stream",
     "text": [
      "- Saving segmented image...\n",
      "- Generating segment IDs...\n",
      "Segmentation is completed in 7.94 seconds. Number of instances: 103\n",
      "\n",
      "Running step [5/10]\n",
      "- Generating raster image...\n",
      "- Saving raster image...\n",
      "- Applying segment-geospatial to raster image...\n"
     ]
    },
    {
     "name": "stderr",
     "output_type": "stream",
     "text": [
      "WARNING:root:files are already presents in ./result_subsamp_voxel folder, they will be deleted are you sure you want to continue [Y/N] ?\n",
      "WARNING:root:(--no-confirm) enabled, skip the question\n"
     ]
    },
    {
     "name": "stdout",
     "output_type": "stream",
     "text": [
      "- Saving segmented image...\n",
      "- Generating segment IDs...\n",
      "Segmentation is completed in 8.11 seconds. Number of instances: 84\n",
      "\n",
      "Running step [6/10]\n",
      "- Generating raster image...\n",
      "- Saving raster image...\n",
      "- Applying segment-geospatial to raster image...\n"
     ]
    },
    {
     "name": "stderr",
     "output_type": "stream",
     "text": [
      "WARNING:root:files are already presents in ./result_subsamp_voxel folder, they will be deleted are you sure you want to continue [Y/N] ?\n",
      "WARNING:root:(--no-confirm) enabled, skip the question\n"
     ]
    },
    {
     "name": "stdout",
     "output_type": "stream",
     "text": [
      "- Saving segmented image...\n",
      "- Generating segment IDs...\n",
      "Segmentation is completed in 8.21 seconds. Number of instances: 82\n",
      "\n",
      "Running step [7/10]\n",
      "- Generating raster image...\n",
      "- Saving raster image...\n",
      "- Applying segment-geospatial to raster image...\n"
     ]
    },
    {
     "name": "stderr",
     "output_type": "stream",
     "text": [
      "WARNING:root:files are already presents in ./result_subsamp_voxel folder, they will be deleted are you sure you want to continue [Y/N] ?\n",
      "WARNING:root:(--no-confirm) enabled, skip the question\n"
     ]
    },
    {
     "name": "stdout",
     "output_type": "stream",
     "text": [
      "- Saving segmented image...\n",
      "- Generating segment IDs...\n",
      "Segmentation is completed in 8.34 seconds. Number of instances: 68\n",
      "\n",
      "Running step [8/10]\n",
      "- Generating raster image...\n",
      "- Saving raster image...\n",
      "- Applying segment-geospatial to raster image...\n"
     ]
    },
    {
     "name": "stderr",
     "output_type": "stream",
     "text": [
      "WARNING:root:files are already presents in ./result_subsamp_voxel folder, they will be deleted are you sure you want to continue [Y/N] ?\n",
      "WARNING:root:(--no-confirm) enabled, skip the question\n"
     ]
    },
    {
     "name": "stdout",
     "output_type": "stream",
     "text": [
      "- Saving segmented image...\n",
      "- Generating segment IDs...\n",
      "Segmentation is completed in 8.43 seconds. Number of instances: 55\n",
      "\n",
      "Running step [9/10]\n",
      "- Generating raster image...\n",
      "- Saving raster image...\n",
      "- Applying segment-geospatial to raster image...\n"
     ]
    },
    {
     "name": "stderr",
     "output_type": "stream",
     "text": [
      "WARNING:root:files are already presents in ./result_subsamp_voxel folder, they will be deleted are you sure you want to continue [Y/N] ?\n",
      "WARNING:root:(--no-confirm) enabled, skip the question\n"
     ]
    },
    {
     "name": "stdout",
     "output_type": "stream",
     "text": [
      "- Saving segmented image...\n",
      "- Generating segment IDs...\n",
      "Segmentation is completed in 8.36 seconds. Number of instances: 38\n",
      "\n",
      "Running step [10/10]\n",
      "- Generating raster image...\n",
      "- Saving raster image...\n",
      "- Applying segment-geospatial to raster image...\n",
      "- Saving segmented image...\n",
      "- Generating segment IDs...\n",
      "Segmentation is completed in 8.43 seconds. Number of instances: 40\n",
      "\n"
     ]
    }
   ],
   "source": [
    "res = []\n",
    "s = 0\n",
    "for i in steps:\n",
    "    s+=1\n",
    "    print(f\"Running step [{s}/{len(steps)}]\")\n",
    "    res.append(\n",
    "        LiSAM.lisam.run(\n",
    "            pointclouds_folder=\"/mnt/Poznan_Internship/Data/Campus/\",\n",
    "            result_path=\".\",\n",
    "            result_folder_name=f\"result_subsamp_voxel\",\n",
    "            model_path=\"/mnt/Poznan_Internship/sam_vit_h_4b8939.pth\",\n",
    "            subsampling=i,\n",
    "            subsampling_method=\"uniform\",\n",
    "            no_confirm=True\n",
    "        )\n",
    "    )"
   ]
  },
  {
   "cell_type": "code",
   "execution_count": 6,
   "metadata": {},
   "outputs": [
    {
     "data": {
      "text/plain": [
       "[<matplotlib.lines.Line2D at 0x76ae5c2928e0>]"
      ]
     },
     "execution_count": 6,
     "metadata": {},
     "output_type": "execute_result"
    },
    {
     "data": {
      "image/png": "[encoded data removed]",
      "text/plain": [
       "<Figure size 640x480 with 1 Axes>"
      ]
     },
     "metadata": {},
     "output_type": "display_data"
    }
   ],
   "source": [
    "x = steps\n",
    "y = [list(r.values())[0] for r in res]\n",
    "plt.plot(x, y)"
   ]
  }
 ],
 "metadata": {
  "kernelspec": {
   "display_name": "sam-lidar",
   "language": "python",
   "name": "python3"
  },
  "language_info": {
   "codemirror_mode": {
    "name": "ipython",
    "version": 3
   },
   "file_extension": ".py",
   "mimetype": "text/x-python",
   "name": "python",
   "nbconvert_exporter": "python",
   "pygments_lexer": "ipython3",
   "version": "3.9.21"
  }
 },
 "nbformat": 4,
 "nbformat_minor": 2
}
