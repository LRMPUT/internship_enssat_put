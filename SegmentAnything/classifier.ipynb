{
 "cells": [
  {
   "cell_type": "markdown",
   "metadata": {},
   "source": [
    "# Use result of segment.ipynb to classify\n"
   ]
  },
  {
   "cell_type": "code",
   "execution_count": 1,
   "metadata": {},
   "outputs": [],
   "source": [
    "from sklearn.ensemble import AdaBoostClassifier\n",
    "import PIL.Image as pil\n",
    "import skops.io as skio\n",
    "import numpy as np"
   ]
  },
  {
   "cell_type": "code",
   "execution_count": 2,
   "metadata": {},
   "outputs": [],
   "source": [
    "RASTER_PATH = \"../no_subsampling/raster__mnt_Poznan_Internship_Data_Campus_cloud2853085222bfe35e_Block_3.las.tif\"\n",
    "LABEL_PATH = \"../no_subsampling/label__mnt_Poznan_Internship_Data_Campus_cloud2853085222bfe35e_Block_3.las.tif\"\n",
    "MODEL_PATH = \"./classifier.skops\"\n",
    "MODEL_TYPE = AdaBoostClassifier"
   ]
  },
  {
   "cell_type": "code",
   "execution_count": 3,
   "metadata": {},
   "outputs": [
    {
     "data": {
      "text/plain": [
       "{'algorithm': 'deprecated',\n",
       " 'estimator': None,\n",
       " 'learning_rate': 1.0,\n",
       " 'n_estimators': 50,\n",
       " 'random_state': None}"
      ]
     },
     "execution_count": 3,
     "metadata": {},
     "output_type": "execute_result"
    }
   ],
   "source": [
    "raster_img = pil.open(RASTER_PATH)\n",
    "raster_data = np.array(raster_img.getdata())\n",
    "label_img = pil.open(LABEL_PATH)\n",
    "label_data = np.array(label_img.getdata())\n",
    "model: MODEL_TYPE = skio.load(MODEL_PATH)\n",
    "model.get_params()"
   ]
  },
  {
   "cell_type": "code",
   "execution_count": 4,
   "metadata": {},
   "outputs": [
    {
     "data": {
      "text/plain": [
       "array([   0,    2,    4, ..., 1743, 1744, 1745])"
      ]
     },
     "execution_count": 4,
     "metadata": {},
     "output_type": "execute_result"
    }
   ],
   "source": [
    "labels = np.unique(label_data)\n",
    "labels"
   ]
  },
  {
   "cell_type": "code",
   "execution_count": 7,
   "metadata": {},
   "outputs": [
    {
     "name": "stdout",
     "output_type": "stream",
     "text": [
      "(1616369, 2)\n",
      "(2679205, 3)\n"
     ]
    },
    {
     "ename": "IndexError",
     "evalue": "too many indices for array: array is 2-dimensional, but 3 were indexed",
     "output_type": "error",
     "traceback": [
      "\u001b[0;31m---------------------------------------------------------------------------\u001b[0m",
      "\u001b[0;31mIndexError\u001b[0m                                Traceback (most recent call last)",
      "Cell \u001b[0;32mIn[7], line 22\u001b[0m\n\u001b[1;32m     19\u001b[0m segment \u001b[38;5;241m=\u001b[39m result[minx:maxx \u001b[38;5;241m+\u001b[39m \u001b[38;5;241m1\u001b[39m, miny:maxy \u001b[38;5;241m+\u001b[39m \u001b[38;5;241m1\u001b[39m]\n\u001b[1;32m     20\u001b[0m \u001b[38;5;28mprint\u001b[39m(segment\u001b[38;5;241m.\u001b[39mshape)\n\u001b[1;32m     21\u001b[0m segments_img\u001b[38;5;241m.\u001b[39mupdate({l: [\n\u001b[0;32m---> 22\u001b[0m     np\u001b[38;5;241m.\u001b[39mmean(\u001b[43msegment\u001b[49m\u001b[43m[\u001b[49m\u001b[43m:\u001b[49m\u001b[43m,\u001b[49m\u001b[43m \u001b[49m\u001b[43m:\u001b[49m\u001b[43m,\u001b[49m\u001b[43m \u001b[49m\u001b[38;5;241;43m0\u001b[39;49m\u001b[43m]\u001b[49m),\n\u001b[1;32m     23\u001b[0m     np\u001b[38;5;241m.\u001b[39mmean(segment[:, :, \u001b[38;5;241m1\u001b[39m]),\n\u001b[1;32m     24\u001b[0m     np\u001b[38;5;241m.\u001b[39mmean(segment[:, :, \u001b[38;5;241m2\u001b[39m]),\n\u001b[1;32m     25\u001b[0m     np\u001b[38;5;241m.\u001b[39mmedian(segment[:, :, \u001b[38;5;241m0\u001b[39m]),\n\u001b[1;32m     26\u001b[0m     np\u001b[38;5;241m.\u001b[39mmedian(segment[:, :, \u001b[38;5;241m1\u001b[39m]),\n\u001b[1;32m     27\u001b[0m     np\u001b[38;5;241m.\u001b[39mmedian(segment[:, :, \u001b[38;5;241m2\u001b[39m])\n\u001b[1;32m     28\u001b[0m ]})\n",
      "\u001b[0;31mIndexError\u001b[0m: too many indices for array: array is 2-dimensional, but 3 were indexed"
     ]
    }
   ],
   "source": [
    "segments_img = dict()\n",
    "filter_size = 1000\n",
    "\n",
    "mask = np.zeros(raster_data.shape, dtype=int)\n",
    "\n",
    "for l in labels:\n",
    "    mask[label_data == l] = [1, 1, 1]\n",
    "    result = raster_data * mask\n",
    "    mask[:, :] = [0, 0, 0]\n",
    "    seg = np.argwhere(result)\n",
    "    print(seg.shape)\n",
    "    if not seg.shape[0] or not seg.shape[1]:\n",
    "        continue\n",
    "    if np.sum(seg.shape[:1]) < filter_size:\n",
    "        continue\n",
    "\n",
    "    minx, maxx = np.min(seg[:, 0]), np.max(seg[:, 0])\n",
    "    miny, maxy = np.min(seg[:, 1]), np.max(seg[:, 1])\n",
    "    segment = result[minx:maxx + 1, miny:maxy + 1]\n",
    "    print(segment.shape)\n",
    "    segments_img.update({l: [\n",
    "        np.mean(segment[:, :, 0]),\n",
    "        np.mean(segment[:, :, 1]),\n",
    "        np.mean(segment[:, :, 2]),\n",
    "        np.median(segment[:, :, 0]),\n",
    "        np.median(segment[:, :, 1]),\n",
    "        np.median(segment[:, :, 2])\n",
    "    ]})"
   ]
  }
 ],
 "metadata": {
  "kernelspec": {
   "display_name": "Python 3",
   "language": "python",
   "name": "python3"
  },
  "language_info": {
   "codemirror_mode": {
    "name": "ipython",
    "version": 3
   },
   "file_extension": ".py",
   "mimetype": "text/x-python",
   "name": "python",
   "nbconvert_exporter": "python",
   "pygments_lexer": "ipython3",
   "version": "3.9.21"
  }
 },
 "nbformat": 4,
 "nbformat_minor": 2
}
